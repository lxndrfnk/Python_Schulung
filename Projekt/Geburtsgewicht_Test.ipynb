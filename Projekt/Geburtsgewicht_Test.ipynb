{
 "cells": [
  {
   "cell_type": "code",
   "execution_count": 1,
   "id": "e9e30a6d",
   "metadata": {},
   "outputs": [
    {
     "data": {
      "text/html": [
       "<div>\n",
       "<style scoped>\n",
       "    .dataframe tbody tr th:only-of-type {\n",
       "        vertical-align: middle;\n",
       "    }\n",
       "\n",
       "    .dataframe tbody tr th {\n",
       "        vertical-align: top;\n",
       "    }\n",
       "\n",
       "    .dataframe thead th {\n",
       "        text-align: right;\n",
       "    }\n",
       "</style>\n",
       "<table border=\"1\" class=\"dataframe\">\n",
       "  <thead>\n",
       "    <tr style=\"text-align: right;\">\n",
       "      <th></th>\n",
       "      <th>Fall</th>\n",
       "      <th>Geburtsgewicht [g]</th>\n",
       "      <th>Schwangerschaftsdauer [d]</th>\n",
       "      <th>Erstschwangerschaft</th>\n",
       "      <th>Alter der Mutter in Jahren</th>\n",
       "      <th>Körpergröße [cm]</th>\n",
       "      <th>Gewicht der Mutter [kg]</th>\n",
       "      <th>Mutter raucht</th>\n",
       "    </tr>\n",
       "  </thead>\n",
       "  <tbody>\n",
       "    <tr>\n",
       "      <th>0</th>\n",
       "      <td>1</td>\n",
       "      <td>3402</td>\n",
       "      <td>284</td>\n",
       "      <td>0</td>\n",
       "      <td>27</td>\n",
       "      <td>157</td>\n",
       "      <td>45</td>\n",
       "      <td>0</td>\n",
       "    </tr>\n",
       "    <tr>\n",
       "      <th>1</th>\n",
       "      <td>2</td>\n",
       "      <td>3203</td>\n",
       "      <td>282</td>\n",
       "      <td>0</td>\n",
       "      <td>33</td>\n",
       "      <td>163</td>\n",
       "      <td>61</td>\n",
       "      <td>0</td>\n",
       "    </tr>\n",
       "    <tr>\n",
       "      <th>2</th>\n",
       "      <td>3</td>\n",
       "      <td>3629</td>\n",
       "      <td>279</td>\n",
       "      <td>0</td>\n",
       "      <td>28</td>\n",
       "      <td>163</td>\n",
       "      <td>52</td>\n",
       "      <td>1</td>\n",
       "    </tr>\n",
       "    <tr>\n",
       "      <th>4</th>\n",
       "      <td>5</td>\n",
       "      <td>3062</td>\n",
       "      <td>282</td>\n",
       "      <td>0</td>\n",
       "      <td>23</td>\n",
       "      <td>170</td>\n",
       "      <td>57</td>\n",
       "      <td>1</td>\n",
       "    </tr>\n",
       "    <tr>\n",
       "      <th>5</th>\n",
       "      <td>6</td>\n",
       "      <td>3856</td>\n",
       "      <td>286</td>\n",
       "      <td>0</td>\n",
       "      <td>25</td>\n",
       "      <td>157</td>\n",
       "      <td>42</td>\n",
       "      <td>0</td>\n",
       "    </tr>\n",
       "    <tr>\n",
       "      <th>...</th>\n",
       "      <td>...</td>\n",
       "      <td>...</td>\n",
       "      <td>...</td>\n",
       "      <td>...</td>\n",
       "      <td>...</td>\n",
       "      <td>...</td>\n",
       "      <td>...</td>\n",
       "      <td>...</td>\n",
       "    </tr>\n",
       "    <tr>\n",
       "      <th>1231</th>\n",
       "      <td>1232</td>\n",
       "      <td>3203</td>\n",
       "      <td>275</td>\n",
       "      <td>1</td>\n",
       "      <td>27</td>\n",
       "      <td>152</td>\n",
       "      <td>45</td>\n",
       "      <td>0</td>\n",
       "    </tr>\n",
       "    <tr>\n",
       "      <th>1232</th>\n",
       "      <td>1233</td>\n",
       "      <td>3629</td>\n",
       "      <td>265</td>\n",
       "      <td>0</td>\n",
       "      <td>24</td>\n",
       "      <td>170</td>\n",
       "      <td>54</td>\n",
       "      <td>0</td>\n",
       "    </tr>\n",
       "    <tr>\n",
       "      <th>1233</th>\n",
       "      <td>1234</td>\n",
       "      <td>3685</td>\n",
       "      <td>291</td>\n",
       "      <td>0</td>\n",
       "      <td>30</td>\n",
       "      <td>165</td>\n",
       "      <td>68</td>\n",
       "      <td>1</td>\n",
       "    </tr>\n",
       "    <tr>\n",
       "      <th>1234</th>\n",
       "      <td>1235</td>\n",
       "      <td>3544</td>\n",
       "      <td>281</td>\n",
       "      <td>1</td>\n",
       "      <td>21</td>\n",
       "      <td>165</td>\n",
       "      <td>50</td>\n",
       "      <td>0</td>\n",
       "    </tr>\n",
       "    <tr>\n",
       "      <th>1235</th>\n",
       "      <td>1236</td>\n",
       "      <td>3317</td>\n",
       "      <td>297</td>\n",
       "      <td>0</td>\n",
       "      <td>38</td>\n",
       "      <td>165</td>\n",
       "      <td>59</td>\n",
       "      <td>0</td>\n",
       "    </tr>\n",
       "  </tbody>\n",
       "</table>\n",
       "<p>1174 rows × 8 columns</p>\n",
       "</div>"
      ],
      "text/plain": [
       "      Fall  Geburtsgewicht [g]  Schwangerschaftsdauer [d]  \\\n",
       "0        1                3402                        284   \n",
       "1        2                3203                        282   \n",
       "2        3                3629                        279   \n",
       "4        5                3062                        282   \n",
       "5        6                3856                        286   \n",
       "...    ...                 ...                        ...   \n",
       "1231  1232                3203                        275   \n",
       "1232  1233                3629                        265   \n",
       "1233  1234                3685                        291   \n",
       "1234  1235                3544                        281   \n",
       "1235  1236                3317                        297   \n",
       "\n",
       "      Erstschwangerschaft  Alter der Mutter in Jahren  Körpergröße [cm]  \\\n",
       "0                       0                          27               157   \n",
       "1                       0                          33               163   \n",
       "2                       0                          28               163   \n",
       "4                       0                          23               170   \n",
       "5                       0                          25               157   \n",
       "...                   ...                         ...               ...   \n",
       "1231                    1                          27               152   \n",
       "1232                    0                          24               170   \n",
       "1233                    0                          30               165   \n",
       "1234                    1                          21               165   \n",
       "1235                    0                          38               165   \n",
       "\n",
       "      Gewicht der Mutter [kg]  Mutter raucht  \n",
       "0                          45              0  \n",
       "1                          61              0  \n",
       "2                          52              1  \n",
       "4                          57              1  \n",
       "5                          42              0  \n",
       "...                       ...            ...  \n",
       "1231                       45              0  \n",
       "1232                       54              0  \n",
       "1233                       68              1  \n",
       "1234                       50              0  \n",
       "1235                       59              0  \n",
       "\n",
       "[1174 rows x 8 columns]"
      ]
     },
     "execution_count": 1,
     "metadata": {},
     "output_type": "execute_result"
    }
   ],
   "source": [
    "import pandas as pd \n",
    "\n",
    "df = pd.read_csv(\"Geburtsgewicht.csv\", na_values=[\"NA\"]) # csv-Datei gelesen, Einträge mit \"NA\" sollen als fehlend behandelt werden\n",
    "\n",
    "df.columns = [\"Fall\", # Spaltenüberschrift geändert\n",
    "              \"Geburtsgewicht in Unzen\", \n",
    "              \"Schwangerschaftsdauer [d]\",\n",
    "              \"Erstschwangerschaft\",\n",
    "              \"Alter der Mutter in Jahren\",\n",
    "              \"Körpergröße der Mutter in Zoll\",\n",
    "              \"Körpergewicht der Mutter in Pfund\",\n",
    "              \"Mutter raucht\"]  \n",
    "\n",
    "# print(df.isna().sum()) # Gibt die Summe der Einträge \"NA\" pro Spalte an\n",
    "\n",
    "df_clean = df.dropna().copy() # Löscht alle Zeilen, die einen fehlenden Eintrag (\"NA\") enthalten\n",
    "\n",
    "# df_clean\n",
    "\n",
    "df_clean[\"Geburtsgewicht in Unzen\"] = df_clean[\"Geburtsgewicht in Unzen\"] * 28.3495 # Unzen in Gramm, Überschrift geändert\n",
    "df_clean.rename(columns={\"Geburtsgewicht in Unzen\": \"Geburtsgewicht [g]\"}, inplace=True) \n",
    "\n",
    "df_clean[\"Körpergröße der Mutter in Zoll\"] = df_clean[\"Körpergröße der Mutter in Zoll\"] * 2.54 # Zoll in Zentimeter, Überschrift geändert\n",
    "df_clean.rename(columns={\"Körpergröße der Mutter in Zoll\": \"Körpergröße [cm]\"}, inplace=True) \n",
    "\n",
    "df_clean[\"Körpergewicht der Mutter in Pfund\"] = df_clean[\"Körpergewicht der Mutter in Pfund\"] * 0.453592 # Pfund in Kilogramm, Überschrift geändert\n",
    "df_clean.rename(columns={\"Körpergewicht der Mutter in Pfund\": \"Gewicht der Mutter [kg]\"}, inplace=True)\n",
    "\n",
    "# float zu int\n",
    "\n",
    "df_clean[\"Geburtsgewicht [g]\"] = df_clean[\"Geburtsgewicht [g]\"].round().astype(int) \n",
    "df_clean[\"Alter der Mutter in Jahren\"] = df_clean[\"Alter der Mutter in Jahren\"].round().astype(int) \n",
    "df_clean[\"Schwangerschaftsdauer [d]\"] = df_clean[\"Schwangerschaftsdauer [d]\"].round().astype(int) \n",
    "df_clean[\"Körpergröße [cm]\"] = df_clean[\"Körpergröße [cm]\"].round().astype(int)\n",
    "df_clean[\"Gewicht der Mutter [kg]\"] = df_clean[\"Gewicht der Mutter [kg]\"].round().astype(int)\n",
    "df_clean[\"Mutter raucht\"] = df_clean[\"Mutter raucht\"].round().astype(int)\n",
    "\n",
    "df_clean\n",
    "\n",
    "# 1. Wie viele Datensätze und Spalten enthält der Datensatz?\n",
    "\n",
    "# unbereinigt: 1236 Zeilen und 8 Spalten; bereinigt: 1174 Zeilen und 8 Spalten"
   ]
  },
  {
   "cell_type": "code",
   "execution_count": null,
   "id": "975d528f",
   "metadata": {},
   "outputs": [
    {
     "name": "stdout",
     "output_type": "stream",
     "text": [
      "Durchschnittliches Geburtsgewicht: 3386\n",
      "Median: 3402\n"
     ]
    }
   ],
   "source": [
    "# 2. Wie hoch ist das durchschnittliche Geburtsgewicht?\n",
    "\n",
    "durchschnitt = int(round(df_clean[\"Geburtsgewicht [g]\"].mean()))\n",
    "print(f\"Durchschnittliches Geburtsgewicht: {durchschnitt}\")\n",
    "\n",
    "median = int(round(df_clean[\"Geburtsgewicht [g]\"].median()))\n",
    "print(f\"Median: {median}\")"
   ]
  },
  {
   "cell_type": "code",
   "execution_count": 3,
   "id": "ee0635cb",
   "metadata": {},
   "outputs": [
    {
     "name": "stdout",
     "output_type": "stream",
     "text": [
      "Maximales Geburtsgewicht: 4990\n",
      "Minimales Geburtsgewicht: 1559\n"
     ]
    }
   ],
   "source": [
    "# 3. Was ist das kleinste und was das größte Geburtsgewicht?\n",
    "\n",
    "maximum = int(round(df_clean[\"Geburtsgewicht [g]\"].max()))\n",
    "print(f\"Maximales Geburtsgewicht: {maximum}\")\n",
    "\n",
    "minimum = int(round(df_clean[\"Geburtsgewicht [g]\"].min()))\n",
    "print(f\"Minimales Geburtsgewicht: {minimum}\")"
   ]
  },
  {
   "cell_type": "code",
   "execution_count": 4,
   "id": "51ace5a4",
   "metadata": {},
   "outputs": [
    {
     "name": "stdout",
     "output_type": "stream",
     "text": [
      "Mutter raucht\n",
      "0    715\n",
      "1    459\n",
      "Name: count, dtype: int64\n"
     ]
    },
    {
     "data": {
      "image/png": "[encoded data removed]",
      "text/plain": [
       "<Figure size 640x480 with 1 Axes>"
      ]
     },
     "metadata": {},
     "output_type": "display_data"
    }
   ],
   "source": [
    "# 4. Wie viele Mütter rauchen (Mutter raucht: 0 = False (trifft nicht zu)) und wie viele nicht? Stelle dies als Kreisdiagramm dar.\n",
    "\n",
    "df_clean[\"Mutter raucht\"].value_counts() # 0 -> 715 Mütter rauchen nicht; 1 -> 459 Mütter rauchen\n",
    "\n",
    "import matplotlib.pyplot as plt\n",
    "\n",
    "# Zähle, wie viele Mütter rauchen (1) oder nicht rauchen (0)\n",
    "\n",
    "anzahl_1 = df_clean[\"Mutter raucht\"].value_counts()\n",
    "print(anzahl_1)\n",
    "\n",
    "# Beschriftung: Reihenfolge muss zur Zählung passen (häufig 0 vor 1)\n",
    "\n",
    "labels = [\"raucht nicht\", \"raucht\"]  \n",
    "\n",
    "# Farben (optional)\n",
    "\n",
    "farben = [\"lightgreen\", \"lightcoral\"]\n",
    "\n",
    "# Kreisdiagramm zeichnen\n",
    "\n",
    "plt.pie(anzahl_1, labels=labels, colors=farben, autopct=\"%1.1f%%\", startangle=90)\n",
    "plt.title(\"Anteil rauchender / nicht rauchender Mütter\")\n",
    "plt.axis(\"equal\")  # Macht den Kreis wirklich rund\n",
    "plt.show()"
   ]
  },
  {
   "cell_type": "code",
   "execution_count": 5,
   "id": "a91c2931",
   "metadata": {},
   "outputs": [
    {
     "name": "stdout",
     "output_type": "stream",
     "text": [
      "Erstschwangerschaft\n",
      "0    866\n",
      "1    308\n",
      "Name: count, dtype: int64\n"
     ]
    }
   ],
   "source": [
    "# 5. Wie viele Erstgebärende (Erstschwangerschaft = 0) gibt es?\n",
    "\n",
    "anzahl_2 = df_clean[\"Erstschwangerschaft\"].value_counts()\n",
    "print(anzahl_2) # 866 (Erstschwangerschaft); 308 (Folgeschwangerschaft)"
   ]
  },
  {
   "cell_type": "code",
   "execution_count": 19,
   "id": "0b17bee6",
   "metadata": {},
   "outputs": [
    {
     "name": "stdout",
     "output_type": "stream",
     "text": [
      "maximale Schwangerschaftsdauer [d]: 353\n",
      "minimale Schwangerschaftsdauer [d]: 148\n"
     ]
    },
    {
     "data": {
      "application/vnd.plotly.v1+json": {
       "config": {
        "plotlyServerURL": "https://plot.ly"
       },
       "data": [
        {
         "bingroup": "x",
         "hovertemplate": "Tage=%{x}<br>count=%{y}<extra></extra>",
         "legendgroup": "",
         "marker": {
          "color": "green",
          "pattern": {
           "shape": ""
          }
         },
         "name": "",
         "nbinsx": 15,
         "orientation": "v",
         "showlegend": false,
         "type": "histogram",
         "x": {
          "bdata": "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",
          "dtype": "i2"
         },
         "xaxis": "x",
         "yaxis": "y"
        }
       ],
       "layout": {
        "bargap": 0.05,
        "barmode": "relative",
        "legend": {
         "tracegroupgap": 0
        },
        "template": {
         "data": {
          "bar": [
           {
            "error_x": {
             "color": "#2a3f5f"
            },
            "error_y": {
             "color": "#2a3f5f"
            },
            "marker": {
             "line": {
              "color": "#E5ECF6",
              "width": 0.5
             },
             "pattern": {
              "fillmode": "overlay",
              "size": 10,
              "solidity": 0.2
             }
            },
            "type": "bar"
           }
          ],
          "barpolar": [
           {
            "marker": {
             "line": {
              "color": "#E5ECF6",
              "width": 0.5
             },
             "pattern": {
              "fillmode": "overlay",
              "size": 10,
              "solidity": 0.2
             }
            },
            "type": "barpolar"
           }
          ],
          "carpet": [
           {
            "aaxis": {
             "endlinecolor": "#2a3f5f",
             "gridcolor": "white",
             "linecolor": "white",
             "minorgridcolor": "white",
             "startlinecolor": "#2a3f5f"
            },
            "baxis": {
             "endlinecolor": "#2a3f5f",
             "gridcolor": "white",
             "linecolor": "white",
             "minorgridcolor": "white",
             "startlinecolor": "#2a3f5f"
            },
            "type": "carpet"
           }
          ],
          "choropleth": [
           {
            "colorbar": {
             "outlinewidth": 0,
             "ticks": ""
            },
            "type": "choropleth"
           }
          ],
          "contour": [
           {
            "colorbar": {
             "outlinewidth": 0,
             "ticks": ""
            },
            "colorscale": [
             [
              0,
              "#0d0887"
             ],
             [
              0.1111111111111111,
              "#46039f"
             ],
             [
              0.2222222222222222,
              "#7201a8"
             ],
             [
              0.3333333333333333,
              "#9c179e"
             ],
             [
              0.4444444444444444,
              "#bd3786"
             ],
             [
              0.5555555555555556,
              "#d8576b"
             ],
             [
              0.6666666666666666,
              "#ed7953"
             ],
             [
              0.7777777777777778,
              "#fb9f3a"
             ],
             [
              0.8888888888888888,
              "#fdca26"
             ],
             [
              1,
              "#f0f921"
             ]
            ],
            "type": "contour"
           }
          ],
          "contourcarpet": [
           {
            "colorbar": {
             "outlinewidth": 0,
             "ticks": ""
            },
            "type": "contourcarpet"
           }
          ],
          "heatmap": [
           {
            "colorbar": {
             "outlinewidth": 0,
             "ticks": ""
            },
            "colorscale": [
             [
              0,
              "#0d0887"
             ],
             [
              0.1111111111111111,
              "#46039f"
             ],
             [
              0.2222222222222222,
              "#7201a8"
             ],
             [
              0.3333333333333333,
              "#9c179e"
             ],
             [
              0.4444444444444444,
              "#bd3786"
             ],
             [
              0.5555555555555556,
              "#d8576b"
             ],
             [
              0.6666666666666666,
              "#ed7953"
             ],
             [
              0.7777777777777778,
              "#fb9f3a"
             ],
             [
              0.8888888888888888,
              "#fdca26"
             ],
             [
              1,
              "#f0f921"
             ]
            ],
            "type": "heatmap"
           }
          ],
          "histogram": [
           {
            "marker": {
             "pattern": {
              "fillmode": "overlay",
              "size": 10,
              "solidity": 0.2
             }
            },
            "type": "histogram"
           }
          ],
          "histogram2d": [
           {
            "colorbar": {
             "outlinewidth": 0,
             "ticks": ""
            },
            "colorscale": [
             [
              0,
              "#0d0887"
             ],
             [
              0.1111111111111111,
              "#46039f"
             ],
             [
              0.2222222222222222,
              "#7201a8"
             ],
             [
              0.3333333333333333,
              "#9c179e"
             ],
             [
              0.4444444444444444,
              "#bd3786"
             ],
             [
              0.5555555555555556,
              "#d8576b"
             ],
             [
              0.6666666666666666,
              "#ed7953"
             ],
             [
              0.7777777777777778,
              "#fb9f3a"
             ],
             [
              0.8888888888888888,
              "#fdca26"
             ],
             [
              1,
              "#f0f921"
             ]
            ],
            "type": "histogram2d"
           }
          ],
          "histogram2dcontour": [
           {
            "colorbar": {
             "outlinewidth": 0,
             "ticks": ""
            },
            "colorscale": [
             [
              0,
              "#0d0887"
             ],
             [
              0.1111111111111111,
              "#46039f"
             ],
             [
              0.2222222222222222,
              "#7201a8"
             ],
             [
              0.3333333333333333,
              "#9c179e"
             ],
             [
              0.4444444444444444,
              "#bd3786"
             ],
             [
              0.5555555555555556,
              "#d8576b"
             ],
             [
              0.6666666666666666,
              "#ed7953"
             ],
             [
              0.7777777777777778,
              "#fb9f3a"
             ],
             [
              0.8888888888888888,
              "#fdca26"
             ],
             [
              1,
              "#f0f921"
             ]
            ],
            "type": "histogram2dcontour"
           }
          ],
          "mesh3d": [
           {
            "colorbar": {
             "outlinewidth": 0,
             "ticks": ""
            },
            "type": "mesh3d"
           }
          ],
          "parcoords": [
           {
            "line": {
             "colorbar": {
              "outlinewidth": 0,
              "ticks": ""
             }
            },
            "type": "parcoords"
           }
          ],
          "pie": [
           {
            "automargin": true,
            "type": "pie"
           }
          ],
          "scatter": [
           {
            "fillpattern": {
             "fillmode": "overlay",
             "size": 10,
             "solidity": 0.2
            },
            "type": "scatter"
           }
          ],
          "scatter3d": [
           {
            "line": {
             "colorbar": {
              "outlinewidth": 0,
              "ticks": ""
             }
            },
            "marker": {
             "colorbar": {
              "outlinewidth": 0,
              "ticks": ""
             }
            },
            "type": "scatter3d"
           }
          ],
          "scattercarpet": [
           {
            "marker": {
             "colorbar": {
              "outlinewidth": 0,
              "ticks": ""
             }
            },
            "type": "scattercarpet"
           }
          ],
          "scattergeo": [
           {
            "marker": {
             "colorbar": {
              "outlinewidth": 0,
              "ticks": ""
             }
            },
            "type": "scattergeo"
           }
          ],
          "scattergl": [
           {
            "marker": {
             "colorbar": {
              "outlinewidth": 0,
              "ticks": ""
             }
            },
            "type": "scattergl"
           }
          ],
          "scattermap": [
           {
            "marker": {
             "colorbar": {
              "outlinewidth": 0,
              "ticks": ""
             }
            },
            "type": "scattermap"
           }
          ],
          "scattermapbox": [
           {
            "marker": {
             "colorbar": {
              "outlinewidth": 0,
              "ticks": ""
             }
            },
            "type": "scattermapbox"
           }
          ],
          "scatterpolar": [
           {
            "marker": {
             "colorbar": {
              "outlinewidth": 0,
              "ticks": ""
             }
            },
            "type": "scatterpolar"
           }
          ],
          "scatterpolargl": [
           {
            "marker": {
             "colorbar": {
              "outlinewidth": 0,
              "ticks": ""
             }
            },
            "type": "scatterpolargl"
           }
          ],
          "scatterternary": [
           {
            "marker": {
             "colorbar": {
              "outlinewidth": 0,
              "ticks": ""
             }
            },
            "type": "scatterternary"
           }
          ],
          "surface": [
           {
            "colorbar": {
             "outlinewidth": 0,
             "ticks": ""
            },
            "colorscale": [
             [
              0,
              "#0d0887"
             ],
             [
              0.1111111111111111,
              "#46039f"
             ],
             [
              0.2222222222222222,
              "#7201a8"
             ],
             [
              0.3333333333333333,
              "#9c179e"
             ],
             [
              0.4444444444444444,
              "#bd3786"
             ],
             [
              0.5555555555555556,
              "#d8576b"
             ],
             [
              0.6666666666666666,
              "#ed7953"
             ],
             [
              0.7777777777777778,
              "#fb9f3a"
             ],
             [
              0.8888888888888888,
              "#fdca26"
             ],
             [
              1,
              "#f0f921"
             ]
            ],
            "type": "surface"
           }
          ],
          "table": [
           {
            "cells": {
             "fill": {
              "color": "#EBF0F8"
             },
             "line": {
              "color": "white"
             }
            },
            "header": {
             "fill": {
              "color": "#C8D4E3"
             },
             "line": {
              "color": "white"
             }
            },
            "type": "table"
           }
          ]
         },
         "layout": {
          "annotationdefaults": {
           "arrowcolor": "#2a3f5f",
           "arrowhead": 0,
           "arrowwidth": 1
          },
          "autotypenumbers": "strict",
          "coloraxis": {
           "colorbar": {
            "outlinewidth": 0,
            "ticks": ""
           }
          },
          "colorscale": {
           "diverging": [
            [
             0,
             "#8e0152"
            ],
            [
             0.1,
             "#c51b7d"
            ],
            [
             0.2,
             "#de77ae"
            ],
            [
             0.3,
             "#f1b6da"
            ],
            [
             0.4,
             "#fde0ef"
            ],
            [
             0.5,
             "#f7f7f7"
            ],
            [
             0.6,
             "#e6f5d0"
            ],
            [
             0.7,
             "#b8e186"
            ],
            [
             0.8,
             "#7fbc41"
            ],
            [
             0.9,
             "#4d9221"
            ],
            [
             1,
             "#276419"
            ]
           ],
           "sequential": [
            [
             0,
             "#0d0887"
            ],
            [
             0.1111111111111111,
             "#46039f"
            ],
            [
             0.2222222222222222,
             "#7201a8"
            ],
            [
             0.3333333333333333,
             "#9c179e"
            ],
            [
             0.4444444444444444,
             "#bd3786"
            ],
            [
             0.5555555555555556,
             "#d8576b"
            ],
            [
             0.6666666666666666,
             "#ed7953"
            ],
            [
             0.7777777777777778,
             "#fb9f3a"
            ],
            [
             0.8888888888888888,
             "#fdca26"
            ],
            [
             1,
             "#f0f921"
            ]
           ],
           "sequentialminus": [
            [
             0,
             "#0d0887"
            ],
            [
             0.1111111111111111,
             "#46039f"
            ],
            [
             0.2222222222222222,
             "#7201a8"
            ],
            [
             0.3333333333333333,
             "#9c179e"
            ],
            [
             0.4444444444444444,
             "#bd3786"
            ],
            [
             0.5555555555555556,
             "#d8576b"
            ],
            [
             0.6666666666666666,
             "#ed7953"
            ],
            [
             0.7777777777777778,
             "#fb9f3a"
            ],
            [
             0.8888888888888888,
             "#fdca26"
            ],
            [
             1,
             "#f0f921"
            ]
           ]
          },
          "colorway": [
           "#636efa",
           "#EF553B",
           "#00cc96",
           "#ab63fa",
           "#FFA15A",
           "#19d3f3",
           "#FF6692",
           "#B6E880",
           "#FF97FF",
           "#FECB52"
          ],
          "font": {
           "color": "#2a3f5f"
          },
          "geo": {
           "bgcolor": "white",
           "lakecolor": "white",
           "landcolor": "#E5ECF6",
           "showlakes": true,
           "showland": true,
           "subunitcolor": "white"
          },
          "hoverlabel": {
           "align": "left"
          },
          "hovermode": "closest",
          "mapbox": {
           "style": "light"
          },
          "paper_bgcolor": "white",
          "plot_bgcolor": "#E5ECF6",
          "polar": {
           "angularaxis": {
            "gridcolor": "white",
            "linecolor": "white",
            "ticks": ""
           },
           "bgcolor": "#E5ECF6",
           "radialaxis": {
            "gridcolor": "white",
            "linecolor": "white",
            "ticks": ""
           }
          },
          "scene": {
           "xaxis": {
            "backgroundcolor": "#E5ECF6",
            "gridcolor": "white",
            "gridwidth": 2,
            "linecolor": "white",
            "showbackground": true,
            "ticks": "",
            "zerolinecolor": "white"
           },
           "yaxis": {
            "backgroundcolor": "#E5ECF6",
            "gridcolor": "white",
            "gridwidth": 2,
            "linecolor": "white",
            "showbackground": true,
            "ticks": "",
            "zerolinecolor": "white"
           },
           "zaxis": {
            "backgroundcolor": "#E5ECF6",
            "gridcolor": "white",
            "gridwidth": 2,
            "linecolor": "white",
            "showbackground": true,
            "ticks": "",
            "zerolinecolor": "white"
           }
          },
          "shapedefaults": {
           "line": {
            "color": "#2a3f5f"
           }
          },
          "ternary": {
           "aaxis": {
            "gridcolor": "white",
            "linecolor": "white",
            "ticks": ""
           },
           "baxis": {
            "gridcolor": "white",
            "linecolor": "white",
            "ticks": ""
           },
           "bgcolor": "#E5ECF6",
           "caxis": {
            "gridcolor": "white",
            "linecolor": "white",
            "ticks": ""
           }
          },
          "title": {
           "x": 0.05
          },
          "xaxis": {
           "automargin": true,
           "gridcolor": "white",
           "linecolor": "white",
           "ticks": "",
           "title": {
            "standoff": 15
           },
           "zerolinecolor": "white",
           "zerolinewidth": 2
          },
          "yaxis": {
           "automargin": true,
           "gridcolor": "white",
           "linecolor": "white",
           "ticks": "",
           "title": {
            "standoff": 15
           },
           "zerolinecolor": "white",
           "zerolinewidth": 2
          }
         }
        },
        "title": {
         "text": "Verteilung der Schwangerschaftsdauer"
        },
        "xaxis": {
         "anchor": "y",
         "domain": [
          0,
          1
         ],
         "title": {
          "text": "Dauer der Schwangerschaft (Tage)"
         }
        },
        "yaxis": {
         "anchor": "x",
         "domain": [
          0,
          1
         ],
         "dtick": 40,
         "range": [
          0,
          593.4
         ],
         "title": {
          "text": "Anzahl Fälle"
         }
        }
       }
      }
     },
     "metadata": {},
     "output_type": "display_data"
    }
   ],
   "source": [
    "# 6. Wie ist die Verteilung der Schwangerschaftsdauer? Stelle dies mit einem Histogramm dar. \n",
    "\n",
    "maximum_schwangerschaftsdauer = int(round(df_clean[\"Schwangerschaftsdauer [d]\"].max()))\n",
    "print(f\"maximale Schwangerschaftsdauer [d]: {maximum_schwangerschaftsdauer}\")\n",
    "\n",
    "minimum_schwangerschaftsdauer = int(round(df_clean[\"Schwangerschaftsdauer [d]\"].min()))\n",
    "print(f\"minimale Schwangerschaftsdauer [d]: {minimum_schwangerschaftsdauer}\")\n",
    "\n",
    "import plotly.express as px\n",
    "\n",
    "import numpy as np\n",
    "\n",
    "# Werte vorbereiten\n",
    "werte = df_clean[\"Schwangerschaftsdauer [d]\"]\n",
    "\n",
    "# Anzahl der gewünschten Bins\n",
    "anzahl_bins = 15\n",
    "\n",
    "# Höchsten Balkenwert berechnen (y-Achsen-Maximum)\n",
    "counts, bins = np.histogram(werte, bins=anzahl_bins)\n",
    "max_count = counts.max()\n",
    "\n",
    "# Interaktives Histogramm mit Plotly\n",
    "fig = px.histogram(\n",
    "    df_clean,\n",
    "    x=\"Schwangerschaftsdauer [d]\",\n",
    "    nbins=anzahl_bins,\n",
    "    title=\"Verteilung der Schwangerschaftsdauer\",\n",
    "    labels={\"Schwangerschaftsdauer [d]\": \"Tage\"},\n",
    "    color_discrete_sequence=[\"green\"]\n",
    ")\n",
    "\n",
    "# Layout: schöner Abstand & Achsentitel\n",
    "fig.update_layout(\n",
    "    bargap=0.05,\n",
    "    xaxis_title=\"Dauer der Schwangerschaft (Tage)\",\n",
    "    yaxis_title=\"Anzahl Fälle\"\n",
    ")\n",
    "\n",
    "# Y-Achse anpassen: Puffer 15 % oben drauf\n",
    "fig.update_yaxes(\n",
    "    dtick=40,\n",
    "    range=[0, max_count * 1.15]\n",
    ")\n",
    "\n",
    "fig.show()"
   ]
  },
  {
   "cell_type": "code",
   "execution_count": 31,
   "id": "4e667248",
   "metadata": {},
   "outputs": [
    {
     "name": "stdout",
     "output_type": "stream",
     "text": [
      "maximales Geburtsgewichter [g]: 4990\n",
      "maximales Geburtsgewichter [g]: 1559\n"
     ]
    },
    {
     "data": {
      "application/vnd.plotly.v1+json": {
       "config": {
        "plotlyServerURL": "https://plot.ly"
       },
       "data": [
        {
         "bingroup": "x",
         "hovertemplate": "Gramm=%{x}<br>count=%{y}<extra></extra>",
         "legendgroup": "",
         "marker": {
          "color": "cornflowerblue",
          "pattern": {
           "shape": ""
          }
         },
         "name": "",
         "nbinsx": 100,
         "orientation": "v",
         "showlegend": false,
         "type": "histogram",
         "x": {
          "bdata": "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",
          "dtype": "i2"
         },
         "xaxis": "x",
         "yaxis": "y"
        }
       ],
       "layout": {
        "bargap": 0.05,
        "barmode": "relative",
        "legend": {
         "tracegroupgap": 0
        },
        "template": {
         "data": {
          "bar": [
           {
            "error_x": {
             "color": "#2a3f5f"
            },
            "error_y": {
             "color": "#2a3f5f"
            },
            "marker": {
             "line": {
              "color": "#E5ECF6",
              "width": 0.5
             },
             "pattern": {
              "fillmode": "overlay",
              "size": 10,
              "solidity": 0.2
             }
            },
            "type": "bar"
           }
          ],
          "barpolar": [
           {
            "marker": {
             "line": {
              "color": "#E5ECF6",
              "width": 0.5
             },
             "pattern": {
              "fillmode": "overlay",
              "size": 10,
              "solidity": 0.2
             }
            },
            "type": "barpolar"
           }
          ],
          "carpet": [
           {
            "aaxis": {
             "endlinecolor": "#2a3f5f",
             "gridcolor": "white",
             "linecolor": "white",
             "minorgridcolor": "white",
             "startlinecolor": "#2a3f5f"
            },
            "baxis": {
             "endlinecolor": "#2a3f5f",
             "gridcolor": "white",
             "linecolor": "white",
             "minorgridcolor": "white",
             "startlinecolor": "#2a3f5f"
            },
            "type": "carpet"
           }
          ],
          "choropleth": [
           {
            "colorbar": {
             "outlinewidth": 0,
             "ticks": ""
            },
            "type": "choropleth"
           }
          ],
          "contour": [
           {
            "colorbar": {
             "outlinewidth": 0,
             "ticks": ""
            },
            "colorscale": [
             [
              0,
              "#0d0887"
             ],
             [
              0.1111111111111111,
              "#46039f"
             ],
             [
              0.2222222222222222,
              "#7201a8"
             ],
             [
              0.3333333333333333,
              "#9c179e"
             ],
             [
              0.4444444444444444,
              "#bd3786"
             ],
             [
              0.5555555555555556,
              "#d8576b"
             ],
             [
              0.6666666666666666,
              "#ed7953"
             ],
             [
              0.7777777777777778,
              "#fb9f3a"
             ],
             [
              0.8888888888888888,
              "#fdca26"
             ],
             [
              1,
              "#f0f921"
             ]
            ],
            "type": "contour"
           }
          ],
          "contourcarpet": [
           {
            "colorbar": {
             "outlinewidth": 0,
             "ticks": ""
            },
            "type": "contourcarpet"
           }
          ],
          "heatmap": [
           {
            "colorbar": {
             "outlinewidth": 0,
             "ticks": ""
            },
            "colorscale": [
             [
              0,
              "#0d0887"
             ],
             [
              0.1111111111111111,
              "#46039f"
             ],
             [
              0.2222222222222222,
              "#7201a8"
             ],
             [
              0.3333333333333333,
              "#9c179e"
             ],
             [
              0.4444444444444444,
              "#bd3786"
             ],
             [
              0.5555555555555556,
              "#d8576b"
             ],
             [
              0.6666666666666666,
              "#ed7953"
             ],
             [
              0.7777777777777778,
              "#fb9f3a"
             ],
             [
              0.8888888888888888,
              "#fdca26"
             ],
             [
              1,
              "#f0f921"
             ]
            ],
            "type": "heatmap"
           }
          ],
          "histogram": [
           {
            "marker": {
             "pattern": {
              "fillmode": "overlay",
              "size": 10,
              "solidity": 0.2
             }
            },
            "type": "histogram"
           }
          ],
          "histogram2d": [
           {
            "colorbar": {
             "outlinewidth": 0,
             "ticks": ""
            },
            "colorscale": [
             [
              0,
              "#0d0887"
             ],
             [
              0.1111111111111111,
              "#46039f"
             ],
             [
              0.2222222222222222,
              "#7201a8"
             ],
             [
              0.3333333333333333,
              "#9c179e"
             ],
             [
              0.4444444444444444,
              "#bd3786"
             ],
             [
              0.5555555555555556,
              "#d8576b"
             ],
             [
              0.6666666666666666,
              "#ed7953"
             ],
             [
              0.7777777777777778,
              "#fb9f3a"
             ],
             [
              0.8888888888888888,
              "#fdca26"
             ],
             [
              1,
              "#f0f921"
             ]
            ],
            "type": "histogram2d"
           }
          ],
          "histogram2dcontour": [
           {
            "colorbar": {
             "outlinewidth": 0,
             "ticks": ""
            },
            "colorscale": [
             [
              0,
              "#0d0887"
             ],
             [
              0.1111111111111111,
              "#46039f"
             ],
             [
              0.2222222222222222,
              "#7201a8"
             ],
             [
              0.3333333333333333,
              "#9c179e"
             ],
             [
              0.4444444444444444,
              "#bd3786"
             ],
             [
              0.5555555555555556,
              "#d8576b"
             ],
             [
              0.6666666666666666,
              "#ed7953"
             ],
             [
              0.7777777777777778,
              "#fb9f3a"
             ],
             [
              0.8888888888888888,
              "#fdca26"
             ],
             [
              1,
              "#f0f921"
             ]
            ],
            "type": "histogram2dcontour"
           }
          ],
          "mesh3d": [
           {
            "colorbar": {
             "outlinewidth": 0,
             "ticks": ""
            },
            "type": "mesh3d"
           }
          ],
          "parcoords": [
           {
            "line": {
             "colorbar": {
              "outlinewidth": 0,
              "ticks": ""
             }
            },
            "type": "parcoords"
           }
          ],
          "pie": [
           {
            "automargin": true,
            "type": "pie"
           }
          ],
          "scatter": [
           {
            "fillpattern": {
             "fillmode": "overlay",
             "size": 10,
             "solidity": 0.2
            },
            "type": "scatter"
           }
          ],
          "scatter3d": [
           {
            "line": {
             "colorbar": {
              "outlinewidth": 0,
              "ticks": ""
             }
            },
            "marker": {
             "colorbar": {
              "outlinewidth": 0,
              "ticks": ""
             }
            },
            "type": "scatter3d"
           }
          ],
          "scattercarpet": [
           {
            "marker": {
             "colorbar": {
              "outlinewidth": 0,
              "ticks": ""
             }
            },
            "type": "scattercarpet"
           }
          ],
          "scattergeo": [
           {
            "marker": {
             "colorbar": {
              "outlinewidth": 0,
              "ticks": ""
             }
            },
            "type": "scattergeo"
           }
          ],
          "scattergl": [
           {
            "marker": {
             "colorbar": {
              "outlinewidth": 0,
              "ticks": ""
             }
            },
            "type": "scattergl"
           }
          ],
          "scattermap": [
           {
            "marker": {
             "colorbar": {
              "outlinewidth": 0,
              "ticks": ""
             }
            },
            "type": "scattermap"
           }
          ],
          "scattermapbox": [
           {
            "marker": {
             "colorbar": {
              "outlinewidth": 0,
              "ticks": ""
             }
            },
            "type": "scattermapbox"
           }
          ],
          "scatterpolar": [
           {
            "marker": {
             "colorbar": {
              "outlinewidth": 0,
              "ticks": ""
             }
            },
            "type": "scatterpolar"
           }
          ],
          "scatterpolargl": [
           {
            "marker": {
             "colorbar": {
              "outlinewidth": 0,
              "ticks": ""
             }
            },
            "type": "scatterpolargl"
           }
          ],
          "scatterternary": [
           {
            "marker": {
             "colorbar": {
              "outlinewidth": 0,
              "ticks": ""
             }
            },
            "type": "scatterternary"
           }
          ],
          "surface": [
           {
            "colorbar": {
             "outlinewidth": 0,
             "ticks": ""
            },
            "colorscale": [
             [
              0,
              "#0d0887"
             ],
             [
              0.1111111111111111,
              "#46039f"
             ],
             [
              0.2222222222222222,
              "#7201a8"
             ],
             [
              0.3333333333333333,
              "#9c179e"
             ],
             [
              0.4444444444444444,
              "#bd3786"
             ],
             [
              0.5555555555555556,
              "#d8576b"
             ],
             [
              0.6666666666666666,
              "#ed7953"
             ],
             [
              0.7777777777777778,
              "#fb9f3a"
             ],
             [
              0.8888888888888888,
              "#fdca26"
             ],
             [
              1,
              "#f0f921"
             ]
            ],
            "type": "surface"
           }
          ],
          "table": [
           {
            "cells": {
             "fill": {
              "color": "#EBF0F8"
             },
             "line": {
              "color": "white"
             }
            },
            "header": {
             "fill": {
              "color": "#C8D4E3"
             },
             "line": {
              "color": "white"
             }
            },
            "type": "table"
           }
          ]
         },
         "layout": {
          "annotationdefaults": {
           "arrowcolor": "#2a3f5f",
           "arrowhead": 0,
           "arrowwidth": 1
          },
          "autotypenumbers": "strict",
          "coloraxis": {
           "colorbar": {
            "outlinewidth": 0,
            "ticks": ""
           }
          },
          "colorscale": {
           "diverging": [
            [
             0,
             "#8e0152"
            ],
            [
             0.1,
             "#c51b7d"
            ],
            [
             0.2,
             "#de77ae"
            ],
            [
             0.3,
             "#f1b6da"
            ],
            [
             0.4,
             "#fde0ef"
            ],
            [
             0.5,
             "#f7f7f7"
            ],
            [
             0.6,
             "#e6f5d0"
            ],
            [
             0.7,
             "#b8e186"
            ],
            [
             0.8,
             "#7fbc41"
            ],
            [
             0.9,
             "#4d9221"
            ],
            [
             1,
             "#276419"
            ]
           ],
           "sequential": [
            [
             0,
             "#0d0887"
            ],
            [
             0.1111111111111111,
             "#46039f"
            ],
            [
             0.2222222222222222,
             "#7201a8"
            ],
            [
             0.3333333333333333,
             "#9c179e"
            ],
            [
             0.4444444444444444,
             "#bd3786"
            ],
            [
             0.5555555555555556,
             "#d8576b"
            ],
            [
             0.6666666666666666,
             "#ed7953"
            ],
            [
             0.7777777777777778,
             "#fb9f3a"
            ],
            [
             0.8888888888888888,
             "#fdca26"
            ],
            [
             1,
             "#f0f921"
            ]
           ],
           "sequentialminus": [
            [
             0,
             "#0d0887"
            ],
            [
             0.1111111111111111,
             "#46039f"
            ],
            [
             0.2222222222222222,
             "#7201a8"
            ],
            [
             0.3333333333333333,
             "#9c179e"
            ],
            [
             0.4444444444444444,
             "#bd3786"
            ],
            [
             0.5555555555555556,
             "#d8576b"
            ],
            [
             0.6666666666666666,
             "#ed7953"
            ],
            [
             0.7777777777777778,
             "#fb9f3a"
            ],
            [
             0.8888888888888888,
             "#fdca26"
            ],
            [
             1,
             "#f0f921"
            ]
           ]
          },
          "colorway": [
           "#636efa",
           "#EF553B",
           "#00cc96",
           "#ab63fa",
           "#FFA15A",
           "#19d3f3",
           "#FF6692",
           "#B6E880",
           "#FF97FF",
           "#FECB52"
          ],
          "font": {
           "color": "#2a3f5f"
          },
          "geo": {
           "bgcolor": "white",
           "lakecolor": "white",
           "landcolor": "#E5ECF6",
           "showlakes": true,
           "showland": true,
           "subunitcolor": "white"
          },
          "hoverlabel": {
           "align": "left"
          },
          "hovermode": "closest",
          "mapbox": {
           "style": "light"
          },
          "paper_bgcolor": "white",
          "plot_bgcolor": "#E5ECF6",
          "polar": {
           "angularaxis": {
            "gridcolor": "white",
            "linecolor": "white",
            "ticks": ""
           },
           "bgcolor": "#E5ECF6",
           "radialaxis": {
            "gridcolor": "white",
            "linecolor": "white",
            "ticks": ""
           }
          },
          "scene": {
           "xaxis": {
            "backgroundcolor": "#E5ECF6",
            "gridcolor": "white",
            "gridwidth": 2,
            "linecolor": "white",
            "showbackground": true,
            "ticks": "",
            "zerolinecolor": "white"
           },
           "yaxis": {
            "backgroundcolor": "#E5ECF6",
            "gridcolor": "white",
            "gridwidth": 2,
            "linecolor": "white",
            "showbackground": true,
            "ticks": "",
            "zerolinecolor": "white"
           },
           "zaxis": {
            "backgroundcolor": "#E5ECF6",
            "gridcolor": "white",
            "gridwidth": 2,
            "linecolor": "white",
            "showbackground": true,
            "ticks": "",
            "zerolinecolor": "white"
           }
          },
          "shapedefaults": {
           "line": {
            "color": "#2a3f5f"
           }
          },
          "ternary": {
           "aaxis": {
            "gridcolor": "white",
            "linecolor": "white",
            "ticks": ""
           },
           "baxis": {
            "gridcolor": "white",
            "linecolor": "white",
            "ticks": ""
           },
           "bgcolor": "#E5ECF6",
           "caxis": {
            "gridcolor": "white",
            "linecolor": "white",
            "ticks": ""
           }
          },
          "title": {
           "x": 0.05
          },
          "xaxis": {
           "automargin": true,
           "gridcolor": "white",
           "linecolor": "white",
           "ticks": "",
           "title": {
            "standoff": 15
           },
           "zerolinecolor": "white",
           "zerolinewidth": 2
          },
          "yaxis": {
           "automargin": true,
           "gridcolor": "white",
           "linecolor": "white",
           "ticks": "",
           "title": {
            "standoff": 15
           },
           "zerolinecolor": "white",
           "zerolinewidth": 2
          }
         }
        },
        "title": {
         "text": "Verteilung des Geburtsgewichts"
        },
        "xaxis": {
         "anchor": "y",
         "domain": [
          0,
          1
         ],
         "title": {
          "text": "Geburtsgewicht"
         }
        },
        "yaxis": {
         "anchor": "x",
         "domain": [
          0,
          1
         ],
         "dtick": 10,
         "range": [
          0,
          63.24999999999999
         ],
         "title": {
          "text": "Anzahl Fälle"
         }
        }
       }
      }
     },
     "metadata": {},
     "output_type": "display_data"
    }
   ],
   "source": [
    "# 7. Wie ist die Verteilung des Geburtsgewichts? Stelle dies mit einem Histogramm dar. \n",
    "\n",
    "maximum_geburtsgewicht = int(round(df_clean[\"Geburtsgewicht [g]\"].max()))\n",
    "print(f\"maximales Geburtsgewichter [g]: {maximum_geburtsgewicht}\")\n",
    "\n",
    "minimum_geburtsgewicht = int(round(df_clean[\"Geburtsgewicht [g]\"].min()))\n",
    "print(f\"maximales Geburtsgewichter [g]: {minimum_geburtsgewicht}\")\n",
    "\n",
    "import plotly.express as px\n",
    "\n",
    "import numpy as np\n",
    "\n",
    "# Werte vorbereiten\n",
    "werte = df_clean[\"Geburtsgewicht [g]\"]\n",
    "\n",
    "# Anzahl der gewünschten Bins\n",
    "anzahl_bins = 100\n",
    "\n",
    "# Höchsten Balkenwert berechnen (y-Achsen-Maximum)\n",
    "counts, bins = np.histogram(werte, bins=anzahl_bins)\n",
    "max_count = counts.max()\n",
    "\n",
    "# Interaktives Histogramm mit Plotly\n",
    "fig = px.histogram(\n",
    "    df_clean,\n",
    "    x=\"Geburtsgewicht [g]\",\n",
    "    nbins=anzahl_bins,\n",
    "    title=\"Verteilung des Geburtsgewichts\",\n",
    "    labels={\"Geburtsgewicht [g]\": \"Gramm\"},\n",
    "    color_discrete_sequence=[\"cornflowerblue\"]\n",
    ")\n",
    "\n",
    "# Layout: schöner Abstand & Achsentitel\n",
    "fig.update_layout(\n",
    "    bargap=0.05,\n",
    "    xaxis_title=\"Geburtsgewicht\",\n",
    "    yaxis_title=\"Anzahl Fälle\"\n",
    ")\n",
    "\n",
    "# Y-Achse anpassen: Puffer 15 % oben drauf\n",
    "fig.update_yaxes(\n",
    "    dtick=10,\n",
    "    range=[0, max_count * 1.15]\n",
    ")\n",
    "\n",
    "fig.show()"
   ]
  },
  {
   "cell_type": "code",
   "execution_count": 8,
   "id": "d2e89845",
   "metadata": {},
   "outputs": [
    {
     "name": "stdout",
     "output_type": "stream",
     "text": [
      "Durchschnittlicher BMI: 22\n",
      "Median: 21\n"
     ]
    },
    {
     "data": {
      "text/html": [
       "<div>\n",
       "<style scoped>\n",
       "    .dataframe tbody tr th:only-of-type {\n",
       "        vertical-align: middle;\n",
       "    }\n",
       "\n",
       "    .dataframe tbody tr th {\n",
       "        vertical-align: top;\n",
       "    }\n",
       "\n",
       "    .dataframe thead th {\n",
       "        text-align: right;\n",
       "    }\n",
       "</style>\n",
       "<table border=\"1\" class=\"dataframe\">\n",
       "  <thead>\n",
       "    <tr style=\"text-align: right;\">\n",
       "      <th></th>\n",
       "      <th>Fall</th>\n",
       "      <th>Geburtsgewicht [g]</th>\n",
       "      <th>Schwangerschaftsdauer [d]</th>\n",
       "      <th>Erstschwangerschaft</th>\n",
       "      <th>Alter der Mutter in Jahren</th>\n",
       "      <th>Körpergröße [cm]</th>\n",
       "      <th>Gewicht der Mutter [kg]</th>\n",
       "      <th>Mutter raucht</th>\n",
       "      <th>BMI</th>\n",
       "    </tr>\n",
       "  </thead>\n",
       "  <tbody>\n",
       "    <tr>\n",
       "      <th>0</th>\n",
       "      <td>1</td>\n",
       "      <td>3402</td>\n",
       "      <td>284</td>\n",
       "      <td>0</td>\n",
       "      <td>27</td>\n",
       "      <td>157</td>\n",
       "      <td>45</td>\n",
       "      <td>0</td>\n",
       "      <td>18.3</td>\n",
       "    </tr>\n",
       "    <tr>\n",
       "      <th>1</th>\n",
       "      <td>2</td>\n",
       "      <td>3203</td>\n",
       "      <td>282</td>\n",
       "      <td>0</td>\n",
       "      <td>33</td>\n",
       "      <td>163</td>\n",
       "      <td>61</td>\n",
       "      <td>0</td>\n",
       "      <td>23.0</td>\n",
       "    </tr>\n",
       "    <tr>\n",
       "      <th>2</th>\n",
       "      <td>3</td>\n",
       "      <td>3629</td>\n",
       "      <td>279</td>\n",
       "      <td>0</td>\n",
       "      <td>28</td>\n",
       "      <td>163</td>\n",
       "      <td>52</td>\n",
       "      <td>1</td>\n",
       "      <td>19.6</td>\n",
       "    </tr>\n",
       "    <tr>\n",
       "      <th>4</th>\n",
       "      <td>5</td>\n",
       "      <td>3062</td>\n",
       "      <td>282</td>\n",
       "      <td>0</td>\n",
       "      <td>23</td>\n",
       "      <td>170</td>\n",
       "      <td>57</td>\n",
       "      <td>1</td>\n",
       "      <td>19.7</td>\n",
       "    </tr>\n",
       "    <tr>\n",
       "      <th>5</th>\n",
       "      <td>6</td>\n",
       "      <td>3856</td>\n",
       "      <td>286</td>\n",
       "      <td>0</td>\n",
       "      <td>25</td>\n",
       "      <td>157</td>\n",
       "      <td>42</td>\n",
       "      <td>0</td>\n",
       "      <td>17.0</td>\n",
       "    </tr>\n",
       "    <tr>\n",
       "      <th>...</th>\n",
       "      <td>...</td>\n",
       "      <td>...</td>\n",
       "      <td>...</td>\n",
       "      <td>...</td>\n",
       "      <td>...</td>\n",
       "      <td>...</td>\n",
       "      <td>...</td>\n",
       "      <td>...</td>\n",
       "      <td>...</td>\n",
       "    </tr>\n",
       "    <tr>\n",
       "      <th>1231</th>\n",
       "      <td>1232</td>\n",
       "      <td>3203</td>\n",
       "      <td>275</td>\n",
       "      <td>1</td>\n",
       "      <td>27</td>\n",
       "      <td>152</td>\n",
       "      <td>45</td>\n",
       "      <td>0</td>\n",
       "      <td>19.5</td>\n",
       "    </tr>\n",
       "    <tr>\n",
       "      <th>1232</th>\n",
       "      <td>1233</td>\n",
       "      <td>3629</td>\n",
       "      <td>265</td>\n",
       "      <td>0</td>\n",
       "      <td>24</td>\n",
       "      <td>170</td>\n",
       "      <td>54</td>\n",
       "      <td>0</td>\n",
       "      <td>18.7</td>\n",
       "    </tr>\n",
       "    <tr>\n",
       "      <th>1233</th>\n",
       "      <td>1234</td>\n",
       "      <td>3685</td>\n",
       "      <td>291</td>\n",
       "      <td>0</td>\n",
       "      <td>30</td>\n",
       "      <td>165</td>\n",
       "      <td>68</td>\n",
       "      <td>1</td>\n",
       "      <td>25.0</td>\n",
       "    </tr>\n",
       "    <tr>\n",
       "      <th>1234</th>\n",
       "      <td>1235</td>\n",
       "      <td>3544</td>\n",
       "      <td>281</td>\n",
       "      <td>1</td>\n",
       "      <td>21</td>\n",
       "      <td>165</td>\n",
       "      <td>50</td>\n",
       "      <td>0</td>\n",
       "      <td>18.4</td>\n",
       "    </tr>\n",
       "    <tr>\n",
       "      <th>1235</th>\n",
       "      <td>1236</td>\n",
       "      <td>3317</td>\n",
       "      <td>297</td>\n",
       "      <td>0</td>\n",
       "      <td>38</td>\n",
       "      <td>165</td>\n",
       "      <td>59</td>\n",
       "      <td>0</td>\n",
       "      <td>21.7</td>\n",
       "    </tr>\n",
       "  </tbody>\n",
       "</table>\n",
       "<p>1174 rows × 9 columns</p>\n",
       "</div>"
      ],
      "text/plain": [
       "      Fall  Geburtsgewicht [g]  Schwangerschaftsdauer [d]  \\\n",
       "0        1                3402                        284   \n",
       "1        2                3203                        282   \n",
       "2        3                3629                        279   \n",
       "4        5                3062                        282   \n",
       "5        6                3856                        286   \n",
       "...    ...                 ...                        ...   \n",
       "1231  1232                3203                        275   \n",
       "1232  1233                3629                        265   \n",
       "1233  1234                3685                        291   \n",
       "1234  1235                3544                        281   \n",
       "1235  1236                3317                        297   \n",
       "\n",
       "      Erstschwangerschaft  Alter der Mutter in Jahren  Körpergröße [cm]  \\\n",
       "0                       0                          27               157   \n",
       "1                       0                          33               163   \n",
       "2                       0                          28               163   \n",
       "4                       0                          23               170   \n",
       "5                       0                          25               157   \n",
       "...                   ...                         ...               ...   \n",
       "1231                    1                          27               152   \n",
       "1232                    0                          24               170   \n",
       "1233                    0                          30               165   \n",
       "1234                    1                          21               165   \n",
       "1235                    0                          38               165   \n",
       "\n",
       "      Gewicht der Mutter [kg]  Mutter raucht   BMI  \n",
       "0                          45              0  18.3  \n",
       "1                          61              0  23.0  \n",
       "2                          52              1  19.6  \n",
       "4                          57              1  19.7  \n",
       "5                          42              0  17.0  \n",
       "...                       ...            ...   ...  \n",
       "1231                       45              0  19.5  \n",
       "1232                       54              0  18.7  \n",
       "1233                       68              1  25.0  \n",
       "1234                       50              0  18.4  \n",
       "1235                       59              0  21.7  \n",
       "\n",
       "[1174 rows x 9 columns]"
      ]
     },
     "execution_count": 8,
     "metadata": {},
     "output_type": "execute_result"
    }
   ],
   "source": [
    "# 8. Berechne den BMI der Mütter.\n",
    "\n",
    "# Körpergröße von cm in m umrechnen\n",
    "groesse_m = df_clean[\"Körpergröße [cm]\"] / 100\n",
    "\n",
    "# BMI berechnen und neue Spalte anlegen\n",
    "df_clean[\"BMI\"] = df_clean[\"Gewicht der Mutter [kg]\"] / (groesse_m ** 2)\n",
    "df_clean[\"BMI\"] = df_clean[\"BMI\"].round(1)\n",
    "df_clean[\"BMI\"]\n",
    "\n",
    "durchschnitt_bmi = int(round(df_clean[\"BMI\"].mean()))\n",
    "print(f\"Durchschnittlicher BMI: {durchschnitt_bmi}\")\n",
    "\n",
    "median = int(round(df_clean[\"BMI\"].median()))\n",
    "print(f\"Median: {median}\")\n",
    "\n",
    "df_clean"
   ]
  },
  {
   "cell_type": "code",
   "execution_count": 13,
   "id": "2a42de3f",
   "metadata": {},
   "outputs": [
    {
     "name": "stdout",
     "output_type": "stream",
     "text": [
      "Raucherinnen:        3227 g\n",
      "Nichtraucherinnen:  3489 g\n"
     ]
    },
    {
     "data": {
      "application/vnd.plotly.v1+json": {
       "config": {
        "plotlyServerURL": "https://plot.ly"
       },
       "data": [
        {
         "alignmentgroup": "True",
         "boxpoints": "all",
         "hovertemplate": "Rauchergruppe=%{x}<br>Geburtsgewicht [g]=%{y}<extra></extra>",
         "legendgroup": "Nichtraucherinnen",
         "marker": {
          "color": "lightgreen"
         },
         "name": "Nichtraucherinnen",
         "notched": false,
         "offsetgroup": "Nichtraucherinnen",
         "orientation": "v",
         "showlegend": true,
         "type": "box",
         "x": [
          "Nichtraucherinnen",
          "Nichtraucherinnen",
          "Nichtraucherinnen",
          "Nichtraucherinnen",
          "Nichtraucherinnen",
          "Nichtraucherinnen",
          "Nichtraucherinnen",
          "Nichtraucherinnen",
          "Nichtraucherinnen",
          "Nichtraucherinnen",
          "Nichtraucherinnen",
          "Nichtraucherinnen",
          "Nichtraucherinnen",
          "Nichtraucherinnen",
          "Nichtraucherinnen",
          "Nichtraucherinnen",
          "Nichtraucherinnen",
          "Nichtraucherinnen",
          "Nichtraucherinnen",
          "Nichtraucherinnen",
          "Nichtraucherinnen",
          "Nichtraucherinnen",
          "Nichtraucherinnen",
          "Nichtraucherinnen",
          "Nichtraucherinnen",
          "Nichtraucherinnen",
          "Nichtraucherinnen",
          "Nichtraucherinnen",
          "Nichtraucherinnen",
          "Nichtraucherinnen",
          "Nichtraucherinnen",
          "Nichtraucherinnen",
          "Nichtraucherinnen",
          "Nichtraucherinnen",
          "Nichtraucherinnen",
          "Nichtraucherinnen",
          "Nichtraucherinnen",
          "Nichtraucherinnen",
          "Nichtraucherinnen",
          "Nichtraucherinnen",
          "Nichtraucherinnen",
          "Nichtraucherinnen",
          "Nichtraucherinnen",
          "Nichtraucherinnen",
          "Nichtraucherinnen",
          "Nichtraucherinnen",
          "Nichtraucherinnen",
          "Nichtraucherinnen",
          "Nichtraucherinnen",
          "Nichtraucherinnen",
          "Nichtraucherinnen",
          "Nichtraucherinnen",
          "Nichtraucherinnen",
          "Nichtraucherinnen",
          "Nichtraucherinnen",
          "Nichtraucherinnen",
          "Nichtraucherinnen",
          "Nichtraucherinnen",
          "Nichtraucherinnen",
          "Nichtraucherinnen",
          "Nichtraucherinnen",
          "Nichtraucherinnen",
          "Nichtraucherinnen",
          "Nichtraucherinnen",
          "Nichtraucherinnen",
          "Nichtraucherinnen",
          "Nichtraucherinnen",
          "Nichtraucherinnen",
          "Nichtraucherinnen",
          "Nichtraucherinnen",
          "Nichtraucherinnen",
          "Nichtraucherinnen",
          "Nichtraucherinnen",
          "Nichtraucherinnen",
          "Nichtraucherinnen",
          "Nichtraucherinnen",
          "Nichtraucherinnen",
          "Nichtraucherinnen",
          "Nichtraucherinnen",
          "Nichtraucherinnen",
          "Nichtraucherinnen",
          "Nichtraucherinnen",
          "Nichtraucherinnen",
          "Nichtraucherinnen",
          "Nichtraucherinnen",
          "Nichtraucherinnen",
          "Nichtraucherinnen",
          "Nichtraucherinnen",
          "Nichtraucherinnen",
          "Nichtraucherinnen",
          "Nichtraucherinnen",
          "Nichtraucherinnen",
          "Nichtraucherinnen",
          "Nichtraucherinnen",
          "Nichtraucherinnen",
          "Nichtraucherinnen",
          "Nichtraucherinnen",
          "Nichtraucherinnen",
          "Nichtraucherinnen",
          "Nichtraucherinnen",
          "Nichtraucherinnen",
          "Nichtraucherinnen",
          "Nichtraucherinnen",
          "Nichtraucherinnen",
          "Nichtraucherinnen",
          "Nichtraucherinnen",
          "Nichtraucherinnen",
          "Nichtraucherinnen",
          "Nichtraucherinnen",
          "Nichtraucherinnen",
          "Nichtraucherinnen",
          "Nichtraucherinnen",
          "Nichtraucherinnen",
          "Nichtraucherinnen",
          "Nichtraucherinnen",
          "Nichtraucherinnen",
          "Nichtraucherinnen",
          "Nichtraucherinnen",
          "Nichtraucherinnen",
          "Nichtraucherinnen",
          "Nichtraucherinnen",
          "Nichtraucherinnen",
          "Nichtraucherinnen",
          "Nichtraucherinnen",
          "Nichtraucherinnen",
          "Nichtraucherinnen",
          "Nichtraucherinnen",
          "Nichtraucherinnen",
          "Nichtraucherinnen",
          "Nichtraucherinnen",
          "Nichtraucherinnen",
          "Nichtraucherinnen",
          "Nichtraucherinnen",
          "Nichtraucherinnen",
          "Nichtraucherinnen",
          "Nichtraucherinnen",
          "Nichtraucherinnen",
          "Nichtraucherinnen",
          "Nichtraucherinnen",
          "Nichtraucherinnen",
          "Nichtraucherinnen",
          "Nichtraucherinnen",
          "Nichtraucherinnen",
          "Nichtraucherinnen",
          "Nichtraucherinnen",
          "Nichtraucherinnen",
          "Nichtraucherinnen",
          "Nichtraucherinnen",
          "Nichtraucherinnen",
          "Nichtraucherinnen",
          "Nichtraucherinnen",
          "Nichtraucherinnen",
          "Nichtraucherinnen",
          "Nichtraucherinnen",
          "Nichtraucherinnen",
          "Nichtraucherinnen",
          "Nichtraucherinnen",
          "Nichtraucherinnen",
          "Nichtraucherinnen",
          "Nichtraucherinnen",
          "Nichtraucherinnen",
          "Nichtraucherinnen",
          "Nichtraucherinnen",
          "Nichtraucherinnen",
          "Nichtraucherinnen",
          "Nichtraucherinnen",
          "Nichtraucherinnen",
          "Nichtraucherinnen",
          "Nichtraucherinnen",
          "Nichtraucherinnen",
          "Nichtraucherinnen",
          "Nichtraucherinnen",
          "Nichtraucherinnen",
          "Nichtraucherinnen",
          "Nichtraucherinnen",
          "Nichtraucherinnen",
          "Nichtraucherinnen",
          "Nichtraucherinnen",
          "Nichtraucherinnen",
          "Nichtraucherinnen",
          "Nichtraucherinnen",
          "Nichtraucherinnen",
          "Nichtraucherinnen",
          "Nichtraucherinnen",
          "Nichtraucherinnen",
          "Nichtraucherinnen",
          "Nichtraucherinnen",
          "Nichtraucherinnen",
          "Nichtraucherinnen",
          "Nichtraucherinnen",
          "Nichtraucherinnen",
          "Nichtraucherinnen",
          "Nichtraucherinnen",
          "Nichtraucherinnen",
          "Nichtraucherinnen",
          "Nichtraucherinnen",
          "Nichtraucherinnen",
          "Nichtraucherinnen",
          "Nichtraucherinnen",
          "Nichtraucherinnen",
          "Nichtraucherinnen",
          "Nichtraucherinnen",
          "Nichtraucherinnen",
          "Nichtraucherinnen",
          "Nichtraucherinnen",
          "Nichtraucherinnen",
          "Nichtraucherinnen",
          "Nichtraucherinnen",
          "Nichtraucherinnen",
          "Nichtraucherinnen",
          "Nichtraucherinnen",
          "Nichtraucherinnen",
          "Nichtraucherinnen",
          "Nichtraucherinnen",
          "Nichtraucherinnen",
          "Nichtraucherinnen",
          "Nichtraucherinnen",
          "Nichtraucherinnen",
          "Nichtraucherinnen",
          "Nichtraucherinnen",
          "Nichtraucherinnen",
          "Nichtraucherinnen",
          "Nichtraucherinnen",
          "Nichtraucherinnen",
          "Nichtraucherinnen",
          "Nichtraucherinnen",
          "Nichtraucherinnen",
          "Nichtraucherinnen",
          "Nichtraucherinnen",
          "Nichtraucherinnen",
          "Nichtraucherinnen",
          "Nichtraucherinnen",
          "Nichtraucherinnen",
          "Nichtraucherinnen",
          "Nichtraucherinnen",
          "Nichtraucherinnen",
          "Nichtraucherinnen",
          "Nichtraucherinnen",
          "Nichtraucherinnen",
          "Nichtraucherinnen",
          "Nichtraucherinnen",
          "Nichtraucherinnen",
          "Nichtraucherinnen",
          "Nichtraucherinnen",
          "Nichtraucherinnen",
          "Nichtraucherinnen",
          "Nichtraucherinnen",
          "Nichtraucherinnen",
          "Nichtraucherinnen",
          "Nichtraucherinnen",
          "Nichtraucherinnen",
          "Nichtraucherinnen",
          "Nichtraucherinnen",
          "Nichtraucherinnen",
          "Nichtraucherinnen",
          "Nichtraucherinnen",
          "Nichtraucherinnen",
          "Nichtraucherinnen",
          "Nichtraucherinnen",
          "Nichtraucherinnen",
          "Nichtraucherinnen",
          "Nichtraucherinnen",
          "Nichtraucherinnen",
          "Nichtraucherinnen",
          "Nichtraucherinnen",
          "Nichtraucherinnen",
          "Nichtraucherinnen",
          "Nichtraucherinnen",
          "Nichtraucherinnen",
          "Nichtraucherinnen",
          "Nichtraucherinnen",
          "Nichtraucherinnen",
          "Nichtraucherinnen",
          "Nichtraucherinnen",
          "Nichtraucherinnen",
          "Nichtraucherinnen",
          "Nichtraucherinnen",
          "Nichtraucherinnen",
          "Nichtraucherinnen",
          "Nichtraucherinnen",
          "Nichtraucherinnen",
          "Nichtraucherinnen",
          "Nichtraucherinnen",
          "Nichtraucherinnen",
          "Nichtraucherinnen",
          "Nichtraucherinnen",
          "Nichtraucherinnen",
          "Nichtraucherinnen",
          "Nichtraucherinnen",
          "Nichtraucherinnen",
          "Nichtraucherinnen",
          "Nichtraucherinnen",
          "Nichtraucherinnen",
          "Nichtraucherinnen",
          "Nichtraucherinnen",
          "Nichtraucherinnen",
          "Nichtraucherinnen",
          "Nichtraucherinnen",
          "Nichtraucherinnen",
          "Nichtraucherinnen",
          "Nichtraucherinnen",
          "Nichtraucherinnen",
          "Nichtraucherinnen",
          "Nichtraucherinnen",
          "Nichtraucherinnen",
          "Nichtraucherinnen",
          "Nichtraucherinnen",
          "Nichtraucherinnen",
          "Nichtraucherinnen",
          "Nichtraucherinnen",
          "Nichtraucherinnen",
          "Nichtraucherinnen",
          "Nichtraucherinnen",
          "Nichtraucherinnen",
          "Nichtraucherinnen",
          "Nichtraucherinnen",
          "Nichtraucherinnen",
          "Nichtraucherinnen",
          "Nichtraucherinnen",
          "Nichtraucherinnen",
          "Nichtraucherinnen",
          "Nichtraucherinnen",
          "Nichtraucherinnen",
          "Nichtraucherinnen",
          "Nichtraucherinnen",
          "Nichtraucherinnen",
          "Nichtraucherinnen",
          "Nichtraucherinnen",
          "Nichtraucherinnen",
          "Nichtraucherinnen",
          "Nichtraucherinnen",
          "Nichtraucherinnen",
          "Nichtraucherinnen",
          "Nichtraucherinnen",
          "Nichtraucherinnen",
          "Nichtraucherinnen",
          "Nichtraucherinnen",
          "Nichtraucherinnen",
          "Nichtraucherinnen",
          "Nichtraucherinnen",
          "Nichtraucherinnen",
          "Nichtraucherinnen",
          "Nichtraucherinnen",
          "Nichtraucherinnen",
          "Nichtraucherinnen",
          "Nichtraucherinnen",
          "Nichtraucherinnen",
          "Nichtraucherinnen",
          "Nichtraucherinnen",
          "Nichtraucherinnen",
          "Nichtraucherinnen",
          "Nichtraucherinnen",
          "Nichtraucherinnen",
          "Nichtraucherinnen",
          "Nichtraucherinnen",
          "Nichtraucherinnen",
          "Nichtraucherinnen",
          "Nichtraucherinnen",
          "Nichtraucherinnen",
          "Nichtraucherinnen",
          "Nichtraucherinnen",
          "Nichtraucherinnen",
          "Nichtraucherinnen",
          "Nichtraucherinnen",
          "Nichtraucherinnen",
          "Nichtraucherinnen",
          "Nichtraucherinnen",
          "Nichtraucherinnen",
          "Nichtraucherinnen",
          "Nichtraucherinnen",
          "Nichtraucherinnen",
          "Nichtraucherinnen",
          "Nichtraucherinnen",
          "Nichtraucherinnen",
          "Nichtraucherinnen",
          "Nichtraucherinnen",
          "Nichtraucherinnen",
          "Nichtraucherinnen",
          "Nichtraucherinnen",
          "Nichtraucherinnen",
          "Nichtraucherinnen",
          "Nichtraucherinnen",
          "Nichtraucherinnen",
          "Nichtraucherinnen",
          "Nichtraucherinnen",
          "Nichtraucherinnen",
          "Nichtraucherinnen",
          "Nichtraucherinnen",
          "Nichtraucherinnen",
          "Nichtraucherinnen",
          "Nichtraucherinnen",
          "Nichtraucherinnen",
          "Nichtraucherinnen",
          "Nichtraucherinnen",
          "Nichtraucherinnen",
          "Nichtraucherinnen",
          "Nichtraucherinnen",
          "Nichtraucherinnen",
          "Nichtraucherinnen",
          "Nichtraucherinnen",
          "Nichtraucherinnen",
          "Nichtraucherinnen",
          "Nichtraucherinnen",
          "Nichtraucherinnen",
          "Nichtraucherinnen",
          "Nichtraucherinnen",
          "Nichtraucherinnen",
          "Nichtraucherinnen",
          "Nichtraucherinnen",
          "Nichtraucherinnen",
          "Nichtraucherinnen",
          "Nichtraucherinnen",
          "Nichtraucherinnen",
          "Nichtraucherinnen",
          "Nichtraucherinnen",
          "Nichtraucherinnen",
          "Nichtraucherinnen",
          "Nichtraucherinnen",
          "Nichtraucherinnen",
          "Nichtraucherinnen",
          "Nichtraucherinnen",
          "Nichtraucherinnen",
          "Nichtraucherinnen",
          "Nichtraucherinnen",
          "Nichtraucherinnen",
          "Nichtraucherinnen",
          "Nichtraucherinnen",
          "Nichtraucherinnen",
          "Nichtraucherinnen",
          "Nichtraucherinnen",
          "Nichtraucherinnen",
          "Nichtraucherinnen",
          "Nichtraucherinnen",
          "Nichtraucherinnen",
          "Nichtraucherinnen",
          "Nichtraucherinnen",
          "Nichtraucherinnen",
          "Nichtraucherinnen",
          "Nichtraucherinnen",
          "Nichtraucherinnen",
          "Nichtraucherinnen",
          "Nichtraucherinnen",
          "Nichtraucherinnen",
          "Nichtraucherinnen",
          "Nichtraucherinnen",
          "Nichtraucherinnen",
          "Nichtraucherinnen",
          "Nichtraucherinnen",
          "Nichtraucherinnen",
          "Nichtraucherinnen",
          "Nichtraucherinnen",
          "Nichtraucherinnen",
          "Nichtraucherinnen",
          "Nichtraucherinnen",
          "Nichtraucherinnen",
          "Nichtraucherinnen",
          "Nichtraucherinnen",
          "Nichtraucherinnen",
          "Nichtraucherinnen",
          "Nichtraucherinnen",
          "Nichtraucherinnen",
          "Nichtraucherinnen",
          "Nichtraucherinnen",
          "Nichtraucherinnen",
          "Nichtraucherinnen",
          "Nichtraucherinnen",
          "Nichtraucherinnen",
          "Nichtraucherinnen",
          "Nichtraucherinnen",
          "Nichtraucherinnen",
          "Nichtraucherinnen",
          "Nichtraucherinnen",
          "Nichtraucherinnen",
          "Nichtraucherinnen",
          "Nichtraucherinnen",
          "Nichtraucherinnen",
          "Nichtraucherinnen",
          "Nichtraucherinnen",
          "Nichtraucherinnen",
          "Nichtraucherinnen",
          "Nichtraucherinnen",
          "Nichtraucherinnen",
          "Nichtraucherinnen",
          "Nichtraucherinnen",
          "Nichtraucherinnen",
          "Nichtraucherinnen",
          "Nichtraucherinnen",
          "Nichtraucherinnen",
          "Nichtraucherinnen",
          "Nichtraucherinnen",
          "Nichtraucherinnen",
          "Nichtraucherinnen",
          "Nichtraucherinnen",
          "Nichtraucherinnen",
          "Nichtraucherinnen",
          "Nichtraucherinnen",
          "Nichtraucherinnen",
          "Nichtraucherinnen",
          "Nichtraucherinnen",
          "Nichtraucherinnen",
          "Nichtraucherinnen",
          "Nichtraucherinnen",
          "Nichtraucherinnen",
          "Nichtraucherinnen",
          "Nichtraucherinnen",
          "Nichtraucherinnen",
          "Nichtraucherinnen",
          "Nichtraucherinnen",
          "Nichtraucherinnen",
          "Nichtraucherinnen",
          "Nichtraucherinnen",
          "Nichtraucherinnen",
          "Nichtraucherinnen",
          "Nichtraucherinnen",
          "Nichtraucherinnen",
          "Nichtraucherinnen",
          "Nichtraucherinnen",
          "Nichtraucherinnen",
          "Nichtraucherinnen",
          "Nichtraucherinnen",
          "Nichtraucherinnen",
          "Nichtraucherinnen",
          "Nichtraucherinnen",
          "Nichtraucherinnen",
          "Nichtraucherinnen",
          "Nichtraucherinnen",
          "Nichtraucherinnen",
          "Nichtraucherinnen",
          "Nichtraucherinnen",
          "Nichtraucherinnen",
          "Nichtraucherinnen",
          "Nichtraucherinnen",
          "Nichtraucherinnen",
          "Nichtraucherinnen",
          "Nichtraucherinnen",
          "Nichtraucherinnen",
          "Nichtraucherinnen",
          "Nichtraucherinnen",
          "Nichtraucherinnen",
          "Nichtraucherinnen",
          "Nichtraucherinnen",
          "Nichtraucherinnen",
          "Nichtraucherinnen",
          "Nichtraucherinnen",
          "Nichtraucherinnen",
          "Nichtraucherinnen",
          "Nichtraucherinnen",
          "Nichtraucherinnen",
          "Nichtraucherinnen",
          "Nichtraucherinnen",
          "Nichtraucherinnen",
          "Nichtraucherinnen",
          "Nichtraucherinnen",
          "Nichtraucherinnen",
          "Nichtraucherinnen",
          "Nichtraucherinnen",
          "Nichtraucherinnen",
          "Nichtraucherinnen",
          "Nichtraucherinnen",
          "Nichtraucherinnen",
          "Nichtraucherinnen",
          "Nichtraucherinnen",
          "Nichtraucherinnen",
          "Nichtraucherinnen",
          "Nichtraucherinnen",
          "Nichtraucherinnen",
          "Nichtraucherinnen",
          "Nichtraucherinnen",
          "Nichtraucherinnen",
          "Nichtraucherinnen",
          "Nichtraucherinnen",
          "Nichtraucherinnen",
          "Nichtraucherinnen",
          "Nichtraucherinnen",
          "Nichtraucherinnen",
          "Nichtraucherinnen",
          "Nichtraucherinnen",
          "Nichtraucherinnen",
          "Nichtraucherinnen",
          "Nichtraucherinnen",
          "Nichtraucherinnen",
          "Nichtraucherinnen",
          "Nichtraucherinnen",
          "Nichtraucherinnen",
          "Nichtraucherinnen",
          "Nichtraucherinnen",
          "Nichtraucherinnen",
          "Nichtraucherinnen",
          "Nichtraucherinnen",
          "Nichtraucherinnen",
          "Nichtraucherinnen",
          "Nichtraucherinnen",
          "Nichtraucherinnen",
          "Nichtraucherinnen",
          "Nichtraucherinnen",
          "Nichtraucherinnen",
          "Nichtraucherinnen",
          "Nichtraucherinnen",
          "Nichtraucherinnen",
          "Nichtraucherinnen",
          "Nichtraucherinnen",
          "Nichtraucherinnen",
          "Nichtraucherinnen",
          "Nichtraucherinnen",
          "Nichtraucherinnen",
          "Nichtraucherinnen",
          "Nichtraucherinnen",
          "Nichtraucherinnen",
          "Nichtraucherinnen",
          "Nichtraucherinnen",
          "Nichtraucherinnen",
          "Nichtraucherinnen",
          "Nichtraucherinnen",
          "Nichtraucherinnen",
          "Nichtraucherinnen",
          "Nichtraucherinnen",
          "Nichtraucherinnen",
          "Nichtraucherinnen",
          "Nichtraucherinnen",
          "Nichtraucherinnen",
          "Nichtraucherinnen",
          "Nichtraucherinnen",
          "Nichtraucherinnen",
          "Nichtraucherinnen",
          "Nichtraucherinnen",
          "Nichtraucherinnen",
          "Nichtraucherinnen",
          "Nichtraucherinnen",
          "Nichtraucherinnen",
          "Nichtraucherinnen",
          "Nichtraucherinnen",
          "Nichtraucherinnen",
          "Nichtraucherinnen",
          "Nichtraucherinnen",
          "Nichtraucherinnen",
          "Nichtraucherinnen",
          "Nichtraucherinnen",
          "Nichtraucherinnen",
          "Nichtraucherinnen",
          "Nichtraucherinnen",
          "Nichtraucherinnen",
          "Nichtraucherinnen",
          "Nichtraucherinnen",
          "Nichtraucherinnen",
          "Nichtraucherinnen",
          "Nichtraucherinnen",
          "Nichtraucherinnen",
          "Nichtraucherinnen",
          "Nichtraucherinnen",
          "Nichtraucherinnen",
          "Nichtraucherinnen",
          "Nichtraucherinnen",
          "Nichtraucherinnen",
          "Nichtraucherinnen",
          "Nichtraucherinnen",
          "Nichtraucherinnen",
          "Nichtraucherinnen",
          "Nichtraucherinnen",
          "Nichtraucherinnen",
          "Nichtraucherinnen",
          "Nichtraucherinnen",
          "Nichtraucherinnen",
          "Nichtraucherinnen",
          "Nichtraucherinnen",
          "Nichtraucherinnen",
          "Nichtraucherinnen",
          "Nichtraucherinnen",
          "Nichtraucherinnen",
          "Nichtraucherinnen",
          "Nichtraucherinnen",
          "Nichtraucherinnen",
          "Nichtraucherinnen",
          "Nichtraucherinnen",
          "Nichtraucherinnen",
          "Nichtraucherinnen",
          "Nichtraucherinnen",
          "Nichtraucherinnen",
          "Nichtraucherinnen",
          "Nichtraucherinnen",
          "Nichtraucherinnen",
          "Nichtraucherinnen",
          "Nichtraucherinnen",
          "Nichtraucherinnen",
          "Nichtraucherinnen",
          "Nichtraucherinnen",
          "Nichtraucherinnen",
          "Nichtraucherinnen",
          "Nichtraucherinnen",
          "Nichtraucherinnen",
          "Nichtraucherinnen",
          "Nichtraucherinnen",
          "Nichtraucherinnen",
          "Nichtraucherinnen",
          "Nichtraucherinnen",
          "Nichtraucherinnen",
          "Nichtraucherinnen",
          "Nichtraucherinnen",
          "Nichtraucherinnen",
          "Nichtraucherinnen",
          "Nichtraucherinnen",
          "Nichtraucherinnen",
          "Nichtraucherinnen",
          "Nichtraucherinnen",
          "Nichtraucherinnen",
          "Nichtraucherinnen",
          "Nichtraucherinnen",
          "Nichtraucherinnen",
          "Nichtraucherinnen",
          "Nichtraucherinnen",
          "Nichtraucherinnen",
          "Nichtraucherinnen",
          "Nichtraucherinnen",
          "Nichtraucherinnen",
          "Nichtraucherinnen",
          "Nichtraucherinnen"
         ],
         "x0": " ",
         "xaxis": "x",
         "y": {
          "bdata": "Sg2DDBAPSA+eDkoNgQ+gDLwM8g+hCywPgw2CDisQ2A2DDU0KZQ4uDYMM1w7ZC0kOLgxLDCoRLgyDDbwMTAvWDysQuw0PEL0LTgjZC7sNvgq6D2UORxFKDRAOZg1KDYAQSQ5lD0gPSA+CDi0O1w6gDPMO2A2hCy4Nug4qEfQNSQ4sD9gNEQ2CDmYNgg4RDdUQZg31DGcMEgyeDvUMLQ71DNcOEA6DDUcQSg3yDxAPTAv0DfQNvAwuDZ8N1w7yD0sM2A3zDtcOSQ5mDUgPEA9KDdcOZwyeDhAPogq7DYMMLA+6DtkLEA9lDvcJnw0sDy8Lug+7DRIMgg4QDvUMnBBqCS0OoQvZCy4N1w71DLwMTQrYDU0KSQ70DWoJKBNLDPQNgw2dD7oPgwyAEC0O2A2gDNkM2A0uDEgPug9MC4EPug4QDtUQ1g+CDoMMgg5kECwP9Qy8DJ4OLg2eDtwISwzWDxAPLgz2C70LgBDzDi4MZg26D4QLSA9nDIIO2QyBD0oNZQ9LDC4MoQtNCoQLSg0RDaAM2QxJDr8Jgw29C/MO2Qv0DdkMuw2fDdoKLgwvC6IKEwsOERAO9A0QDkkOng4QDg8QEA9mDUoNEQ0QDp4OTAsRDUwLDRKeDtkMSA9lD54Ogg68DC4N2A2fDUoNgQ9KDSsQgw0tDvMOSQ7ZDEgPnw2DDJ4OSg2gDGUOug8QDmoJnw1nDKMI2QsQDxMLhAu6DhENgQ+8DGUOoAyhCy8LZwy8DNoKLQ4OERAOSQ5ID7sNSwxoC38Rng7dB9kMSQ7XDp8NRxBmDdgNvAwvCxIMvAyfDYMNuw1JDrsNug9JDkUTaAu7DaELoQv2C/EQug6fDZ0P2QxmDUsMTAsRDYIOvAxHEJ8N2A33CtkM0xKEC/YL9wq+ChIMRxChC6ELLg1oC/UMSg0PELsNFAoSDMAIug6gDC0OSQ6+Cn4T1g+DDJwQuw0uDYMNZwwQD5wQaQorELsNnQ8QDmgL2QyfDUkOEwsrEE0JvAy8DBQKZwy8DC4M9Qz3ChAPZQ6cEKMI2QwuDBIMgwwQD2YN9QxiEqIJng4sD7sNEA/1DGYN2QxlDy4Mug74CLoOng6eDiwPTQmgDH4Suw0qEdgN2A28DEUTEA6DDGUPEA5nDCoRZg1JDhQKRxDyDy0OLA9KDWcMSA/XDvQNZwxIDy4MZwxkEC4N9A3YDRAPEA6CDi4Mnw3VEBAOZQ+7DYMMLg31DPUMZg1GEkoNLA/XDvYLnw2dD2UOZQ9lDoMM3gZKDfMOgwz0DdYPLQ7aCi4M8RHZDC0OLA+4EWcM2QxLDPQNEgwQD7sNKhGDDYMMgw30DS4Mug7YDSkSug67DYMN9wktDp8NLQ5KDdgNEQ3ZDIIOuRAsDxAOSQ4tDmoJSwy7DfkH2Qz3CvIPSA8uDEkOnBAtDrwM9gtlDxAPgg6EC38R9wplD6EL2wlJDi4NoAyDDRAPZwxnDNgNZQ66DkcQEgzzDvUMEQ2DDGQQgQ/XDkoNTAsXBp8NSA8tDpwR8g/1DC4NoQsuDS8LoQsuDNoKEA6DDdYPLgzYDaAMaAugDLcSnBDyD/IP1g9mDaEL1w5JDqAMvgq4ETMHDxCFCmUPnw0uDIMN9guCDhAP2A1MC2cM8w5JDtgNFggRDUwLSg2DDfQNDxBlD7sNZg30DS4NoAwRDRAO9QwsD7oO2QvYDWMR9gtlDvMOnw0TC7sNRRNJDi0O2QwuDEkOnQ8uDBENSwy4EUoNZg31DH8RLQ5/EQ0SLQ70DdcOgQ8TC2UOLA+gDPoG2grbCdYP9wq9C/UMZwxnDJ0Pgg6eDr0LZwxlD4QLLg2fDbwMLQ4TC6AM9A2DDdUQTQllD0wLgwxlDtkMoAzyD0gP9woRDb4KKxAuDPMOEQ0QDp4OgwwtDtgN9Qw=",
          "dtype": "i2"
         },
         "y0": " ",
         "yaxis": "y"
        },
        {
         "alignmentgroup": "True",
         "boxpoints": "all",
         "hovertemplate": "Rauchergruppe=%{x}<br>Geburtsgewicht [g]=%{y}<extra></extra>",
         "legendgroup": "Raucherinnen",
         "marker": {
          "color": "lightcoral"
         },
         "name": "Raucherinnen",
         "notched": false,
         "offsetgroup": "Raucherinnen",
         "orientation": "v",
         "showlegend": true,
         "type": "box",
         "x": [
          "Raucherinnen",
          "Raucherinnen",
          "Raucherinnen",
          "Raucherinnen",
          "Raucherinnen",
          "Raucherinnen",
          "Raucherinnen",
          "Raucherinnen",
          "Raucherinnen",
          "Raucherinnen",
          "Raucherinnen",
          "Raucherinnen",
          "Raucherinnen",
          "Raucherinnen",
          "Raucherinnen",
          "Raucherinnen",
          "Raucherinnen",
          "Raucherinnen",
          "Raucherinnen",
          "Raucherinnen",
          "Raucherinnen",
          "Raucherinnen",
          "Raucherinnen",
          "Raucherinnen",
          "Raucherinnen",
          "Raucherinnen",
          "Raucherinnen",
          "Raucherinnen",
          "Raucherinnen",
          "Raucherinnen",
          "Raucherinnen",
          "Raucherinnen",
          "Raucherinnen",
          "Raucherinnen",
          "Raucherinnen",
          "Raucherinnen",
          "Raucherinnen",
          "Raucherinnen",
          "Raucherinnen",
          "Raucherinnen",
          "Raucherinnen",
          "Raucherinnen",
          "Raucherinnen",
          "Raucherinnen",
          "Raucherinnen",
          "Raucherinnen",
          "Raucherinnen",
          "Raucherinnen",
          "Raucherinnen",
          "Raucherinnen",
          "Raucherinnen",
          "Raucherinnen",
          "Raucherinnen",
          "Raucherinnen",
          "Raucherinnen",
          "Raucherinnen",
          "Raucherinnen",
          "Raucherinnen",
          "Raucherinnen",
          "Raucherinnen",
          "Raucherinnen",
          "Raucherinnen",
          "Raucherinnen",
          "Raucherinnen",
          "Raucherinnen",
          "Raucherinnen",
          "Raucherinnen",
          "Raucherinnen",
          "Raucherinnen",
          "Raucherinnen",
          "Raucherinnen",
          "Raucherinnen",
          "Raucherinnen",
          "Raucherinnen",
          "Raucherinnen",
          "Raucherinnen",
          "Raucherinnen",
          "Raucherinnen",
          "Raucherinnen",
          "Raucherinnen",
          "Raucherinnen",
          "Raucherinnen",
          "Raucherinnen",
          "Raucherinnen",
          "Raucherinnen",
          "Raucherinnen",
          "Raucherinnen",
          "Raucherinnen",
          "Raucherinnen",
          "Raucherinnen",
          "Raucherinnen",
          "Raucherinnen",
          "Raucherinnen",
          "Raucherinnen",
          "Raucherinnen",
          "Raucherinnen",
          "Raucherinnen",
          "Raucherinnen",
          "Raucherinnen",
          "Raucherinnen",
          "Raucherinnen",
          "Raucherinnen",
          "Raucherinnen",
          "Raucherinnen",
          "Raucherinnen",
          "Raucherinnen",
          "Raucherinnen",
          "Raucherinnen",
          "Raucherinnen",
          "Raucherinnen",
          "Raucherinnen",
          "Raucherinnen",
          "Raucherinnen",
          "Raucherinnen",
          "Raucherinnen",
          "Raucherinnen",
          "Raucherinnen",
          "Raucherinnen",
          "Raucherinnen",
          "Raucherinnen",
          "Raucherinnen",
          "Raucherinnen",
          "Raucherinnen",
          "Raucherinnen",
          "Raucherinnen",
          "Raucherinnen",
          "Raucherinnen",
          "Raucherinnen",
          "Raucherinnen",
          "Raucherinnen",
          "Raucherinnen",
          "Raucherinnen",
          "Raucherinnen",
          "Raucherinnen",
          "Raucherinnen",
          "Raucherinnen",
          "Raucherinnen",
          "Raucherinnen",
          "Raucherinnen",
          "Raucherinnen",
          "Raucherinnen",
          "Raucherinnen",
          "Raucherinnen",
          "Raucherinnen",
          "Raucherinnen",
          "Raucherinnen",
          "Raucherinnen",
          "Raucherinnen",
          "Raucherinnen",
          "Raucherinnen",
          "Raucherinnen",
          "Raucherinnen",
          "Raucherinnen",
          "Raucherinnen",
          "Raucherinnen",
          "Raucherinnen",
          "Raucherinnen",
          "Raucherinnen",
          "Raucherinnen",
          "Raucherinnen",
          "Raucherinnen",
          "Raucherinnen",
          "Raucherinnen",
          "Raucherinnen",
          "Raucherinnen",
          "Raucherinnen",
          "Raucherinnen",
          "Raucherinnen",
          "Raucherinnen",
          "Raucherinnen",
          "Raucherinnen",
          "Raucherinnen",
          "Raucherinnen",
          "Raucherinnen",
          "Raucherinnen",
          "Raucherinnen",
          "Raucherinnen",
          "Raucherinnen",
          "Raucherinnen",
          "Raucherinnen",
          "Raucherinnen",
          "Raucherinnen",
          "Raucherinnen",
          "Raucherinnen",
          "Raucherinnen",
          "Raucherinnen",
          "Raucherinnen",
          "Raucherinnen",
          "Raucherinnen",
          "Raucherinnen",
          "Raucherinnen",
          "Raucherinnen",
          "Raucherinnen",
          "Raucherinnen",
          "Raucherinnen",
          "Raucherinnen",
          "Raucherinnen",
          "Raucherinnen",
          "Raucherinnen",
          "Raucherinnen",
          "Raucherinnen",
          "Raucherinnen",
          "Raucherinnen",
          "Raucherinnen",
          "Raucherinnen",
          "Raucherinnen",
          "Raucherinnen",
          "Raucherinnen",
          "Raucherinnen",
          "Raucherinnen",
          "Raucherinnen",
          "Raucherinnen",
          "Raucherinnen",
          "Raucherinnen",
          "Raucherinnen",
          "Raucherinnen",
          "Raucherinnen",
          "Raucherinnen",
          "Raucherinnen",
          "Raucherinnen",
          "Raucherinnen",
          "Raucherinnen",
          "Raucherinnen",
          "Raucherinnen",
          "Raucherinnen",
          "Raucherinnen",
          "Raucherinnen",
          "Raucherinnen",
          "Raucherinnen",
          "Raucherinnen",
          "Raucherinnen",
          "Raucherinnen",
          "Raucherinnen",
          "Raucherinnen",
          "Raucherinnen",
          "Raucherinnen",
          "Raucherinnen",
          "Raucherinnen",
          "Raucherinnen",
          "Raucherinnen",
          "Raucherinnen",
          "Raucherinnen",
          "Raucherinnen",
          "Raucherinnen",
          "Raucherinnen",
          "Raucherinnen",
          "Raucherinnen",
          "Raucherinnen",
          "Raucherinnen",
          "Raucherinnen",
          "Raucherinnen",
          "Raucherinnen",
          "Raucherinnen",
          "Raucherinnen",
          "Raucherinnen",
          "Raucherinnen",
          "Raucherinnen",
          "Raucherinnen",
          "Raucherinnen",
          "Raucherinnen",
          "Raucherinnen",
          "Raucherinnen",
          "Raucherinnen",
          "Raucherinnen",
          "Raucherinnen",
          "Raucherinnen",
          "Raucherinnen",
          "Raucherinnen",
          "Raucherinnen",
          "Raucherinnen",
          "Raucherinnen",
          "Raucherinnen",
          "Raucherinnen",
          "Raucherinnen",
          "Raucherinnen",
          "Raucherinnen",
          "Raucherinnen",
          "Raucherinnen",
          "Raucherinnen",
          "Raucherinnen",
          "Raucherinnen",
          "Raucherinnen",
          "Raucherinnen",
          "Raucherinnen",
          "Raucherinnen",
          "Raucherinnen",
          "Raucherinnen",
          "Raucherinnen",
          "Raucherinnen",
          "Raucherinnen",
          "Raucherinnen",
          "Raucherinnen",
          "Raucherinnen",
          "Raucherinnen",
          "Raucherinnen",
          "Raucherinnen",
          "Raucherinnen",
          "Raucherinnen",
          "Raucherinnen",
          "Raucherinnen",
          "Raucherinnen",
          "Raucherinnen",
          "Raucherinnen",
          "Raucherinnen",
          "Raucherinnen",
          "Raucherinnen",
          "Raucherinnen",
          "Raucherinnen",
          "Raucherinnen",
          "Raucherinnen",
          "Raucherinnen",
          "Raucherinnen",
          "Raucherinnen",
          "Raucherinnen",
          "Raucherinnen",
          "Raucherinnen",
          "Raucherinnen",
          "Raucherinnen",
          "Raucherinnen",
          "Raucherinnen",
          "Raucherinnen",
          "Raucherinnen",
          "Raucherinnen",
          "Raucherinnen",
          "Raucherinnen",
          "Raucherinnen",
          "Raucherinnen",
          "Raucherinnen",
          "Raucherinnen",
          "Raucherinnen",
          "Raucherinnen",
          "Raucherinnen",
          "Raucherinnen",
          "Raucherinnen",
          "Raucherinnen",
          "Raucherinnen",
          "Raucherinnen",
          "Raucherinnen",
          "Raucherinnen",
          "Raucherinnen",
          "Raucherinnen",
          "Raucherinnen",
          "Raucherinnen",
          "Raucherinnen",
          "Raucherinnen",
          "Raucherinnen",
          "Raucherinnen",
          "Raucherinnen",
          "Raucherinnen",
          "Raucherinnen",
          "Raucherinnen",
          "Raucherinnen",
          "Raucherinnen",
          "Raucherinnen",
          "Raucherinnen",
          "Raucherinnen",
          "Raucherinnen",
          "Raucherinnen",
          "Raucherinnen",
          "Raucherinnen",
          "Raucherinnen",
          "Raucherinnen",
          "Raucherinnen",
          "Raucherinnen",
          "Raucherinnen",
          "Raucherinnen",
          "Raucherinnen",
          "Raucherinnen",
          "Raucherinnen",
          "Raucherinnen",
          "Raucherinnen",
          "Raucherinnen",
          "Raucherinnen",
          "Raucherinnen",
          "Raucherinnen",
          "Raucherinnen",
          "Raucherinnen",
          "Raucherinnen",
          "Raucherinnen",
          "Raucherinnen",
          "Raucherinnen",
          "Raucherinnen",
          "Raucherinnen",
          "Raucherinnen",
          "Raucherinnen",
          "Raucherinnen",
          "Raucherinnen",
          "Raucherinnen",
          "Raucherinnen",
          "Raucherinnen",
          "Raucherinnen",
          "Raucherinnen",
          "Raucherinnen",
          "Raucherinnen",
          "Raucherinnen",
          "Raucherinnen",
          "Raucherinnen",
          "Raucherinnen",
          "Raucherinnen",
          "Raucherinnen",
          "Raucherinnen",
          "Raucherinnen",
          "Raucherinnen",
          "Raucherinnen",
          "Raucherinnen",
          "Raucherinnen",
          "Raucherinnen",
          "Raucherinnen",
          "Raucherinnen",
          "Raucherinnen",
          "Raucherinnen",
          "Raucherinnen",
          "Raucherinnen",
          "Raucherinnen",
          "Raucherinnen",
          "Raucherinnen",
          "Raucherinnen",
          "Raucherinnen",
          "Raucherinnen",
          "Raucherinnen",
          "Raucherinnen",
          "Raucherinnen",
          "Raucherinnen",
          "Raucherinnen",
          "Raucherinnen",
          "Raucherinnen",
          "Raucherinnen",
          "Raucherinnen",
          "Raucherinnen",
          "Raucherinnen",
          "Raucherinnen",
          "Raucherinnen",
          "Raucherinnen",
          "Raucherinnen",
          "Raucherinnen",
          "Raucherinnen",
          "Raucherinnen",
          "Raucherinnen",
          "Raucherinnen",
          "Raucherinnen",
          "Raucherinnen",
          "Raucherinnen",
          "Raucherinnen",
          "Raucherinnen",
          "Raucherinnen",
          "Raucherinnen",
          "Raucherinnen",
          "Raucherinnen",
          "Raucherinnen",
          "Raucherinnen",
          "Raucherinnen",
          "Raucherinnen",
          "Raucherinnen",
          "Raucherinnen",
          "Raucherinnen",
          "Raucherinnen",
          "Raucherinnen",
          "Raucherinnen",
          "Raucherinnen"
         ],
         "x0": " ",
         "xaxis": "x",
         "y": {
          "bdata": "LQ72C9YP8g+dDy4MMAq8DC4NvAxoC6AMoAzXDoMNognWDw8Q9gu7DYMNLwstDoQLLA9oC7oOFArxEPcKoAzYDWoJoglKDdkLLg0UCoUKnQ8TC7wMaQovC2cMLQ5NChMLoQu4EYMMEQ26DtkMgwyCDmYNgw0vC4MMogq6D04IhAsRDdoKnBAuDS8Lgwy+CrwMZg31DC4MZQ6BDw4Rgw3yD6AMDhGcEPcK9QxlDvgIuw3YDbwMhAsuDZ8NnQ9JDi4NEgyECy4M2goQD2YNFApqCb0LEgzaCi8L3Qe7DS8LEwuEC/UM9Qz1DBIMSg1oC58NhAuDDdkMSQ66DoMNug5lDr0LgQ9KDRAO3QdJDg8QTAtJDvMOhAv0DRAO2gqCDvcKvAxMC9YPogllDp8N2QzyD0oNZwyeDisQLg0TC0kOgw31DPIPvAz3CogHTAsSDEwL9wotDi8LEgz1DL8JhQoQDtkL9A3aCqIKTQovC2UO2A2eDqQHoAyfDUkOoAwuDYIOoAwuDGgL9Qz0DZ4OLwugDPYLnw2DDE0KZQ5LDL4K2QuhC7oO1BG8DBAOLQ71DC4NFArZDPQN2gpoC/UMvAwRDfIPagllDvUM8w68DJ8NDhEuDIQLnw1JDvYLaAsQDtkLvQvVEBAPnw1NCkkO2A2iCkgPoAwQDoMM9wq+CvQNLg31DIIOEQ0SDIIO1w4tDoYJvAwTC0oNhQr3CYIOaAvyD4YJEA8wCkkOoQvYDbwM1g/ZDC4MogmeDp8NhAuiCjEJhgkuDE0Jnw2iCvUM2A2gDKIK2QvaCtkL8g8QD9gNEwu/CYcITQoSDA8QMApLDBML1w4PEPQNLg1oC9kMTAtmDRMLhgmiCb8JogpnDLwMgw0QDvcJbAYSDLoPvAwNEocIuw1MC2kKZwwuDb4KvAzyD/cKvQtmDZ8NZQ+hCysQgw1ID0oNLg2hC58NaAuhC2UPhAsRDfcKZg3YDRML9QyDDRENLA9KDfYLgg6hC6MISwxOCGkKDxASDLwMSg2iCkwLFAoqERIM3AhpCmQQnw0zB/YLaAuhCxMLvAwUCmcMLg30DRMLogqCDvYLgwy6DhAOTAtKDdoKhAuDDfcK9Qy9C0cR+QdOCL4KFAr1DGUOoAy4EU0JZQ7dBxUJuw1ID78JFQm+CtkMng4uDb0LaAtnDKIKTAtKDb4KvgoQDqIJnQ/ZDE4I+AigDLsNvAzWD4MMEgxoC2UO",
          "dtype": "i2"
         },
         "y0": " ",
         "yaxis": "y"
        }
       ],
       "layout": {
        "boxmode": "overlay",
        "legend": {
         "title": {
          "text": "Rauchergruppe"
         },
         "tracegroupgap": 0
        },
        "showlegend": false,
        "template": {
         "data": {
          "bar": [
           {
            "error_x": {
             "color": "#2a3f5f"
            },
            "error_y": {
             "color": "#2a3f5f"
            },
            "marker": {
             "line": {
              "color": "#E5ECF6",
              "width": 0.5
             },
             "pattern": {
              "fillmode": "overlay",
              "size": 10,
              "solidity": 0.2
             }
            },
            "type": "bar"
           }
          ],
          "barpolar": [
           {
            "marker": {
             "line": {
              "color": "#E5ECF6",
              "width": 0.5
             },
             "pattern": {
              "fillmode": "overlay",
              "size": 10,
              "solidity": 0.2
             }
            },
            "type": "barpolar"
           }
          ],
          "carpet": [
           {
            "aaxis": {
             "endlinecolor": "#2a3f5f",
             "gridcolor": "white",
             "linecolor": "white",
             "minorgridcolor": "white",
             "startlinecolor": "#2a3f5f"
            },
            "baxis": {
             "endlinecolor": "#2a3f5f",
             "gridcolor": "white",
             "linecolor": "white",
             "minorgridcolor": "white",
             "startlinecolor": "#2a3f5f"
            },
            "type": "carpet"
           }
          ],
          "choropleth": [
           {
            "colorbar": {
             "outlinewidth": 0,
             "ticks": ""
            },
            "type": "choropleth"
           }
          ],
          "contour": [
           {
            "colorbar": {
             "outlinewidth": 0,
             "ticks": ""
            },
            "colorscale": [
             [
              0,
              "#0d0887"
             ],
             [
              0.1111111111111111,
              "#46039f"
             ],
             [
              0.2222222222222222,
              "#7201a8"
             ],
             [
              0.3333333333333333,
              "#9c179e"
             ],
             [
              0.4444444444444444,
              "#bd3786"
             ],
             [
              0.5555555555555556,
              "#d8576b"
             ],
             [
              0.6666666666666666,
              "#ed7953"
             ],
             [
              0.7777777777777778,
              "#fb9f3a"
             ],
             [
              0.8888888888888888,
              "#fdca26"
             ],
             [
              1,
              "#f0f921"
             ]
            ],
            "type": "contour"
           }
          ],
          "contourcarpet": [
           {
            "colorbar": {
             "outlinewidth": 0,
             "ticks": ""
            },
            "type": "contourcarpet"
           }
          ],
          "heatmap": [
           {
            "colorbar": {
             "outlinewidth": 0,
             "ticks": ""
            },
            "colorscale": [
             [
              0,
              "#0d0887"
             ],
             [
              0.1111111111111111,
              "#46039f"
             ],
             [
              0.2222222222222222,
              "#7201a8"
             ],
             [
              0.3333333333333333,
              "#9c179e"
             ],
             [
              0.4444444444444444,
              "#bd3786"
             ],
             [
              0.5555555555555556,
              "#d8576b"
             ],
             [
              0.6666666666666666,
              "#ed7953"
             ],
             [
              0.7777777777777778,
              "#fb9f3a"
             ],
             [
              0.8888888888888888,
              "#fdca26"
             ],
             [
              1,
              "#f0f921"
             ]
            ],
            "type": "heatmap"
           }
          ],
          "histogram": [
           {
            "marker": {
             "pattern": {
              "fillmode": "overlay",
              "size": 10,
              "solidity": 0.2
             }
            },
            "type": "histogram"
           }
          ],
          "histogram2d": [
           {
            "colorbar": {
             "outlinewidth": 0,
             "ticks": ""
            },
            "colorscale": [
             [
              0,
              "#0d0887"
             ],
             [
              0.1111111111111111,
              "#46039f"
             ],
             [
              0.2222222222222222,
              "#7201a8"
             ],
             [
              0.3333333333333333,
              "#9c179e"
             ],
             [
              0.4444444444444444,
              "#bd3786"
             ],
             [
              0.5555555555555556,
              "#d8576b"
             ],
             [
              0.6666666666666666,
              "#ed7953"
             ],
             [
              0.7777777777777778,
              "#fb9f3a"
             ],
             [
              0.8888888888888888,
              "#fdca26"
             ],
             [
              1,
              "#f0f921"
             ]
            ],
            "type": "histogram2d"
           }
          ],
          "histogram2dcontour": [
           {
            "colorbar": {
             "outlinewidth": 0,
             "ticks": ""
            },
            "colorscale": [
             [
              0,
              "#0d0887"
             ],
             [
              0.1111111111111111,
              "#46039f"
             ],
             [
              0.2222222222222222,
              "#7201a8"
             ],
             [
              0.3333333333333333,
              "#9c179e"
             ],
             [
              0.4444444444444444,
              "#bd3786"
             ],
             [
              0.5555555555555556,
              "#d8576b"
             ],
             [
              0.6666666666666666,
              "#ed7953"
             ],
             [
              0.7777777777777778,
              "#fb9f3a"
             ],
             [
              0.8888888888888888,
              "#fdca26"
             ],
             [
              1,
              "#f0f921"
             ]
            ],
            "type": "histogram2dcontour"
           }
          ],
          "mesh3d": [
           {
            "colorbar": {
             "outlinewidth": 0,
             "ticks": ""
            },
            "type": "mesh3d"
           }
          ],
          "parcoords": [
           {
            "line": {
             "colorbar": {
              "outlinewidth": 0,
              "ticks": ""
             }
            },
            "type": "parcoords"
           }
          ],
          "pie": [
           {
            "automargin": true,
            "type": "pie"
           }
          ],
          "scatter": [
           {
            "fillpattern": {
             "fillmode": "overlay",
             "size": 10,
             "solidity": 0.2
            },
            "type": "scatter"
           }
          ],
          "scatter3d": [
           {
            "line": {
             "colorbar": {
              "outlinewidth": 0,
              "ticks": ""
             }
            },
            "marker": {
             "colorbar": {
              "outlinewidth": 0,
              "ticks": ""
             }
            },
            "type": "scatter3d"
           }
          ],
          "scattercarpet": [
           {
            "marker": {
             "colorbar": {
              "outlinewidth": 0,
              "ticks": ""
             }
            },
            "type": "scattercarpet"
           }
          ],
          "scattergeo": [
           {
            "marker": {
             "colorbar": {
              "outlinewidth": 0,
              "ticks": ""
             }
            },
            "type": "scattergeo"
           }
          ],
          "scattergl": [
           {
            "marker": {
             "colorbar": {
              "outlinewidth": 0,
              "ticks": ""
             }
            },
            "type": "scattergl"
           }
          ],
          "scattermap": [
           {
            "marker": {
             "colorbar": {
              "outlinewidth": 0,
              "ticks": ""
             }
            },
            "type": "scattermap"
           }
          ],
          "scattermapbox": [
           {
            "marker": {
             "colorbar": {
              "outlinewidth": 0,
              "ticks": ""
             }
            },
            "type": "scattermapbox"
           }
          ],
          "scatterpolar": [
           {
            "marker": {
             "colorbar": {
              "outlinewidth": 0,
              "ticks": ""
             }
            },
            "type": "scatterpolar"
           }
          ],
          "scatterpolargl": [
           {
            "marker": {
             "colorbar": {
              "outlinewidth": 0,
              "ticks": ""
             }
            },
            "type": "scatterpolargl"
           }
          ],
          "scatterternary": [
           {
            "marker": {
             "colorbar": {
              "outlinewidth": 0,
              "ticks": ""
             }
            },
            "type": "scatterternary"
           }
          ],
          "surface": [
           {
            "colorbar": {
             "outlinewidth": 0,
             "ticks": ""
            },
            "colorscale": [
             [
              0,
              "#0d0887"
             ],
             [
              0.1111111111111111,
              "#46039f"
             ],
             [
              0.2222222222222222,
              "#7201a8"
             ],
             [
              0.3333333333333333,
              "#9c179e"
             ],
             [
              0.4444444444444444,
              "#bd3786"
             ],
             [
              0.5555555555555556,
              "#d8576b"
             ],
             [
              0.6666666666666666,
              "#ed7953"
             ],
             [
              0.7777777777777778,
              "#fb9f3a"
             ],
             [
              0.8888888888888888,
              "#fdca26"
             ],
             [
              1,
              "#f0f921"
             ]
            ],
            "type": "surface"
           }
          ],
          "table": [
           {
            "cells": {
             "fill": {
              "color": "#EBF0F8"
             },
             "line": {
              "color": "white"
             }
            },
            "header": {
             "fill": {
              "color": "#C8D4E3"
             },
             "line": {
              "color": "white"
             }
            },
            "type": "table"
           }
          ]
         },
         "layout": {
          "annotationdefaults": {
           "arrowcolor": "#2a3f5f",
           "arrowhead": 0,
           "arrowwidth": 1
          },
          "autotypenumbers": "strict",
          "coloraxis": {
           "colorbar": {
            "outlinewidth": 0,
            "ticks": ""
           }
          },
          "colorscale": {
           "diverging": [
            [
             0,
             "#8e0152"
            ],
            [
             0.1,
             "#c51b7d"
            ],
            [
             0.2,
             "#de77ae"
            ],
            [
             0.3,
             "#f1b6da"
            ],
            [
             0.4,
             "#fde0ef"
            ],
            [
             0.5,
             "#f7f7f7"
            ],
            [
             0.6,
             "#e6f5d0"
            ],
            [
             0.7,
             "#b8e186"
            ],
            [
             0.8,
             "#7fbc41"
            ],
            [
             0.9,
             "#4d9221"
            ],
            [
             1,
             "#276419"
            ]
           ],
           "sequential": [
            [
             0,
             "#0d0887"
            ],
            [
             0.1111111111111111,
             "#46039f"
            ],
            [
             0.2222222222222222,
             "#7201a8"
            ],
            [
             0.3333333333333333,
             "#9c179e"
            ],
            [
             0.4444444444444444,
             "#bd3786"
            ],
            [
             0.5555555555555556,
             "#d8576b"
            ],
            [
             0.6666666666666666,
             "#ed7953"
            ],
            [
             0.7777777777777778,
             "#fb9f3a"
            ],
            [
             0.8888888888888888,
             "#fdca26"
            ],
            [
             1,
             "#f0f921"
            ]
           ],
           "sequentialminus": [
            [
             0,
             "#0d0887"
            ],
            [
             0.1111111111111111,
             "#46039f"
            ],
            [
             0.2222222222222222,
             "#7201a8"
            ],
            [
             0.3333333333333333,
             "#9c179e"
            ],
            [
             0.4444444444444444,
             "#bd3786"
            ],
            [
             0.5555555555555556,
             "#d8576b"
            ],
            [
             0.6666666666666666,
             "#ed7953"
            ],
            [
             0.7777777777777778,
             "#fb9f3a"
            ],
            [
             0.8888888888888888,
             "#fdca26"
            ],
            [
             1,
             "#f0f921"
            ]
           ]
          },
          "colorway": [
           "#636efa",
           "#EF553B",
           "#00cc96",
           "#ab63fa",
           "#FFA15A",
           "#19d3f3",
           "#FF6692",
           "#B6E880",
           "#FF97FF",
           "#FECB52"
          ],
          "font": {
           "color": "#2a3f5f"
          },
          "geo": {
           "bgcolor": "white",
           "lakecolor": "white",
           "landcolor": "#E5ECF6",
           "showlakes": true,
           "showland": true,
           "subunitcolor": "white"
          },
          "hoverlabel": {
           "align": "left"
          },
          "hovermode": "closest",
          "mapbox": {
           "style": "light"
          },
          "paper_bgcolor": "white",
          "plot_bgcolor": "#E5ECF6",
          "polar": {
           "angularaxis": {
            "gridcolor": "white",
            "linecolor": "white",
            "ticks": ""
           },
           "bgcolor": "#E5ECF6",
           "radialaxis": {
            "gridcolor": "white",
            "linecolor": "white",
            "ticks": ""
           }
          },
          "scene": {
           "xaxis": {
            "backgroundcolor": "#E5ECF6",
            "gridcolor": "white",
            "gridwidth": 2,
            "linecolor": "white",
            "showbackground": true,
            "ticks": "",
            "zerolinecolor": "white"
           },
           "yaxis": {
            "backgroundcolor": "#E5ECF6",
            "gridcolor": "white",
            "gridwidth": 2,
            "linecolor": "white",
            "showbackground": true,
            "ticks": "",
            "zerolinecolor": "white"
           },
           "zaxis": {
            "backgroundcolor": "#E5ECF6",
            "gridcolor": "white",
            "gridwidth": 2,
            "linecolor": "white",
            "showbackground": true,
            "ticks": "",
            "zerolinecolor": "white"
           }
          },
          "shapedefaults": {
           "line": {
            "color": "#2a3f5f"
           }
          },
          "ternary": {
           "aaxis": {
            "gridcolor": "white",
            "linecolor": "white",
            "ticks": ""
           },
           "baxis": {
            "gridcolor": "white",
            "linecolor": "white",
            "ticks": ""
           },
           "bgcolor": "#E5ECF6",
           "caxis": {
            "gridcolor": "white",
            "linecolor": "white",
            "ticks": ""
           }
          },
          "title": {
           "x": 0.05
          },
          "xaxis": {
           "automargin": true,
           "gridcolor": "white",
           "linecolor": "white",
           "ticks": "",
           "title": {
            "standoff": 15
           },
           "zerolinecolor": "white",
           "zerolinewidth": 2
          },
          "yaxis": {
           "automargin": true,
           "gridcolor": "white",
           "linecolor": "white",
           "ticks": "",
           "title": {
            "standoff": 15
           },
           "zerolinecolor": "white",
           "zerolinewidth": 2
          }
         }
        },
        "title": {
         "text": "Geburtsgewicht nach Rauchstatus der Mutter"
        },
        "xaxis": {
         "anchor": "y",
         "categoryarray": [
          "Nichtraucherinnen",
          "Raucherinnen"
         ],
         "categoryorder": "array",
         "domain": [
          0,
          1
         ],
         "title": {
          "text": "Gruppe"
         }
        },
        "yaxis": {
         "anchor": "x",
         "domain": [
          0,
          1
         ],
         "title": {
          "text": "Geburtsgewicht (g)"
         }
        }
       }
      }
     },
     "metadata": {},
     "output_type": "display_data"
    },
    {
     "data": {
      "application/vnd.plotly.v1+json": {
       "config": {
        "plotlyServerURL": "https://plot.ly"
       },
       "data": [
        {
         "bingroup": "x",
         "hovertemplate": "Rauchergruppe=Nichtraucherinnen<br>Geburtsgewicht [g]=%{x}<br>count=%{y}<extra></extra>",
         "legendgroup": "Nichtraucherinnen",
         "marker": {
          "color": "lightgreen",
          "opacity": 0.5,
          "pattern": {
           "shape": ""
          }
         },
         "name": "Nichtraucherinnen",
         "nbinsx": 30,
         "opacity": 0.6,
         "orientation": "v",
         "showlegend": true,
         "type": "histogram",
         "x": {
          "bdata": "Sg2DDBAPSA+eDkoNgQ+gDLwM8g+hCywPgw2CDisQ2A2DDU0KZQ4uDYMM1w7ZC0kOLgxLDCoRLgyDDbwMTAvWDysQuw0PEL0LTgjZC7sNvgq6D2UORxFKDRAOZg1KDYAQSQ5lD0gPSA+CDi0O1w6gDPMO2A2hCy4Nug4qEfQNSQ4sD9gNEQ2CDmYNgg4RDdUQZg31DGcMEgyeDvUMLQ71DNcOEA6DDUcQSg3yDxAPTAv0DfQNvAwuDZ8N1w7yD0sM2A3zDtcOSQ5mDUgPEA9KDdcOZwyeDhAPogq7DYMMLA+6DtkLEA9lDvcJnw0sDy8Lug+7DRIMgg4QDvUMnBBqCS0OoQvZCy4N1w71DLwMTQrYDU0KSQ70DWoJKBNLDPQNgw2dD7oPgwyAEC0O2A2gDNkM2A0uDEgPug9MC4EPug4QDtUQ1g+CDoMMgg5kECwP9Qy8DJ4OLg2eDtwISwzWDxAPLgz2C70LgBDzDi4MZg26D4QLSA9nDIIO2QyBD0oNZQ9LDC4MoQtNCoQLSg0RDaAM2QxJDr8Jgw29C/MO2Qv0DdkMuw2fDdoKLgwvC6IKEwsOERAO9A0QDkkOng4QDg8QEA9mDUoNEQ0QDp4OTAsRDUwLDRKeDtkMSA9lD54Ogg68DC4N2A2fDUoNgQ9KDSsQgw0tDvMOSQ7ZDEgPnw2DDJ4OSg2gDGUOug8QDmoJnw1nDKMI2QsQDxMLhAu6DhENgQ+8DGUOoAyhCy8LZwy8DNoKLQ4OERAOSQ5ID7sNSwxoC38Rng7dB9kMSQ7XDp8NRxBmDdgNvAwvCxIMvAyfDYMNuw1JDrsNug9JDkUTaAu7DaELoQv2C/EQug6fDZ0P2QxmDUsMTAsRDYIOvAxHEJ8N2A33CtkM0xKEC/YL9wq+ChIMRxChC6ELLg1oC/UMSg0PELsNFAoSDMAIug6gDC0OSQ6+Cn4T1g+DDJwQuw0uDYMNZwwQD5wQaQorELsNnQ8QDmgL2QyfDUkOEwsrEE0JvAy8DBQKZwy8DC4M9Qz3ChAPZQ6cEKMI2QwuDBIMgwwQD2YN9QxiEqIJng4sD7sNEA/1DGYN2QxlDy4Mug74CLoOng6eDiwPTQmgDH4Suw0qEdgN2A28DEUTEA6DDGUPEA5nDCoRZg1JDhQKRxDyDy0OLA9KDWcMSA/XDvQNZwxIDy4MZwxkEC4N9A3YDRAPEA6CDi4Mnw3VEBAOZQ+7DYMMLg31DPUMZg1GEkoNLA/XDvYLnw2dD2UOZQ9lDoMM3gZKDfMOgwz0DdYPLQ7aCi4M8RHZDC0OLA+4EWcM2QxLDPQNEgwQD7sNKhGDDYMMgw30DS4Mug7YDSkSug67DYMN9wktDp8NLQ5KDdgNEQ3ZDIIOuRAsDxAOSQ4tDmoJSwy7DfkH2Qz3CvIPSA8uDEkOnBAtDrwM9gtlDxAPgg6EC38R9wplD6EL2wlJDi4NoAyDDRAPZwxnDNgNZQ66DkcQEgzzDvUMEQ2DDGQQgQ/XDkoNTAsXBp8NSA8tDpwR8g/1DC4NoQsuDS8LoQsuDNoKEA6DDdYPLgzYDaAMaAugDLcSnBDyD/IP1g9mDaEL1w5JDqAMvgq4ETMHDxCFCmUPnw0uDIMN9guCDhAP2A1MC2cM8w5JDtgNFggRDUwLSg2DDfQNDxBlD7sNZg30DS4NoAwRDRAO9QwsD7oO2QvYDWMR9gtlDvMOnw0TC7sNRRNJDi0O2QwuDEkOnQ8uDBENSwy4EUoNZg31DH8RLQ5/EQ0SLQ70DdcOgQ8TC2UOLA+gDPoG2grbCdYP9wq9C/UMZwxnDJ0Pgg6eDr0LZwxlD4QLLg2fDbwMLQ4TC6AM9A2DDdUQTQllD0wLgwxlDtkMoAzyD0gP9woRDb4KKxAuDPMOEQ0QDp4OgwwtDtgN9Qw=",
          "dtype": "i2"
         },
         "xaxis": "x",
         "yaxis": "y"
        },
        {
         "bingroup": "x",
         "hovertemplate": "Rauchergruppe=Raucherinnen<br>Geburtsgewicht [g]=%{x}<br>count=%{y}<extra></extra>",
         "legendgroup": "Raucherinnen",
         "marker": {
          "color": "lightcoral",
          "opacity": 0.5,
          "pattern": {
           "shape": ""
          }
         },
         "name": "Raucherinnen",
         "nbinsx": 30,
         "opacity": 0.6,
         "orientation": "v",
         "showlegend": true,
         "type": "histogram",
         "x": {
          "bdata": "LQ72C9YP8g+dDy4MMAq8DC4NvAxoC6AMoAzXDoMNognWDw8Q9gu7DYMNLwstDoQLLA9oC7oOFArxEPcKoAzYDWoJoglKDdkLLg0UCoUKnQ8TC7wMaQovC2cMLQ5NChMLoQu4EYMMEQ26DtkMgwyCDmYNgw0vC4MMogq6D04IhAsRDdoKnBAuDS8Lgwy+CrwMZg31DC4MZQ6BDw4Rgw3yD6AMDhGcEPcK9QxlDvgIuw3YDbwMhAsuDZ8NnQ9JDi4NEgyECy4M2goQD2YNFApqCb0LEgzaCi8L3Qe7DS8LEwuEC/UM9Qz1DBIMSg1oC58NhAuDDdkMSQ66DoMNug5lDr0LgQ9KDRAO3QdJDg8QTAtJDvMOhAv0DRAO2gqCDvcKvAxMC9YPogllDp8N2QzyD0oNZwyeDisQLg0TC0kOgw31DPIPvAz3CogHTAsSDEwL9wotDi8LEgz1DL8JhQoQDtkL9A3aCqIKTQovC2UO2A2eDqQHoAyfDUkOoAwuDYIOoAwuDGgL9Qz0DZ4OLwugDPYLnw2DDE0KZQ5LDL4K2QuhC7oO1BG8DBAOLQ71DC4NFArZDPQN2gpoC/UMvAwRDfIPagllDvUM8w68DJ8NDhEuDIQLnw1JDvYLaAsQDtkLvQvVEBAPnw1NCkkO2A2iCkgPoAwQDoMM9wq+CvQNLg31DIIOEQ0SDIIO1w4tDoYJvAwTC0oNhQr3CYIOaAvyD4YJEA8wCkkOoQvYDbwM1g/ZDC4MogmeDp8NhAuiCjEJhgkuDE0Jnw2iCvUM2A2gDKIK2QvaCtkL8g8QD9gNEwu/CYcITQoSDA8QMApLDBML1w4PEPQNLg1oC9kMTAtmDRMLhgmiCb8JogpnDLwMgw0QDvcJbAYSDLoPvAwNEocIuw1MC2kKZwwuDb4KvAzyD/cKvQtmDZ8NZQ+hCysQgw1ID0oNLg2hC58NaAuhC2UPhAsRDfcKZg3YDRML9QyDDRENLA9KDfYLgg6hC6MISwxOCGkKDxASDLwMSg2iCkwLFAoqERIM3AhpCmQQnw0zB/YLaAuhCxMLvAwUCmcMLg30DRMLogqCDvYLgwy6DhAOTAtKDdoKhAuDDfcK9Qy9C0cR+QdOCL4KFAr1DGUOoAy4EU0JZQ7dBxUJuw1ID78JFQm+CtkMng4uDb0LaAtnDKIKTAtKDb4KvgoQDqIJnQ/ZDE4I+AigDLsNvAzWD4MMEgxoC2UO",
          "dtype": "i2"
         },
         "xaxis": "x",
         "yaxis": "y"
        }
       ],
       "layout": {
        "barmode": "overlay",
        "legend": {
         "title": {
          "text": "Rauchergruppe"
         },
         "tracegroupgap": 0
        },
        "template": {
         "data": {
          "bar": [
           {
            "error_x": {
             "color": "#2a3f5f"
            },
            "error_y": {
             "color": "#2a3f5f"
            },
            "marker": {
             "line": {
              "color": "#E5ECF6",
              "width": 0.5
             },
             "pattern": {
              "fillmode": "overlay",
              "size": 10,
              "solidity": 0.2
             }
            },
            "type": "bar"
           }
          ],
          "barpolar": [
           {
            "marker": {
             "line": {
              "color": "#E5ECF6",
              "width": 0.5
             },
             "pattern": {
              "fillmode": "overlay",
              "size": 10,
              "solidity": 0.2
             }
            },
            "type": "barpolar"
           }
          ],
          "carpet": [
           {
            "aaxis": {
             "endlinecolor": "#2a3f5f",
             "gridcolor": "white",
             "linecolor": "white",
             "minorgridcolor": "white",
             "startlinecolor": "#2a3f5f"
            },
            "baxis": {
             "endlinecolor": "#2a3f5f",
             "gridcolor": "white",
             "linecolor": "white",
             "minorgridcolor": "white",
             "startlinecolor": "#2a3f5f"
            },
            "type": "carpet"
           }
          ],
          "choropleth": [
           {
            "colorbar": {
             "outlinewidth": 0,
             "ticks": ""
            },
            "type": "choropleth"
           }
          ],
          "contour": [
           {
            "colorbar": {
             "outlinewidth": 0,
             "ticks": ""
            },
            "colorscale": [
             [
              0,
              "#0d0887"
             ],
             [
              0.1111111111111111,
              "#46039f"
             ],
             [
              0.2222222222222222,
              "#7201a8"
             ],
             [
              0.3333333333333333,
              "#9c179e"
             ],
             [
              0.4444444444444444,
              "#bd3786"
             ],
             [
              0.5555555555555556,
              "#d8576b"
             ],
             [
              0.6666666666666666,
              "#ed7953"
             ],
             [
              0.7777777777777778,
              "#fb9f3a"
             ],
             [
              0.8888888888888888,
              "#fdca26"
             ],
             [
              1,
              "#f0f921"
             ]
            ],
            "type": "contour"
           }
          ],
          "contourcarpet": [
           {
            "colorbar": {
             "outlinewidth": 0,
             "ticks": ""
            },
            "type": "contourcarpet"
           }
          ],
          "heatmap": [
           {
            "colorbar": {
             "outlinewidth": 0,
             "ticks": ""
            },
            "colorscale": [
             [
              0,
              "#0d0887"
             ],
             [
              0.1111111111111111,
              "#46039f"
             ],
             [
              0.2222222222222222,
              "#7201a8"
             ],
             [
              0.3333333333333333,
              "#9c179e"
             ],
             [
              0.4444444444444444,
              "#bd3786"
             ],
             [
              0.5555555555555556,
              "#d8576b"
             ],
             [
              0.6666666666666666,
              "#ed7953"
             ],
             [
              0.7777777777777778,
              "#fb9f3a"
             ],
             [
              0.8888888888888888,
              "#fdca26"
             ],
             [
              1,
              "#f0f921"
             ]
            ],
            "type": "heatmap"
           }
          ],
          "histogram": [
           {
            "marker": {
             "pattern": {
              "fillmode": "overlay",
              "size": 10,
              "solidity": 0.2
             }
            },
            "type": "histogram"
           }
          ],
          "histogram2d": [
           {
            "colorbar": {
             "outlinewidth": 0,
             "ticks": ""
            },
            "colorscale": [
             [
              0,
              "#0d0887"
             ],
             [
              0.1111111111111111,
              "#46039f"
             ],
             [
              0.2222222222222222,
              "#7201a8"
             ],
             [
              0.3333333333333333,
              "#9c179e"
             ],
             [
              0.4444444444444444,
              "#bd3786"
             ],
             [
              0.5555555555555556,
              "#d8576b"
             ],
             [
              0.6666666666666666,
              "#ed7953"
             ],
             [
              0.7777777777777778,
              "#fb9f3a"
             ],
             [
              0.8888888888888888,
              "#fdca26"
             ],
             [
              1,
              "#f0f921"
             ]
            ],
            "type": "histogram2d"
           }
          ],
          "histogram2dcontour": [
           {
            "colorbar": {
             "outlinewidth": 0,
             "ticks": ""
            },
            "colorscale": [
             [
              0,
              "#0d0887"
             ],
             [
              0.1111111111111111,
              "#46039f"
             ],
             [
              0.2222222222222222,
              "#7201a8"
             ],
             [
              0.3333333333333333,
              "#9c179e"
             ],
             [
              0.4444444444444444,
              "#bd3786"
             ],
             [
              0.5555555555555556,
              "#d8576b"
             ],
             [
              0.6666666666666666,
              "#ed7953"
             ],
             [
              0.7777777777777778,
              "#fb9f3a"
             ],
             [
              0.8888888888888888,
              "#fdca26"
             ],
             [
              1,
              "#f0f921"
             ]
            ],
            "type": "histogram2dcontour"
           }
          ],
          "mesh3d": [
           {
            "colorbar": {
             "outlinewidth": 0,
             "ticks": ""
            },
            "type": "mesh3d"
           }
          ],
          "parcoords": [
           {
            "line": {
             "colorbar": {
              "outlinewidth": 0,
              "ticks": ""
             }
            },
            "type": "parcoords"
           }
          ],
          "pie": [
           {
            "automargin": true,
            "type": "pie"
           }
          ],
          "scatter": [
           {
            "fillpattern": {
             "fillmode": "overlay",
             "size": 10,
             "solidity": 0.2
            },
            "type": "scatter"
           }
          ],
          "scatter3d": [
           {
            "line": {
             "colorbar": {
              "outlinewidth": 0,
              "ticks": ""
             }
            },
            "marker": {
             "colorbar": {
              "outlinewidth": 0,
              "ticks": ""
             }
            },
            "type": "scatter3d"
           }
          ],
          "scattercarpet": [
           {
            "marker": {
             "colorbar": {
              "outlinewidth": 0,
              "ticks": ""
             }
            },
            "type": "scattercarpet"
           }
          ],
          "scattergeo": [
           {
            "marker": {
             "colorbar": {
              "outlinewidth": 0,
              "ticks": ""
             }
            },
            "type": "scattergeo"
           }
          ],
          "scattergl": [
           {
            "marker": {
             "colorbar": {
              "outlinewidth": 0,
              "ticks": ""
             }
            },
            "type": "scattergl"
           }
          ],
          "scattermap": [
           {
            "marker": {
             "colorbar": {
              "outlinewidth": 0,
              "ticks": ""
             }
            },
            "type": "scattermap"
           }
          ],
          "scattermapbox": [
           {
            "marker": {
             "colorbar": {
              "outlinewidth": 0,
              "ticks": ""
             }
            },
            "type": "scattermapbox"
           }
          ],
          "scatterpolar": [
           {
            "marker": {
             "colorbar": {
              "outlinewidth": 0,
              "ticks": ""
             }
            },
            "type": "scatterpolar"
           }
          ],
          "scatterpolargl": [
           {
            "marker": {
             "colorbar": {
              "outlinewidth": 0,
              "ticks": ""
             }
            },
            "type": "scatterpolargl"
           }
          ],
          "scatterternary": [
           {
            "marker": {
             "colorbar": {
              "outlinewidth": 0,
              "ticks": ""
             }
            },
            "type": "scatterternary"
           }
          ],
          "surface": [
           {
            "colorbar": {
             "outlinewidth": 0,
             "ticks": ""
            },
            "colorscale": [
             [
              0,
              "#0d0887"
             ],
             [
              0.1111111111111111,
              "#46039f"
             ],
             [
              0.2222222222222222,
              "#7201a8"
             ],
             [
              0.3333333333333333,
              "#9c179e"
             ],
             [
              0.4444444444444444,
              "#bd3786"
             ],
             [
              0.5555555555555556,
              "#d8576b"
             ],
             [
              0.6666666666666666,
              "#ed7953"
             ],
             [
              0.7777777777777778,
              "#fb9f3a"
             ],
             [
              0.8888888888888888,
              "#fdca26"
             ],
             [
              1,
              "#f0f921"
             ]
            ],
            "type": "surface"
           }
          ],
          "table": [
           {
            "cells": {
             "fill": {
              "color": "#EBF0F8"
             },
             "line": {
              "color": "white"
             }
            },
            "header": {
             "fill": {
              "color": "#C8D4E3"
             },
             "line": {
              "color": "white"
             }
            },
            "type": "table"
           }
          ]
         },
         "layout": {
          "annotationdefaults": {
           "arrowcolor": "#2a3f5f",
           "arrowhead": 0,
           "arrowwidth": 1
          },
          "autotypenumbers": "strict",
          "coloraxis": {
           "colorbar": {
            "outlinewidth": 0,
            "ticks": ""
           }
          },
          "colorscale": {
           "diverging": [
            [
             0,
             "#8e0152"
            ],
            [
             0.1,
             "#c51b7d"
            ],
            [
             0.2,
             "#de77ae"
            ],
            [
             0.3,
             "#f1b6da"
            ],
            [
             0.4,
             "#fde0ef"
            ],
            [
             0.5,
             "#f7f7f7"
            ],
            [
             0.6,
             "#e6f5d0"
            ],
            [
             0.7,
             "#b8e186"
            ],
            [
             0.8,
             "#7fbc41"
            ],
            [
             0.9,
             "#4d9221"
            ],
            [
             1,
             "#276419"
            ]
           ],
           "sequential": [
            [
             0,
             "#0d0887"
            ],
            [
             0.1111111111111111,
             "#46039f"
            ],
            [
             0.2222222222222222,
             "#7201a8"
            ],
            [
             0.3333333333333333,
             "#9c179e"
            ],
            [
             0.4444444444444444,
             "#bd3786"
            ],
            [
             0.5555555555555556,
             "#d8576b"
            ],
            [
             0.6666666666666666,
             "#ed7953"
            ],
            [
             0.7777777777777778,
             "#fb9f3a"
            ],
            [
             0.8888888888888888,
             "#fdca26"
            ],
            [
             1,
             "#f0f921"
            ]
           ],
           "sequentialminus": [
            [
             0,
             "#0d0887"
            ],
            [
             0.1111111111111111,
             "#46039f"
            ],
            [
             0.2222222222222222,
             "#7201a8"
            ],
            [
             0.3333333333333333,
             "#9c179e"
            ],
            [
             0.4444444444444444,
             "#bd3786"
            ],
            [
             0.5555555555555556,
             "#d8576b"
            ],
            [
             0.6666666666666666,
             "#ed7953"
            ],
            [
             0.7777777777777778,
             "#fb9f3a"
            ],
            [
             0.8888888888888888,
             "#fdca26"
            ],
            [
             1,
             "#f0f921"
            ]
           ]
          },
          "colorway": [
           "#636efa",
           "#EF553B",
           "#00cc96",
           "#ab63fa",
           "#FFA15A",
           "#19d3f3",
           "#FF6692",
           "#B6E880",
           "#FF97FF",
           "#FECB52"
          ],
          "font": {
           "color": "#2a3f5f"
          },
          "geo": {
           "bgcolor": "white",
           "lakecolor": "white",
           "landcolor": "#E5ECF6",
           "showlakes": true,
           "showland": true,
           "subunitcolor": "white"
          },
          "hoverlabel": {
           "align": "left"
          },
          "hovermode": "closest",
          "mapbox": {
           "style": "light"
          },
          "paper_bgcolor": "white",
          "plot_bgcolor": "#E5ECF6",
          "polar": {
           "angularaxis": {
            "gridcolor": "white",
            "linecolor": "white",
            "ticks": ""
           },
           "bgcolor": "#E5ECF6",
           "radialaxis": {
            "gridcolor": "white",
            "linecolor": "white",
            "ticks": ""
           }
          },
          "scene": {
           "xaxis": {
            "backgroundcolor": "#E5ECF6",
            "gridcolor": "white",
            "gridwidth": 2,
            "linecolor": "white",
            "showbackground": true,
            "ticks": "",
            "zerolinecolor": "white"
           },
           "yaxis": {
            "backgroundcolor": "#E5ECF6",
            "gridcolor": "white",
            "gridwidth": 2,
            "linecolor": "white",
            "showbackground": true,
            "ticks": "",
            "zerolinecolor": "white"
           },
           "zaxis": {
            "backgroundcolor": "#E5ECF6",
            "gridcolor": "white",
            "gridwidth": 2,
            "linecolor": "white",
            "showbackground": true,
            "ticks": "",
            "zerolinecolor": "white"
           }
          },
          "shapedefaults": {
           "line": {
            "color": "#2a3f5f"
           }
          },
          "ternary": {
           "aaxis": {
            "gridcolor": "white",
            "linecolor": "white",
            "ticks": ""
           },
           "baxis": {
            "gridcolor": "white",
            "linecolor": "white",
            "ticks": ""
           },
           "bgcolor": "#E5ECF6",
           "caxis": {
            "gridcolor": "white",
            "linecolor": "white",
            "ticks": ""
           }
          },
          "title": {
           "x": 0.05
          },
          "xaxis": {
           "automargin": true,
           "gridcolor": "white",
           "linecolor": "white",
           "ticks": "",
           "title": {
            "standoff": 15
           },
           "zerolinecolor": "white",
           "zerolinewidth": 2
          },
          "yaxis": {
           "automargin": true,
           "gridcolor": "white",
           "linecolor": "white",
           "ticks": "",
           "title": {
            "standoff": 15
           },
           "zerolinecolor": "white",
           "zerolinewidth": 2
          }
         }
        },
        "title": {
         "text": "Verteilung des Geburtsgewichts (Raucherinnen vs. Nichtraucherinnen)"
        },
        "xaxis": {
         "anchor": "y",
         "domain": [
          0,
          1
         ],
         "title": {
          "text": "Geburtsgewicht (g)"
         }
        },
        "yaxis": {
         "anchor": "x",
         "domain": [
          0,
          1
         ],
         "title": {
          "text": "Anzahl Babys"
         }
        }
       }
      }
     },
     "metadata": {},
     "output_type": "display_data"
    },
    {
     "data": {
      "image/png": "[encoded data removed]",
      "text/plain": [
       "<Figure size 640x480 with 2 Axes>"
      ]
     },
     "metadata": {},
     "output_type": "display_data"
    },
    {
     "data": {
      "text/html": [
       "<div>\n",
       "<style scoped>\n",
       "    .dataframe tbody tr th:only-of-type {\n",
       "        vertical-align: middle;\n",
       "    }\n",
       "\n",
       "    .dataframe tbody tr th {\n",
       "        vertical-align: top;\n",
       "    }\n",
       "\n",
       "    .dataframe thead th {\n",
       "        text-align: right;\n",
       "    }\n",
       "</style>\n",
       "<table border=\"1\" class=\"dataframe\">\n",
       "  <thead>\n",
       "    <tr style=\"text-align: right;\">\n",
       "      <th></th>\n",
       "      <th>Mutter raucht</th>\n",
       "      <th>Geburtsgewicht [g]</th>\n",
       "    </tr>\n",
       "  </thead>\n",
       "  <tbody>\n",
       "    <tr>\n",
       "      <th>Mutter raucht</th>\n",
       "      <td>1.000000</td>\n",
       "      <td>-0.246799</td>\n",
       "    </tr>\n",
       "    <tr>\n",
       "      <th>Geburtsgewicht [g]</th>\n",
       "      <td>-0.246799</td>\n",
       "      <td>1.000000</td>\n",
       "    </tr>\n",
       "  </tbody>\n",
       "</table>\n",
       "</div>"
      ],
      "text/plain": [
       "                    Mutter raucht  Geburtsgewicht [g]\n",
       "Mutter raucht            1.000000           -0.246799\n",
       "Geburtsgewicht [g]      -0.246799            1.000000"
      ]
     },
     "execution_count": 13,
     "metadata": {},
     "output_type": "execute_result"
    }
   ],
   "source": [
    "# 9. Unterscheidet sich das Geburtsgewicht zwischen rauchenden und nicht-rauchenden Müttern?\n",
    "\n",
    "gewicht_vergleich = df_clean.groupby(\"Mutter raucht\")[\"Geburtsgewicht [g]\"].mean()\n",
    "\n",
    "print(f\"Raucherinnen:        {gewicht_vergleich[1]:.0f} g\")\n",
    "print(f\"Nichtraucherinnen:  {gewicht_vergleich[0]:.0f} g\")\n",
    "\n",
    "import plotly.express as px\n",
    "\n",
    "# Neue Spalte mit sprechendem Gruppennamen für die Achse\n",
    "df_clean[\"Rauchergruppe\"] = df_clean[\"Mutter raucht\"].map({0: \"Nichtraucherinnen\", 1: \"Raucherinnen\"})\n",
    "\n",
    "fig = px.box(\n",
    "    df_clean,\n",
    "    x=\"Rauchergruppe\",\n",
    "    y=\"Geburtsgewicht [g]\",\n",
    "    color=\"Rauchergruppe\",\n",
    "    title=\"Geburtsgewicht nach Rauchstatus der Mutter\",\n",
    "    color_discrete_sequence=[\"lightgreen\", \"lightcoral\"],\n",
    "    points=\"all\"  # zeigt auch einzelne Datenpunkte\n",
    ")\n",
    "\n",
    "fig.update_layout(\n",
    "    xaxis_title=\"Gruppe\",\n",
    "    yaxis_title=\"Geburtsgewicht (g)\",\n",
    "    showlegend=False\n",
    ")\n",
    "\n",
    "fig.show()\n",
    "\n",
    "import plotly.express as px\n",
    "\n",
    "fig = px.histogram(\n",
    "    df_clean,\n",
    "    x=\"Geburtsgewicht [g]\",\n",
    "    color=\"Rauchergruppe\",\n",
    "    barmode=\"overlay\",\n",
    "    nbins=30,\n",
    "    title=\"Verteilung des Geburtsgewichts (Raucherinnen vs. Nichtraucherinnen)\",\n",
    "    color_discrete_sequence=[\"lightgreen\", \"lightcoral\"],\n",
    "    labels={\"Gewicht in Gramm\": \"Geburtsgewicht [g]\"}\n",
    ")\n",
    "\n",
    "fig.update_traces(opacity=0.6)  # Damit man überlappende Säulen erkennt\n",
    "fig.update_layout(\n",
    "    xaxis_title=\"Geburtsgewicht (g)\",\n",
    "    yaxis_title=\"Anzahl Babys\"\n",
    ")\n",
    "\n",
    "fig.show()\n",
    "\n",
    "# Heatmap\n",
    "\n",
    "import pandas as pd\n",
    "import seaborn as sns\n",
    "import matplotlib.pyplot as plt\n",
    "\n",
    "# Beispiel: Geburtsgewicht kategorisieren\n",
    "# (Grenzen und Beschriftung kannst du anpassen)\n",
    "bins = [0, 2000, 4000, df_clean[\"Geburtsgewicht [g]\"].max()]\n",
    "labels = [\"< 2000 g\", \"2000–4000 g\", \"> 4000 g\"]\n",
    "\n",
    "# Neue Spalte mit Gruppen\n",
    "df_clean[\"Geburtsgewicht_Kategorie\"] = pd.cut(\n",
    "    df_clean[\"Geburtsgewicht [g]\"], bins=bins, labels=labels\n",
    ")\n",
    "\n",
    "# Kreuztabelle erstellen (relative Häufigkeiten pro Zeile → \"index\")\n",
    "kreuz_rel = pd.crosstab(\n",
    "    df_clean[\"Mutter raucht\"],\n",
    "    df_clean[\"Geburtsgewicht_Kategorie\"],\n",
    "    normalize=\"index\"\n",
    ")\n",
    "\n",
    "# Werte in Prozent umrechnen\n",
    "kreuz_percent = kreuz_rel * 100\n",
    "\n",
    "# Heatmap anzeigen\n",
    "sns.heatmap(\n",
    "    kreuz_percent,\n",
    "    annot=True,          # Prozentwerte in Zellen anzeigen\n",
    "    fmt=\".1f\",           # eine Nachkommastelle\n",
    "    cmap=\"Blues\",\n",
    "    cbar_kws={'label': 'Prozent (%)'}\n",
    ")\n",
    "\n",
    "plt.title(\"Geburtsgewicht (%) in Bezug zum Rauchstatus\")\n",
    "plt.xlabel(\"Geburtsgewicht\")\n",
    "plt.ylabel(\"Mutter raucht\")\n",
    "plt.tight_layout()  # für sauberen Abstand am Rand\n",
    "plt.show()\n",
    "\n",
    "# Korrelation\n",
    "\n",
    "df_clean[[\"Mutter raucht\", \"Geburtsgewicht [g]\"]].corr()"
   ]
  },
  {
   "cell_type": "code",
   "execution_count": 10,
   "id": "d4b80772",
   "metadata": {},
   "outputs": [
    {
     "data": {
      "application/vnd.plotly.v1+json": {
       "config": {
        "plotlyServerURL": "https://plot.ly"
       },
       "data": [
        {
         "hovertemplate": "Rauchstatus=Nichtraucherinnen<br>Schwangerschaftsdauer [d]=%{x}<br>Geburtsgewicht [g]=%{y}<extra></extra>",
         "legendgroup": "Nichtraucherinnen",
         "marker": {
          "color": "lightgreen",
          "symbol": "circle"
         },
         "mode": "markers",
         "name": "Nichtraucherinnen",
         "showlegend": true,
         "type": "scattergl",
         "x": {
          "bdata": "HAEaAR4B9AD1ACEBXwERAR0BBQEOAR8BFAEmARgBJAEOARYBDAETARkBGwEXASUBFgEOASYBEAETAQIBGgEeAQsBEwEBAREB6AARASAB9gAUASEBJAESARIBFAEVASUBGAEkAR8BJgEoARkBDAEPARoBLgH+ABIBFwEfAREBLwESAS4BFAEbAQgBIAEcASABHAEUARUBEAHhABYBGwECARYBHAETASUBKwEVARQBBgEaAQ8BFgEcAT4BIgEgAREBBgEoASEBIwEQAR8BFgEXAQsBIAEiAR0BDwEVATIBAgEMAfQAEwESASIBQAEjAQwBEwEbARkBGAEOARoBIgHqACAB6QAiAR4BCAEgAQwB+QAiAT4BCwEUARIBJQEWARUBBQEaARIBHgEaASIBHgEiAZQAJAEGASYBHAEYASYBFAEiAS0BEQE0ARoBGgEXARsBGwEuAR0BJgEcAQoBMgEkASIBHQExARQBFwEcARsBFAEdAQQBKAEWAQoBDgEiARcBBAEOARUBFAH2ADMBGQEUAQwBGAEcARIBHgEuAR0BIgESASUBJgEZARQBEAEWAQoB+QAkASUBIAEgASsBIQEYASIBKwEaAR4BBQEwARkBAgEVAR4BGAEmARQBIAEXASoBKQEUAR4BFwENARQB+wAhARgBEwEkARYB6wAlAQEBGgEgARkBDQEbARgBHQEGAQIBQwEZAQABLwEnARMBGgERARUBIwEiASUBFQEWASEB/AAiARABGwEgAfcAIAEaAQ8BHAHwAB0BIgEVARoBIQEaARUBFQEOARwBFQEhARMBFAEWASQBLAEUASIBEQEfARkBIwEdAQkBBAEZASkBGAESARwB/wARARIBAQEbASABFgEtATQBGwEMAQkBLwEOAQ0B+gAHAS4BHQEZARIBHQEkARABIQEWARAB+AAnAQwBLQE1AREBGAHqACUBJgEMARMBFwEgASMB+gASASQBCAEyAREBGgEaASkBEwEbAR8BEwEXAQsBLgEZASQB/wA8AQ0BFQELASMBKgEeAe0ADgEPARsBAwEpAREBIAErAeUAEQErAQ4BGQEqAQ0BGAETARgBHwH+ABkBHAEfARIBFwEqASABGgEbARcBGwE7ASABIgEGARUBEwEQARcBIgEVARcBHgEhASQBPgEPARUBHgEdAR0BLAE5ARMBIAEeASwBGgEQAfwAGwEWAR4BGgEeASABEQEhARUBHQH/ADEBFgEaARcBHQEcASMBDwEVAQ4BKwEbASEB5AAZARwBHwH7AA4BGgEGATIBHAEkARwBGAEPAQsBJwEdARoBIwEjARwBHgEaAR0BEQElAbUAHQEbAR4BKQElATIBCgEQARoBIwEgAS0BCQEcAQYBHgEcASEBGQEgAf8AGQETAQ8BIwERATMBGAEVARYBHAEXAQwBGwEZASABHQEOAScB/AAcARgBEwEOAQ4BIwEkAQUBGgEKASIBFAEiASgBDQEEARABFgEyASMBGQEfARgBEwHMABsBIQEZASgBGQEJASUBGQEDAREBFQEZARwBFAEWAR0BFQH/ACEB+gAUASgBHwH4ACMBOQEdAQABHgEmARQBCQEkAe0AIAERASUBIAEMASgBFwENARsBIgEgARUBEAEUAREBFQEXARsBGAEYAREBPAElASIBGgErAR4BFQEQAScBIgEVASQBEQEhASMBAAEXASEBFQEZARUBHAEWAQsBGgEkARMBHQEUAREBCwEpARgBGQEOAQsBFQEhASoBGgEPAR8BEgH8APYAFAEdAewAPgHuABkB9gAIAQ0BIwEOASUBAwEOARsBDAE3AQsBGAFhARYB8QASAQ8BKgETAScBBAEjAVIBHQEpAREBCgEbAR4BDwElAQoBPwFBARwBFAEiAQ4BEwEJARkBKQE=",
          "dtype": "i2"
         },
         "xaxis": "x",
         "y": {
          "bdata": "Sg2DDBAPSA+eDkoNgQ+gDLwM8g+hCywPgw2CDisQ2A2DDU0KZQ4uDYMM1w7ZC0kOLgxLDCoRLgyDDbwMTAvWDysQuw0PEL0LTgjZC7sNvgq6D2UORxFKDRAOZg1KDYAQSQ5lD0gPSA+CDi0O1w6gDPMO2A2hCy4Nug4qEfQNSQ4sD9gNEQ2CDmYNgg4RDdUQZg31DGcMEgyeDvUMLQ71DNcOEA6DDUcQSg3yDxAPTAv0DfQNvAwuDZ8N1w7yD0sM2A3zDtcOSQ5mDUgPEA9KDdcOZwyeDhAPogq7DYMMLA+6DtkLEA9lDvcJnw0sDy8Lug+7DRIMgg4QDvUMnBBqCS0OoQvZCy4N1w71DLwMTQrYDU0KSQ70DWoJKBNLDPQNgw2dD7oPgwyAEC0O2A2gDNkM2A0uDEgPug9MC4EPug4QDtUQ1g+CDoMMgg5kECwP9Qy8DJ4OLg2eDtwISwzWDxAPLgz2C70LgBDzDi4MZg26D4QLSA9nDIIO2QyBD0oNZQ9LDC4MoQtNCoQLSg0RDaAM2QxJDr8Jgw29C/MO2Qv0DdkMuw2fDdoKLgwvC6IKEwsOERAO9A0QDkkOng4QDg8QEA9mDUoNEQ0QDp4OTAsRDUwLDRKeDtkMSA9lD54Ogg68DC4N2A2fDUoNgQ9KDSsQgw0tDvMOSQ7ZDEgPnw2DDJ4OSg2gDGUOug8QDmoJnw1nDKMI2QsQDxMLhAu6DhENgQ+8DGUOoAyhCy8LZwy8DNoKLQ4OERAOSQ5ID7sNSwxoC38Rng7dB9kMSQ7XDp8NRxBmDdgNvAwvCxIMvAyfDYMNuw1JDrsNug9JDkUTaAu7DaELoQv2C/EQug6fDZ0P2QxmDUsMTAsRDYIOvAxHEJ8N2A33CtkM0xKEC/YL9wq+ChIMRxChC6ELLg1oC/UMSg0PELsNFAoSDMAIug6gDC0OSQ6+Cn4T1g+DDJwQuw0uDYMNZwwQD5wQaQorELsNnQ8QDmgL2QyfDUkOEwsrEE0JvAy8DBQKZwy8DC4M9Qz3ChAPZQ6cEKMI2QwuDBIMgwwQD2YN9QxiEqIJng4sD7sNEA/1DGYN2QxlDy4Mug74CLoOng6eDiwPTQmgDH4Suw0qEdgN2A28DEUTEA6DDGUPEA5nDCoRZg1JDhQKRxDyDy0OLA9KDWcMSA/XDvQNZwxIDy4MZwxkEC4N9A3YDRAPEA6CDi4Mnw3VEBAOZQ+7DYMMLg31DPUMZg1GEkoNLA/XDvYLnw2dD2UOZQ9lDoMM3gZKDfMOgwz0DdYPLQ7aCi4M8RHZDC0OLA+4EWcM2QxLDPQNEgwQD7sNKhGDDYMMgw30DS4Mug7YDSkSug67DYMN9wktDp8NLQ5KDdgNEQ3ZDIIOuRAsDxAOSQ4tDmoJSwy7DfkH2Qz3CvIPSA8uDEkOnBAtDrwM9gtlDxAPgg6EC38R9wplD6EL2wlJDi4NoAyDDRAPZwxnDNgNZQ66DkcQEgzzDvUMEQ2DDGQQgQ/XDkoNTAsXBp8NSA8tDpwR8g/1DC4NoQsuDS8LoQsuDNoKEA6DDdYPLgzYDaAMaAugDLcSnBDyD/IP1g9mDaEL1w5JDqAMvgq4ETMHDxCFCmUPnw0uDIMN9guCDhAP2A1MC2cM8w5JDtgNFggRDUwLSg2DDfQNDxBlD7sNZg30DS4NoAwRDRAO9QwsD7oO2QvYDWMR9gtlDvMOnw0TC7sNRRNJDi0O2QwuDEkOnQ8uDBENSwy4EUoNZg31DH8RLQ5/EQ0SLQ70DdcOgQ8TC2UOLA+gDPoG2grbCdYP9wq9C/UMZwxnDJ0Pgg6eDr0LZwxlD4QLLg2fDbwMLQ4TC6AM9A2DDdUQTQllD0wLgwxlDtkMoAzyD0gP9woRDb4KKxAuDPMOEQ0QDp4OgwwtDtgN9Qw=",
          "dtype": "i2"
         },
         "yaxis": "y"
        },
        {
         "hovertemplate": "Rauchstatus=Raucherinnen<br>Schwangerschaftsdauer [d]=%{x}<br>Geburtsgewicht [g]=%{y}<extra></extra>",
         "legendgroup": "Raucherinnen",
         "marker": {
          "color": "lightcoral",
          "symbol": "circle"
         },
         "mode": "markers",
         "name": "Raucherinnen",
         "showlegend": true,
         "type": "scattergl",
         "x": {
          "bdata": "FwEaASsBGgEXARkB/wAFASABEgEFAQoBEgEgAQsB+AASASMBGwEWARgB9QAbARoBEgERARwBDgEeARABEgExARYB/wAXARgBEQH/ABcBFgHzABsBCwEKASYBFwENAQkBDAEsARMBGgEfASEBLQEnAQ8BFgEYARUBCQEWAe8AJwEUARoBHQEaARAB9gAEARIBEwETAf4AGgESASQBFQFJARYBHwESAQYBSAEdAQABHwEXARYBEgETARwBPwEVASQBJwEYASUBGAEvARQBCAERAQ8BHgEBAScBGQEkARYBFQENAQ4BCwElARoBEQERAf4AGAEVAQ8BFQEkARkBJQEoARYBIgEeARkB6gAmATsBFgElARoBFAEaARcBEwEkATkBIgH5ABcBGgEaASIBEAEaAQ8BGwEWAQcBFQETARgBGAEeAREBDgESAd8AGwERAQsBEwEcARYBEAEZAfwADgEjASUBBgEWAfEACwEYASEBIAEeAegACAELARwBGwEPAQcBHgEYAQwBHwEYARoBHgElAQ8BKgEqAQ8BJQEsARcBGAEIARMBLgENAf4ADwEJASABBAEjASYBHgEZAQ4BGwEpASEBDgEdARMBFgERARgBDwEUAQ8BDAETAQwBFAEkAQABFwEdARYBHAEOARIBJAEKASkB+wAgARIB+QAXASkBFQEAARIBHAEMARIBKAEPARwBFgEnASYBHgEeATQBFwEfAfIAFwEOARIBDQEKAREBHQEeARoBFQFKARgBIQEYAf0A9gANARABHgEaAQ0BFQEYARgBEAEkAQwBFAEMARgBIAEGAe4A9QATARsB4AATAQgBKQE0ARYBHgELARUBJgEPARABFAETAREBFgEkARkBGQEQAQoB9QAJARwBEwEhAe4AGwELAQwBEwEeARcBCAEwAQ4BIQEeAToBHgEnASYBHgEcARsBEQFKASgBFAEOAR0BIAEUAR0BDgEbAQ4BRAERARkBLwETAQ4BHAEUAQIBFgH3AA8BMAEbATMBHwEdARoBCgEiARIBBgEcARkBCwHoAA4BDAE4AQgBFAEkAR8BEwEQAR0BHQEXARYBGgEhARsBHQEnARcBGAEdAQwBGwEXASwBCgEKAR0B4QAcASIBCQEjAQQBJgH+AA4BIQEkARQBEgENARIBLgEVATgBEQErARQBGQEsAf8ABAHyAPcAGQERAQkBHQEiASABBgEZAR8B9AAWASMB",
          "dtype": "i2"
         },
         "xaxis": "x",
         "y": {
          "bdata": "LQ72C9YP8g+dDy4MMAq8DC4NvAxoC6AMoAzXDoMNognWDw8Q9gu7DYMNLwstDoQLLA9oC7oOFArxEPcKoAzYDWoJoglKDdkLLg0UCoUKnQ8TC7wMaQovC2cMLQ5NChMLoQu4EYMMEQ26DtkMgwyCDmYNgw0vC4MMogq6D04IhAsRDdoKnBAuDS8Lgwy+CrwMZg31DC4MZQ6BDw4Rgw3yD6AMDhGcEPcK9QxlDvgIuw3YDbwMhAsuDZ8NnQ9JDi4NEgyECy4M2goQD2YNFApqCb0LEgzaCi8L3Qe7DS8LEwuEC/UM9Qz1DBIMSg1oC58NhAuDDdkMSQ66DoMNug5lDr0LgQ9KDRAO3QdJDg8QTAtJDvMOhAv0DRAO2gqCDvcKvAxMC9YPogllDp8N2QzyD0oNZwyeDisQLg0TC0kOgw31DPIPvAz3CogHTAsSDEwL9wotDi8LEgz1DL8JhQoQDtkL9A3aCqIKTQovC2UO2A2eDqQHoAyfDUkOoAwuDYIOoAwuDGgL9Qz0DZ4OLwugDPYLnw2DDE0KZQ5LDL4K2QuhC7oO1BG8DBAOLQ71DC4NFArZDPQN2gpoC/UMvAwRDfIPagllDvUM8w68DJ8NDhEuDIQLnw1JDvYLaAsQDtkLvQvVEBAPnw1NCkkO2A2iCkgPoAwQDoMM9wq+CvQNLg31DIIOEQ0SDIIO1w4tDoYJvAwTC0oNhQr3CYIOaAvyD4YJEA8wCkkOoQvYDbwM1g/ZDC4MogmeDp8NhAuiCjEJhgkuDE0Jnw2iCvUM2A2gDKIK2QvaCtkL8g8QD9gNEwu/CYcITQoSDA8QMApLDBML1w4PEPQNLg1oC9kMTAtmDRMLhgmiCb8JogpnDLwMgw0QDvcJbAYSDLoPvAwNEocIuw1MC2kKZwwuDb4KvAzyD/cKvQtmDZ8NZQ+hCysQgw1ID0oNLg2hC58NaAuhC2UPhAsRDfcKZg3YDRML9QyDDRENLA9KDfYLgg6hC6MISwxOCGkKDxASDLwMSg2iCkwLFAoqERIM3AhpCmQQnw0zB/YLaAuhCxMLvAwUCmcMLg30DRMLogqCDvYLgwy6DhAOTAtKDdoKhAuDDfcK9Qy9C0cR+QdOCL4KFAr1DGUOoAy4EU0JZQ7dBxUJuw1ID78JFQm+CtkMng4uDb0LaAtnDKIKTAtKDb4KvgoQDqIJnQ/ZDE4I+AigDLsNvAzWD4MMEgxoC2UO",
          "dtype": "i2"
         },
         "yaxis": "y"
        }
       ],
       "layout": {
        "legend": {
         "title": {
          "text": "Rauchstatus der Mutter"
         },
         "tracegroupgap": 0
        },
        "template": {
         "data": {
          "bar": [
           {
            "error_x": {
             "color": "#2a3f5f"
            },
            "error_y": {
             "color": "#2a3f5f"
            },
            "marker": {
             "line": {
              "color": "#E5ECF6",
              "width": 0.5
             },
             "pattern": {
              "fillmode": "overlay",
              "size": 10,
              "solidity": 0.2
             }
            },
            "type": "bar"
           }
          ],
          "barpolar": [
           {
            "marker": {
             "line": {
              "color": "#E5ECF6",
              "width": 0.5
             },
             "pattern": {
              "fillmode": "overlay",
              "size": 10,
              "solidity": 0.2
             }
            },
            "type": "barpolar"
           }
          ],
          "carpet": [
           {
            "aaxis": {
             "endlinecolor": "#2a3f5f",
             "gridcolor": "white",
             "linecolor": "white",
             "minorgridcolor": "white",
             "startlinecolor": "#2a3f5f"
            },
            "baxis": {
             "endlinecolor": "#2a3f5f",
             "gridcolor": "white",
             "linecolor": "white",
             "minorgridcolor": "white",
             "startlinecolor": "#2a3f5f"
            },
            "type": "carpet"
           }
          ],
          "choropleth": [
           {
            "colorbar": {
             "outlinewidth": 0,
             "ticks": ""
            },
            "type": "choropleth"
           }
          ],
          "contour": [
           {
            "colorbar": {
             "outlinewidth": 0,
             "ticks": ""
            },
            "colorscale": [
             [
              0,
              "#0d0887"
             ],
             [
              0.1111111111111111,
              "#46039f"
             ],
             [
              0.2222222222222222,
              "#7201a8"
             ],
             [
              0.3333333333333333,
              "#9c179e"
             ],
             [
              0.4444444444444444,
              "#bd3786"
             ],
             [
              0.5555555555555556,
              "#d8576b"
             ],
             [
              0.6666666666666666,
              "#ed7953"
             ],
             [
              0.7777777777777778,
              "#fb9f3a"
             ],
             [
              0.8888888888888888,
              "#fdca26"
             ],
             [
              1,
              "#f0f921"
             ]
            ],
            "type": "contour"
           }
          ],
          "contourcarpet": [
           {
            "colorbar": {
             "outlinewidth": 0,
             "ticks": ""
            },
            "type": "contourcarpet"
           }
          ],
          "heatmap": [
           {
            "colorbar": {
             "outlinewidth": 0,
             "ticks": ""
            },
            "colorscale": [
             [
              0,
              "#0d0887"
             ],
             [
              0.1111111111111111,
              "#46039f"
             ],
             [
              0.2222222222222222,
              "#7201a8"
             ],
             [
              0.3333333333333333,
              "#9c179e"
             ],
             [
              0.4444444444444444,
              "#bd3786"
             ],
             [
              0.5555555555555556,
              "#d8576b"
             ],
             [
              0.6666666666666666,
              "#ed7953"
             ],
             [
              0.7777777777777778,
              "#fb9f3a"
             ],
             [
              0.8888888888888888,
              "#fdca26"
             ],
             [
              1,
              "#f0f921"
             ]
            ],
            "type": "heatmap"
           }
          ],
          "histogram": [
           {
            "marker": {
             "pattern": {
              "fillmode": "overlay",
              "size": 10,
              "solidity": 0.2
             }
            },
            "type": "histogram"
           }
          ],
          "histogram2d": [
           {
            "colorbar": {
             "outlinewidth": 0,
             "ticks": ""
            },
            "colorscale": [
             [
              0,
              "#0d0887"
             ],
             [
              0.1111111111111111,
              "#46039f"
             ],
             [
              0.2222222222222222,
              "#7201a8"
             ],
             [
              0.3333333333333333,
              "#9c179e"
             ],
             [
              0.4444444444444444,
              "#bd3786"
             ],
             [
              0.5555555555555556,
              "#d8576b"
             ],
             [
              0.6666666666666666,
              "#ed7953"
             ],
             [
              0.7777777777777778,
              "#fb9f3a"
             ],
             [
              0.8888888888888888,
              "#fdca26"
             ],
             [
              1,
              "#f0f921"
             ]
            ],
            "type": "histogram2d"
           }
          ],
          "histogram2dcontour": [
           {
            "colorbar": {
             "outlinewidth": 0,
             "ticks": ""
            },
            "colorscale": [
             [
              0,
              "#0d0887"
             ],
             [
              0.1111111111111111,
              "#46039f"
             ],
             [
              0.2222222222222222,
              "#7201a8"
             ],
             [
              0.3333333333333333,
              "#9c179e"
             ],
             [
              0.4444444444444444,
              "#bd3786"
             ],
             [
              0.5555555555555556,
              "#d8576b"
             ],
             [
              0.6666666666666666,
              "#ed7953"
             ],
             [
              0.7777777777777778,
              "#fb9f3a"
             ],
             [
              0.8888888888888888,
              "#fdca26"
             ],
             [
              1,
              "#f0f921"
             ]
            ],
            "type": "histogram2dcontour"
           }
          ],
          "mesh3d": [
           {
            "colorbar": {
             "outlinewidth": 0,
             "ticks": ""
            },
            "type": "mesh3d"
           }
          ],
          "parcoords": [
           {
            "line": {
             "colorbar": {
              "outlinewidth": 0,
              "ticks": ""
             }
            },
            "type": "parcoords"
           }
          ],
          "pie": [
           {
            "automargin": true,
            "type": "pie"
           }
          ],
          "scatter": [
           {
            "fillpattern": {
             "fillmode": "overlay",
             "size": 10,
             "solidity": 0.2
            },
            "type": "scatter"
           }
          ],
          "scatter3d": [
           {
            "line": {
             "colorbar": {
              "outlinewidth": 0,
              "ticks": ""
             }
            },
            "marker": {
             "colorbar": {
              "outlinewidth": 0,
              "ticks": ""
             }
            },
            "type": "scatter3d"
           }
          ],
          "scattercarpet": [
           {
            "marker": {
             "colorbar": {
              "outlinewidth": 0,
              "ticks": ""
             }
            },
            "type": "scattercarpet"
           }
          ],
          "scattergeo": [
           {
            "marker": {
             "colorbar": {
              "outlinewidth": 0,
              "ticks": ""
             }
            },
            "type": "scattergeo"
           }
          ],
          "scattergl": [
           {
            "marker": {
             "colorbar": {
              "outlinewidth": 0,
              "ticks": ""
             }
            },
            "type": "scattergl"
           }
          ],
          "scattermap": [
           {
            "marker": {
             "colorbar": {
              "outlinewidth": 0,
              "ticks": ""
             }
            },
            "type": "scattermap"
           }
          ],
          "scattermapbox": [
           {
            "marker": {
             "colorbar": {
              "outlinewidth": 0,
              "ticks": ""
             }
            },
            "type": "scattermapbox"
           }
          ],
          "scatterpolar": [
           {
            "marker": {
             "colorbar": {
              "outlinewidth": 0,
              "ticks": ""
             }
            },
            "type": "scatterpolar"
           }
          ],
          "scatterpolargl": [
           {
            "marker": {
             "colorbar": {
              "outlinewidth": 0,
              "ticks": ""
             }
            },
            "type": "scatterpolargl"
           }
          ],
          "scatterternary": [
           {
            "marker": {
             "colorbar": {
              "outlinewidth": 0,
              "ticks": ""
             }
            },
            "type": "scatterternary"
           }
          ],
          "surface": [
           {
            "colorbar": {
             "outlinewidth": 0,
             "ticks": ""
            },
            "colorscale": [
             [
              0,
              "#0d0887"
             ],
             [
              0.1111111111111111,
              "#46039f"
             ],
             [
              0.2222222222222222,
              "#7201a8"
             ],
             [
              0.3333333333333333,
              "#9c179e"
             ],
             [
              0.4444444444444444,
              "#bd3786"
             ],
             [
              0.5555555555555556,
              "#d8576b"
             ],
             [
              0.6666666666666666,
              "#ed7953"
             ],
             [
              0.7777777777777778,
              "#fb9f3a"
             ],
             [
              0.8888888888888888,
              "#fdca26"
             ],
             [
              1,
              "#f0f921"
             ]
            ],
            "type": "surface"
           }
          ],
          "table": [
           {
            "cells": {
             "fill": {
              "color": "#EBF0F8"
             },
             "line": {
              "color": "white"
             }
            },
            "header": {
             "fill": {
              "color": "#C8D4E3"
             },
             "line": {
              "color": "white"
             }
            },
            "type": "table"
           }
          ]
         },
         "layout": {
          "annotationdefaults": {
           "arrowcolor": "#2a3f5f",
           "arrowhead": 0,
           "arrowwidth": 1
          },
          "autotypenumbers": "strict",
          "coloraxis": {
           "colorbar": {
            "outlinewidth": 0,
            "ticks": ""
           }
          },
          "colorscale": {
           "diverging": [
            [
             0,
             "#8e0152"
            ],
            [
             0.1,
             "#c51b7d"
            ],
            [
             0.2,
             "#de77ae"
            ],
            [
             0.3,
             "#f1b6da"
            ],
            [
             0.4,
             "#fde0ef"
            ],
            [
             0.5,
             "#f7f7f7"
            ],
            [
             0.6,
             "#e6f5d0"
            ],
            [
             0.7,
             "#b8e186"
            ],
            [
             0.8,
             "#7fbc41"
            ],
            [
             0.9,
             "#4d9221"
            ],
            [
             1,
             "#276419"
            ]
           ],
           "sequential": [
            [
             0,
             "#0d0887"
            ],
            [
             0.1111111111111111,
             "#46039f"
            ],
            [
             0.2222222222222222,
             "#7201a8"
            ],
            [
             0.3333333333333333,
             "#9c179e"
            ],
            [
             0.4444444444444444,
             "#bd3786"
            ],
            [
             0.5555555555555556,
             "#d8576b"
            ],
            [
             0.6666666666666666,
             "#ed7953"
            ],
            [
             0.7777777777777778,
             "#fb9f3a"
            ],
            [
             0.8888888888888888,
             "#fdca26"
            ],
            [
             1,
             "#f0f921"
            ]
           ],
           "sequentialminus": [
            [
             0,
             "#0d0887"
            ],
            [
             0.1111111111111111,
             "#46039f"
            ],
            [
             0.2222222222222222,
             "#7201a8"
            ],
            [
             0.3333333333333333,
             "#9c179e"
            ],
            [
             0.4444444444444444,
             "#bd3786"
            ],
            [
             0.5555555555555556,
             "#d8576b"
            ],
            [
             0.6666666666666666,
             "#ed7953"
            ],
            [
             0.7777777777777778,
             "#fb9f3a"
            ],
            [
             0.8888888888888888,
             "#fdca26"
            ],
            [
             1,
             "#f0f921"
            ]
           ]
          },
          "colorway": [
           "#636efa",
           "#EF553B",
           "#00cc96",
           "#ab63fa",
           "#FFA15A",
           "#19d3f3",
           "#FF6692",
           "#B6E880",
           "#FF97FF",
           "#FECB52"
          ],
          "font": {
           "color": "#2a3f5f"
          },
          "geo": {
           "bgcolor": "white",
           "lakecolor": "white",
           "landcolor": "#E5ECF6",
           "showlakes": true,
           "showland": true,
           "subunitcolor": "white"
          },
          "hoverlabel": {
           "align": "left"
          },
          "hovermode": "closest",
          "mapbox": {
           "style": "light"
          },
          "paper_bgcolor": "white",
          "plot_bgcolor": "#E5ECF6",
          "polar": {
           "angularaxis": {
            "gridcolor": "white",
            "linecolor": "white",
            "ticks": ""
           },
           "bgcolor": "#E5ECF6",
           "radialaxis": {
            "gridcolor": "white",
            "linecolor": "white",
            "ticks": ""
           }
          },
          "scene": {
           "xaxis": {
            "backgroundcolor": "#E5ECF6",
            "gridcolor": "white",
            "gridwidth": 2,
            "linecolor": "white",
            "showbackground": true,
            "ticks": "",
            "zerolinecolor": "white"
           },
           "yaxis": {
            "backgroundcolor": "#E5ECF6",
            "gridcolor": "white",
            "gridwidth": 2,
            "linecolor": "white",
            "showbackground": true,
            "ticks": "",
            "zerolinecolor": "white"
           },
           "zaxis": {
            "backgroundcolor": "#E5ECF6",
            "gridcolor": "white",
            "gridwidth": 2,
            "linecolor": "white",
            "showbackground": true,
            "ticks": "",
            "zerolinecolor": "white"
           }
          },
          "shapedefaults": {
           "line": {
            "color": "#2a3f5f"
           }
          },
          "ternary": {
           "aaxis": {
            "gridcolor": "white",
            "linecolor": "white",
            "ticks": ""
           },
           "baxis": {
            "gridcolor": "white",
            "linecolor": "white",
            "ticks": ""
           },
           "bgcolor": "#E5ECF6",
           "caxis": {
            "gridcolor": "white",
            "linecolor": "white",
            "ticks": ""
           }
          },
          "title": {
           "x": 0.05
          },
          "xaxis": {
           "automargin": true,
           "gridcolor": "white",
           "linecolor": "white",
           "ticks": "",
           "title": {
            "standoff": 15
           },
           "zerolinecolor": "white",
           "zerolinewidth": 2
          },
          "yaxis": {
           "automargin": true,
           "gridcolor": "white",
           "linecolor": "white",
           "ticks": "",
           "title": {
            "standoff": 15
           },
           "zerolinecolor": "white",
           "zerolinewidth": 2
          }
         }
        },
        "title": {
         "text": "Schwangerschaftsdauer vs. Geburtsgewicht – mit Trendlinien"
        },
        "xaxis": {
         "anchor": "y",
         "domain": [
          0,
          1
         ],
         "title": {
          "text": "Schwangerschaftsdauer [d]"
         }
        },
        "yaxis": {
         "anchor": "x",
         "domain": [
          0,
          1
         ],
         "title": {
          "text": "Geburtsgewicht [g]"
         }
        }
       }
      }
     },
     "metadata": {},
     "output_type": "display_data"
    }
   ],
   "source": [
    "# 10. Erstelle einen Scatterplot, der Schwangerschaftsdauer (gestation) gegen Geburtsgewicht (bwt) darstellt, und füge den Rauchstatus als Farbdimension hinzu.\n",
    "\n",
    "import plotly.express as px\n",
    "\n",
    "# Gruppenspalte für klare Beschriftung (falls noch nicht vorhanden)\n",
    "df_clean[\"Rauchergruppe\"] = df_clean[\"Mutter raucht\"].map({0: \"Nichtraucherinnen\", 1: \"Raucherinnen\"})\n",
    "\n",
    "# Erstelle Scatterplot mit Trendlinien\n",
    "fig = px.scatter(\n",
    "    df_clean,\n",
    "    x=\"Schwangerschaftsdauer [d]\",\n",
    "    y=\"Geburtsgewicht [g]\",\n",
    "    color=\"Rauchergruppe\",                     # Farbdimension nach Rauchstatus\n",
    "    trendline=\"ols\",                           # ← Lineare Regressionslinie aktivieren\n",
    "    trendline_scope=\"group\",                   # ← Für jede Gruppe eigene Linie\n",
    "    title=\"Schwangerschaftsdauer vs. Geburtsgewicht – mit Trendlinien\",\n",
    "    labels={\n",
    "        \"Dauer der Schwangerschaft in Tagen\": \"Schwangerschaftsdauer (Tage)\",\n",
    "        \"Gewicht in Gramm\": \"Geburtsgewicht (g)\",\n",
    "        \"Rauchergruppe\": \"Rauchstatus\"\n",
    "    },\n",
    "    color_discrete_sequence=[\"lightgreen\", \"lightcoral\"]\n",
    ")\n",
    "\n",
    "fig.update_layout(\n",
    "    legend_title_text=\"Rauchstatus der Mutter\"\n",
    ")\n",
    "\n",
    "fig.show()"
   ]
  },
  {
   "cell_type": "code",
   "execution_count": 11,
   "id": "384dc636",
   "metadata": {},
   "outputs": [
    {
     "data": {
      "application/vnd.plotly.v1+json": {
       "config": {
        "plotlyServerURL": "https://plot.ly"
       },
       "data": [
        {
         "hovertemplate": "Körpergröße der Mutter (cm)=%{x}<br>Geburtsgewicht (g)=%{y}<extra></extra>",
         "legendgroup": "",
         "marker": {
          "color": "darkgreen",
          "symbol": "circle"
         },
         "mode": "markers",
         "name": "",
         "showlegend": false,
         "type": "scattergl",
         "x": {
          "bdata": "nQCjAKMAqgCdAJ0ApQCdAKgArQCjAKAAmwCgAKAApQCYAK0AqACOAKoAqACtAKUApQCTAKUApQCoAJsAmwCoAJgApQCqAKAAoAClAJsAoACbAKUAoACoAJgAqACgAJ0ApQCbAKMAqgCYALIApQCYAJsAmwCqAKUAoACgAKUAoACvAKAAoACoAKAAqACdAJgAnQCgAKAAoACdAKUAowCtAKoAqAClAKAAsgCWAJ0AmACbAKMAmwCdAKMAmACjAKUAmwCoAKgApQCjAKUApQCqAKgAowCoAKoAqAClAJsAqACqAK8ArwCbAKUAnQCoAKoAnQCqAKMAmACoAKMArwClAKUApQCdAKUApQCgAJsAqACgALQArQCoAK0AmwCoAKMArQCYAJgAqgCdAKgAoACgAKUArwCqAKUAnQCtAKUAmwCoALcAqAClAJ0AowCdAKUAowCgAJ0AoACbAJMAlgCoAKAAoAClAKAAoACoAKgAmwCgAKMAoACgAJsAmwCtAKUAoACdAJ0AmwCjAKUAqgCyAJsApQCdAKAAowCjAK0ApQCoAKAAnQCgAKgApQCjAKgAoACgAKAArQCgAKUApQClAKoAnQCoAKUArQCgAJYAoACbAKUAowCjAKgAoACoAKMAnQClAKgAoACjAKgAmACqAJsAoACoAJ0AqgClAKUAqAClAKoAqACWAJ0AoACtAKgAowC0AKUAoACqAKMArQC0AKAAmACWAJgAmwCjAJ0AowCbAKUAqACjAKgApQCdAJgArQCoAJ0AnQCgAKoApQCqAKgAqACqAKgAowCoAKAAmACdAKoAowCgAKUAowCqAKMAnQCjAJYAoACqAK0ApQCbAKoApQCgAKMAqACWAKUAoACgAKoAowCdAKMAnQCgAKMAqACjAKgAqACgAJ0AnQCjAJ0ArQCqAKoApQCbAJgAqgCdAKUAmACqAKgAqgCdAKgAqgClAKgArQCjAKgAnQCWAKMAqgCqAKMAqACdAJgAnQCgAKUApQCdAKMArwCjAJsAqACjAJsAoACqAKoAqACgAKMAqgCqAKgAqgCoAKAAowCWAJsAnQCjAIcArQCoAKAAqACoAJ0AowCqAKUAmwClAKoAqgCgAKUAqACoAKAAnQCjAKoAqgCoAKMAmwCoAKUApQCYAJsApQCoAKoAowCbAKMAqACyAJgApQCoAKUAqACgAKMAoACgAKAApQCjAJsAoAClAKUAoACjAKMAmACqAKMAlgCgAKAAqACjAJ0AowCqAKMApQCgAKMAlgCjAJ0AowClAKMAqACoAJ0AqgClAJ0AowCoAKgArwCjAJgAowCgAJ0AmAClAK0AnQCqAKgAlgClAKgAmAClAJsAowCjAKUAoACoAJYAmACdAKgAqgClAKAAoAClAKUAsgCjAKgAqACbAKAAqgClAK0AqACjAKMAnQClAKUAowCqAKgApQClAJ0ApQCYAJYApQClAKUAqgC0AKgAoACtAKMAmwCdAK8AqACgAKAAqACdAKMAowCjAK0AqgClAJsArwCgAJ0AnQCjAK8AnQCdAJ0AnQCjAKAAmwCTAJsAnQCdAJsApQClAJ0ArQClAK0AlgCdAJ0AmwClAKMAqACjAJ0AowCqAKMAoACjAKMAoAClAKUAoACgAKoAqACqAKMAowClAKAAkQCbAK0AqACoAJ0AmAClAJgAowCjAJgAowCYALIAmwCYAKMAmwCoAKUAnQCdAJsAnQCYAKUAqgClAKAAoACtAK0AqACjAKMAqACbAKAArQCdAKgAqACdAKAAkwClALQAnQCjAKMAowCdAK0AnQCqAKMApQCdAKAAqACjAKMAoACvAJ0AqgCvAKAApQCdALIAqACdAJYAnQCbAKgAmACoAKAAnQCYAKMAkwCbAKMAqACdAKMArQCdAJ0ArQCdAKMAowCYAKAAowCgAKAAnQCjAJ0ApQCgAKAAnQCtAKAAowCgAJsAmACgAKMAowCoAKoArQCdAK0AqgClAKMAqACtAKgAnQCgAKMAowClAKUAkwCbAKMAqgCgAK8AqACjAKUApQCbAJ0ApQClAKMAqACoAKoApQCWAKAAmwCbAKAApQCgAJsAqgCgAKMAsgCjAKoAmwCjAKUAnQCbAJgAowCqAJ0AqgCjAKUAowClAJ0AowCoAKAAqACdAKgAqACoAKgAnQCjAKUAowCjAKUAqACbAKUAnQCgAKMAqgCqAKUAoACgAKAAoACtAJsAqACqAKgAqACqAKoAmACqAKUArQCjAJsAnQCbAJsApQCoAKMAmwCWAKgApQCjAKAAnQCgAKoAqACoAKMAnQCgAJsAnQCjAKMAqgCqAJ0AmwCdALIArQCjAK0AowCqAJsAkwCgAKAAqACqAKMAmACqAKUApQCvAKUAowCbAKUAlgCjAK0AqACjAKoAoACjAKUAqACoAKMApQCdAKMApQCgAK8AqgCbAKMAowClAKAApQClAKUAoAClAJsAowCdAK8AoACdAKgApQCbAKAAnQCYAKMAmAClAK0AowCdAK0AowCoAKgAoACtAKoAmwCbAJ0AoACoAJgApQCWAJ0AowCqAJsAnQCyAKoArQCgAKMAqACjAKUAoACbAKMAqgCjAJgArwCgAKUAowClAKUAowCqAK0AoACgAKgApQClAKoApQCYAKAAqACvAJsAowCgAKAApQCoAKgAowCYAJsApQCdAJ0AmwCtAKoAqAClAKUAmACqAKAAowClAKoApQClAJgApQCdAJsAowCbAKUAqgCdAKMAqACbAKMApQCqAJYAmwCbAKMArQCoAK0AnQCgAKUAqgCyAKAAmACtAJgAoACjAJMAowCbAKgApQCbAKgAmACdAKAAoACgAJsAlgClAJ0AoACdAKMAmwCTAKAAoACjAKUAqgCgAJ0ApQCoAJsAmwCjAK0AmwCoAKgAmwCbAKAApQCqAKoAowCgAKMAlgCoAKAAoACbAKUAowCgAJYAqgClAKAAowCjAKAAmwClAJsApQCdAJ0AoACoAJsAnQClAKUAqgCjAKoAoACjAKAAsgCTAKAAmwCjAJsAqACJAKgAqAClAK0ArwCgAJ0AqACgAKgAmAClAKMAowClALIAoACYAKMApQClAJgAqgClAKUApQA=",
          "dtype": "i2"
         },
         "xaxis": "x",
         "y": {
          "bdata": "Sg2DDC0O9gsQD0gPng5KDdYPgQ/yD50PLgygDLwMMAq8DPIPLg2hC7wMLA+DDYIOaAsrEKAM2A2gDIMNTQplDi4NgwzXDtkL1w6DDUkOLgxLDKIJ1g8qES4Mgw0PELwM9gtMC9YPKxC7DbsNDxC9C04I2Qu7DYMNLwstDoQLvgosD2gLug9lDkcRug5KDRQKEA7xEGYNSg33CoAQSQ5lD6AMSA9ID4IO2A0tDtcOoAxqCfMOognYDaELSg0uDdkLLg26DioR9A1JDiwP2A0UCoUKEQ2dD4IOZg0TC4IOEQ3VEGYN9Qy8DGcMaQoSDJ4O9QwvC2cMLQ4tDvUM1w4QDk0Kgw0TC0cQSg3yD6ELEA9MC7gRgwz0DfQNvAwuDZ8NEQ26DtcO8g9LDNgN8w7XDtkMSQ6DDIIOZg1mDUgPEA9KDYMN1w4vC2cMng4QD4MMogq7DYMMLA+6DtkLogq6DxAPTgiEC2UO9wkRDZ8NLA8vC7oP2gq7DRIMnBAuDYIOLwuDDBAOvgr1DJwQagktDqELvAzZC2YNLg31DNcO9Qy8DC4MZQ6BD00KDhHYDU0Kgw1JDvQNagkoE/IPoAwOEZwQSwz0DYMNnQ+6D/cKgwyAEPUMLQ7YDaAMZQ7ZDPgIuw3YDS4M2A1ID7oPvAxMC4EPug4QDoQLLg3VEJ8N1g+CDp0PSQ6DDC4NEgyEC4IOLgxkECwP9Qy8DNoKEA9mDZ4OFAouDWoJvQueDtwIEgxLDNYPEA8uDNoK9gsvC90Huw29Cy8LEwuEC/UM9QyAEPMOLgxmDboPhAtID2cM9QwSDIIOSg3ZDIEPaAtKDWUPnw2EC0sMgw3ZDEkOug4uDKELTQqDDboOZQ6EC70LSg0RDYEPoAzZDEkOSg0QDt0HvwmDDb0L8w7ZC0kO9A3ZDLsNnw0PEEwLSQ7aCi4M8w4vC6IKhAsTCw4REA70DfQNEA7aChAOSQ6CDp4OEA73CrwMDxBMCxAPZg1KDRENEA6eDkwL1g8RDUwLDRKeDtkMSA9lD54OogmCDmUOnw28DNkMLg3YDfIPnw1KDYEPSg1KDSsQZwyeDisQgw0tDi4N8w5JDtkMEwtID58NgwxJDoMNng5KDaAMZQ71DLoP8g8QDrwMagn3Cp8NZwyIB0wLEgxMC/cKowgtDtkLEA8vCxMLEgz1DL8JhQoQDtkL9A3aCqIKhAu6Dk0KLwsRDWUO2A2BD7wMZQ6gDKELLwueDmcMpAegDJ8NSQ6gDLwM2gotDi4NDhEQDoIOSQ6gDC4MaAv1DEgP9A27DUsMng5oC38RLwueDqAM3QfZDPYLnw1JDtcOgwyfDUcQZg3YDbwMLwtNChIMvAxlDp8NSwy+CoMNuw1JDrsN2Qu6D0kORROhC2gLuw2hC7oO1BGhC/YL8RC6DrwMEA4tDvUMnw0uDZ0PFArZDNkMZg1LDEwLEQ30DdoKgg68DGgLRxCfDdgN9Qz3CrwM2QwRDdMShAv2C/IP9wq+CmoJZQ71DBIMRxChC/MOvAyfDaELDhEuDC4NaAv1DEoNDxCEC58Nuw1JDhQKEgz2C8AIug6gDC0OSQ6+CmgLfhPWDxAO2QuDDL0L1RCcEBAPuw2fDS4Ngw1nDE0KEA+cEGkKKxBJDtgNuw2dD6IKSA8QDqAMaAsQDoMM9wq+CtkM9A0uDZ8NSQ71DBMLgg4rEE0JvAy8DBENFApnDLwMLgz1DBIM9wqCDhAPZQ7XDi0OnBCGCbwMowgTC9kMLgwSDIMMEA9mDfUMYhKiCUoNhQqeDvcJgg5oC/IPLA+7DRAP9QxmDdkMZQ8uDIYJug74CLoOng6eDiwPTQkQDzAKoAxJDn4Suw2hCyoR2A3YDdgNvAxFExAOgwy8DGUPEA5nDNYP2QwqEWYNLgyiCZ4OSQ6fDRQKRxDyDy0OLA+EC0oNZwxID6IK1w70DWcMSA8uDDEJZwxkEC4NhgkuDPQN2A0QDxAOTQmCDp8NogouDJ8N1RAQDvUM2A1lD6AMogq7DdkLgwzaCi4N2Qv1DPUM8g8QD2YNRhJKDdgNLA8TC9cOvwn2C58NnQ9lDmUPZQ6DDIcI3gZNChIMDxAwCkoN8w6DDPQN1g8tDtoKLgzxEdkMLQ5LDCwPEwu4EWcM1w4PENkM9A1LDPQNEgwQDy4NaAu7DSoRgw2DDIMN9A3ZDEwLLgy6DtgNKRK6DrsNgw1mDRML9wktDoYJnw2iCS0OSg3YDREN2QyCDrkQvwksDxAOogpJDi0OaglLDLsNZwy8DPkHgw3ZDBAO9wn3CvIPSA9sBhIMLgxJDpwQLQ66D7wM9gtlD7wMEA8NEoIOhwi7DYQLTAtpCn8RZwwuDb4K9wq8DGUP8g/3CqEL2wlJDi4NoAy9C4MNEA9mDWcMZwyfDWUP2A2hC2UOKxC6DkcQEgyDDfMO9QxID0oNLg0RDaELgwxkEIEP1w5KDZ8NTAsXBmgLnw2hC0gPLQ5lD4QLnBERDfcK8g9mDfUMLg2hC9gNLg0vC6ELLgwTC9oKEA71DIMNgw0RDSwPSg3WD/YLgg4uDKEL2A2jCKAMSwxoC6AMTgi3EmkKnBDyD/IP1g8PEGYNoQvXDkkOoAy+CrgRMwcPEIUKZQ+fDRIMLgyDDbwM9gtKDYIOEA/YDaIKTAtMC2cM8w4UCkkOKhESDNwI2A1pCmQQFgifDTMHEQ1MC0oN9guDDWgLoQv0DQ8QZQ+7DWYN9A0uDaAMEQ0QDvUMLA+6DhML2Qu8DBQKZwzYDWMR9gtlDvMOnw0TC7sNRRNJDi4N9A0tDtkMEwuiCoIOLgz2C0kOnQ8uDBENSwy4EUoNZg2DDPUMfxEtDn8Rug4NEi0O9A0QDtcOgQ9MCxMLSg3aCmUOhAuDDSwPoAz6BtoK9wrbCfUM1g+9C/cKRxH5B04Ivgq9CxQK9Qz1DGcMZwydD4IOZQ6eDqAMuBG9C00JZwxlD4QLZQ7dBxUJLg2fDbwMuw1ID78JLQ4VCRMLoAy+CvQNgw3VENkMng5NCS4NvQtlD2gLZwyiCkwLSg1MC74KgwxlDr4K2QygDBAOogmdD/IP2QxOCEgP9woRDb4KKxD4CC4M8w6gDLsNvAzWD4MMEgxoCxENEA6eDoMMLQ5lDtgN9Qw=",
          "dtype": "i2"
         },
         "yaxis": "y"
        },
        {
         "hovertemplate": "<b>OLS trendline</b><br>Geburtsgewicht [g] = 16.2434 * Körpergröße [cm] + 743.762<br>R<sup>2</sup>=0.041441<br><br>Körpergröße der Mutter (cm)=%{x}<br>Geburtsgewicht (g)=%{y} <b>(trend)</b><extra></extra>",
         "legendgroup": "",
         "marker": {
          "color": "darkgreen",
          "symbol": "circle"
         },
         "mode": "lines",
         "name": "",
         "showlegend": false,
         "type": "scattergl",
         "x": {
          "bdata": "hwCJAI4AkQCTAJMAkwCTAJMAkwCTAJMAkwCTAJYAlgCWAJYAlgCWAJYAlgCWAJYAlgCWAJYAlgCWAJYAlgCWAJYAlgCWAJYAlgCWAJgAmACYAJgAmACYAJgAmACYAJgAmACYAJgAmACYAJgAmACYAJgAmACYAJgAmACYAJgAmACYAJgAmACYAJgAmACYAJgAmACYAJgAmACYAJgAmACYAJgAmACYAJgAmACYAJgAmACYAJgAmACYAJsAmwCbAJsAmwCbAJsAmwCbAJsAmwCbAJsAmwCbAJsAmwCbAJsAmwCbAJsAmwCbAJsAmwCbAJsAmwCbAJsAmwCbAJsAmwCbAJsAmwCbAJsAmwCbAJsAmwCbAJsAmwCbAJsAmwCbAJsAmwCbAJsAmwCbAJsAmwCbAJsAmwCbAJsAmwCbAJsAmwCbAJsAmwCbAJsAmwCbAJsAmwCbAJsAmwCbAJsAmwCbAJsAmwCbAJsAmwCbAJsAmwCbAJsAmwCbAJsAmwCbAJ0AnQCdAJ0AnQCdAJ0AnQCdAJ0AnQCdAJ0AnQCdAJ0AnQCdAJ0AnQCdAJ0AnQCdAJ0AnQCdAJ0AnQCdAJ0AnQCdAJ0AnQCdAJ0AnQCdAJ0AnQCdAJ0AnQCdAJ0AnQCdAJ0AnQCdAJ0AnQCdAJ0AnQCdAJ0AnQCdAJ0AnQCdAJ0AnQCdAJ0AnQCdAJ0AnQCdAJ0AnQCdAJ0AnQCdAJ0AnQCdAJ0AnQCdAJ0AnQCdAJ0AnQCdAJ0AnQCdAJ0AnQCdAJ0AnQCdAJ0AnQCdAJ0AnQCdAJ0AnQCdAJ0AnQCdAJ0AnQCdAJ0AnQCdAJ0AnQCdAJ0AnQCdAJ0AnQCdAJ0AoACgAKAAoACgAKAAoACgAKAAoACgAKAAoACgAKAAoACgAKAAoACgAKAAoACgAKAAoACgAKAAoACgAKAAoACgAKAAoACgAKAAoACgAKAAoACgAKAAoACgAKAAoACgAKAAoACgAKAAoACgAKAAoACgAKAAoACgAKAAoACgAKAAoACgAKAAoACgAKAAoACgAKAAoACgAKAAoACgAKAAoACgAKAAoACgAKAAoACgAKAAoACgAKAAoACgAKAAoACgAKAAoACgAKAAoACgAKAAoACgAKAAoACgAKAAoACgAKAAoACgAKAAoACgAKAAoACgAKAAoACgAKAAoACgAKAAoACgAKAAoACgAKAAoACgAKAAoACgAKAAoACgAKAAoACgAKAAoACgAKAAoACgAKAAoACgAKAAoACgAKAAoACgAKAAoACgAKMAowCjAKMAowCjAKMAowCjAKMAowCjAKMAowCjAKMAowCjAKMAowCjAKMAowCjAKMAowCjAKMAowCjAKMAowCjAKMAowCjAKMAowCjAKMAowCjAKMAowCjAKMAowCjAKMAowCjAKMAowCjAKMAowCjAKMAowCjAKMAowCjAKMAowCjAKMAowCjAKMAowCjAKMAowCjAKMAowCjAKMAowCjAKMAowCjAKMAowCjAKMAowCjAKMAowCjAKMAowCjAKMAowCjAKMAowCjAKMAowCjAKMAowCjAKMAowCjAKMAowCjAKMAowCjAKMAowCjAKMAowCjAKMAowCjAKMAowCjAKMAowCjAKMAowCjAKMAowCjAKMAowCjAKMAowCjAKMAowCjAKMAowCjAKMAowCjAKMAowCjAKMAowCjAKMAowCjAKMAowCjAKMAowCjAKMAowCjAKMAowCjAKMAowCjAKMAowClAKUApQClAKUApQClAKUApQClAKUApQClAKUApQClAKUApQClAKUApQClAKUApQClAKUApQClAKUApQClAKUApQClAKUApQClAKUApQClAKUApQClAKUApQClAKUApQClAKUApQClAKUApQClAKUApQClAKUApQClAKUApQClAKUApQClAKUApQClAKUApQClAKUApQClAKUApQClAKUApQClAKUApQClAKUApQClAKUApQClAKUApQClAKUApQClAKUApQClAKUApQClAKUApQClAKUApQClAKUApQClAKUApQClAKUApQClAKUApQClAKUApQClAKUApQClAKUApQClAKUApQClAKUApQClAKUApQClAKUApQClAKUApQClAKUApQClAKUApQClAKUApQClAKUApQClAKUApQClAKUApQClAKUApQClAKUApQClAKUApQClAKUApQClAKUAqACoAKgAqACoAKgAqACoAKgAqACoAKgAqACoAKgAqACoAKgAqACoAKgAqACoAKgAqACoAKgAqACoAKgAqACoAKgAqACoAKgAqACoAKgAqACoAKgAqACoAKgAqACoAKgAqACoAKgAqACoAKgAqACoAKgAqACoAKgAqACoAKgAqACoAKgAqACoAKgAqACoAKgAqACoAKgAqACoAKgAqACoAKgAqACoAKgAqACoAKgAqACoAKgAqACoAKgAqACoAKgAqACoAKgAqACoAKgAqACoAKgAqACoAKgAqACoAKgAqACoAKgAqACoAKgAqACoAKgAqACoAKgAqACoAKgAqACoAKgAqACoAKgAqACoAKgAqACoAKgAqACoAKgAqACoAKgAqACoAKgAqACqAKoAqgCqAKoAqgCqAKoAqgCqAKoAqgCqAKoAqgCqAKoAqgCqAKoAqgCqAKoAqgCqAKoAqgCqAKoAqgCqAKoAqgCqAKoAqgCqAKoAqgCqAKoAqgCqAKoAqgCqAKoAqgCqAKoAqgCqAKoAqgCqAKoAqgCqAKoAqgCqAKoAqgCqAKoAqgCqAKoAqgCqAKoAqgCqAKoAqgCqAKoAqgCqAKoAqgCqAKoAqgCqAKoAqgCqAKoAqgCqAKoAqgCqAKoAqgCqAKoAqgCqAKoAqgCtAK0ArQCtAK0ArQCtAK0ArQCtAK0ArQCtAK0ArQCtAK0ArQCtAK0ArQCtAK0ArQCtAK0ArQCtAK0ArQCtAK0ArQCtAK0ArQCtAK0ArQCtAK0ArQCtAK0ArQCtAK0ArQCtAK0ArQCtAK8ArwCvAK8ArwCvAK8ArwCvAK8ArwCvAK8ArwCvAK8ArwCvAK8AsgCyALIAsgCyALIAsgCyALIAsgCyALIAsgC0ALQAtAC0ALQAtwA=",
          "dtype": "i2"
         },
         "xaxis": "x",
         "y": {
          "bdata": "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",
          "dtype": "f8"
         },
         "yaxis": "y"
        }
       ],
       "layout": {
        "legend": {
         "tracegroupgap": 0
        },
        "template": {
         "data": {
          "bar": [
           {
            "error_x": {
             "color": "#2a3f5f"
            },
            "error_y": {
             "color": "#2a3f5f"
            },
            "marker": {
             "line": {
              "color": "#E5ECF6",
              "width": 0.5
             },
             "pattern": {
              "fillmode": "overlay",
              "size": 10,
              "solidity": 0.2
             }
            },
            "type": "bar"
           }
          ],
          "barpolar": [
           {
            "marker": {
             "line": {
              "color": "#E5ECF6",
              "width": 0.5
             },
             "pattern": {
              "fillmode": "overlay",
              "size": 10,
              "solidity": 0.2
             }
            },
            "type": "barpolar"
           }
          ],
          "carpet": [
           {
            "aaxis": {
             "endlinecolor": "#2a3f5f",
             "gridcolor": "white",
             "linecolor": "white",
             "minorgridcolor": "white",
             "startlinecolor": "#2a3f5f"
            },
            "baxis": {
             "endlinecolor": "#2a3f5f",
             "gridcolor": "white",
             "linecolor": "white",
             "minorgridcolor": "white",
             "startlinecolor": "#2a3f5f"
            },
            "type": "carpet"
           }
          ],
          "choropleth": [
           {
            "colorbar": {
             "outlinewidth": 0,
             "ticks": ""
            },
            "type": "choropleth"
           }
          ],
          "contour": [
           {
            "colorbar": {
             "outlinewidth": 0,
             "ticks": ""
            },
            "colorscale": [
             [
              0,
              "#0d0887"
             ],
             [
              0.1111111111111111,
              "#46039f"
             ],
             [
              0.2222222222222222,
              "#7201a8"
             ],
             [
              0.3333333333333333,
              "#9c179e"
             ],
             [
              0.4444444444444444,
              "#bd3786"
             ],
             [
              0.5555555555555556,
              "#d8576b"
             ],
             [
              0.6666666666666666,
              "#ed7953"
             ],
             [
              0.7777777777777778,
              "#fb9f3a"
             ],
             [
              0.8888888888888888,
              "#fdca26"
             ],
             [
              1,
              "#f0f921"
             ]
            ],
            "type": "contour"
           }
          ],
          "contourcarpet": [
           {
            "colorbar": {
             "outlinewidth": 0,
             "ticks": ""
            },
            "type": "contourcarpet"
           }
          ],
          "heatmap": [
           {
            "colorbar": {
             "outlinewidth": 0,
             "ticks": ""
            },
            "colorscale": [
             [
              0,
              "#0d0887"
             ],
             [
              0.1111111111111111,
              "#46039f"
             ],
             [
              0.2222222222222222,
              "#7201a8"
             ],
             [
              0.3333333333333333,
              "#9c179e"
             ],
             [
              0.4444444444444444,
              "#bd3786"
             ],
             [
              0.5555555555555556,
              "#d8576b"
             ],
             [
              0.6666666666666666,
              "#ed7953"
             ],
             [
              0.7777777777777778,
              "#fb9f3a"
             ],
             [
              0.8888888888888888,
              "#fdca26"
             ],
             [
              1,
              "#f0f921"
             ]
            ],
            "type": "heatmap"
           }
          ],
          "histogram": [
           {
            "marker": {
             "pattern": {
              "fillmode": "overlay",
              "size": 10,
              "solidity": 0.2
             }
            },
            "type": "histogram"
           }
          ],
          "histogram2d": [
           {
            "colorbar": {
             "outlinewidth": 0,
             "ticks": ""
            },
            "colorscale": [
             [
              0,
              "#0d0887"
             ],
             [
              0.1111111111111111,
              "#46039f"
             ],
             [
              0.2222222222222222,
              "#7201a8"
             ],
             [
              0.3333333333333333,
              "#9c179e"
             ],
             [
              0.4444444444444444,
              "#bd3786"
             ],
             [
              0.5555555555555556,
              "#d8576b"
             ],
             [
              0.6666666666666666,
              "#ed7953"
             ],
             [
              0.7777777777777778,
              "#fb9f3a"
             ],
             [
              0.8888888888888888,
              "#fdca26"
             ],
             [
              1,
              "#f0f921"
             ]
            ],
            "type": "histogram2d"
           }
          ],
          "histogram2dcontour": [
           {
            "colorbar": {
             "outlinewidth": 0,
             "ticks": ""
            },
            "colorscale": [
             [
              0,
              "#0d0887"
             ],
             [
              0.1111111111111111,
              "#46039f"
             ],
             [
              0.2222222222222222,
              "#7201a8"
             ],
             [
              0.3333333333333333,
              "#9c179e"
             ],
             [
              0.4444444444444444,
              "#bd3786"
             ],
             [
              0.5555555555555556,
              "#d8576b"
             ],
             [
              0.6666666666666666,
              "#ed7953"
             ],
             [
              0.7777777777777778,
              "#fb9f3a"
             ],
             [
              0.8888888888888888,
              "#fdca26"
             ],
             [
              1,
              "#f0f921"
             ]
            ],
            "type": "histogram2dcontour"
           }
          ],
          "mesh3d": [
           {
            "colorbar": {
             "outlinewidth": 0,
             "ticks": ""
            },
            "type": "mesh3d"
           }
          ],
          "parcoords": [
           {
            "line": {
             "colorbar": {
              "outlinewidth": 0,
              "ticks": ""
             }
            },
            "type": "parcoords"
           }
          ],
          "pie": [
           {
            "automargin": true,
            "type": "pie"
           }
          ],
          "scatter": [
           {
            "fillpattern": {
             "fillmode": "overlay",
             "size": 10,
             "solidity": 0.2
            },
            "type": "scatter"
           }
          ],
          "scatter3d": [
           {
            "line": {
             "colorbar": {
              "outlinewidth": 0,
              "ticks": ""
             }
            },
            "marker": {
             "colorbar": {
              "outlinewidth": 0,
              "ticks": ""
             }
            },
            "type": "scatter3d"
           }
          ],
          "scattercarpet": [
           {
            "marker": {
             "colorbar": {
              "outlinewidth": 0,
              "ticks": ""
             }
            },
            "type": "scattercarpet"
           }
          ],
          "scattergeo": [
           {
            "marker": {
             "colorbar": {
              "outlinewidth": 0,
              "ticks": ""
             }
            },
            "type": "scattergeo"
           }
          ],
          "scattergl": [
           {
            "marker": {
             "colorbar": {
              "outlinewidth": 0,
              "ticks": ""
             }
            },
            "type": "scattergl"
           }
          ],
          "scattermap": [
           {
            "marker": {
             "colorbar": {
              "outlinewidth": 0,
              "ticks": ""
             }
            },
            "type": "scattermap"
           }
          ],
          "scattermapbox": [
           {
            "marker": {
             "colorbar": {
              "outlinewidth": 0,
              "ticks": ""
             }
            },
            "type": "scattermapbox"
           }
          ],
          "scatterpolar": [
           {
            "marker": {
             "colorbar": {
              "outlinewidth": 0,
              "ticks": ""
             }
            },
            "type": "scatterpolar"
           }
          ],
          "scatterpolargl": [
           {
            "marker": {
             "colorbar": {
              "outlinewidth": 0,
              "ticks": ""
             }
            },
            "type": "scatterpolargl"
           }
          ],
          "scatterternary": [
           {
            "marker": {
             "colorbar": {
              "outlinewidth": 0,
              "ticks": ""
             }
            },
            "type": "scatterternary"
           }
          ],
          "surface": [
           {
            "colorbar": {
             "outlinewidth": 0,
             "ticks": ""
            },
            "colorscale": [
             [
              0,
              "#0d0887"
             ],
             [
              0.1111111111111111,
              "#46039f"
             ],
             [
              0.2222222222222222,
              "#7201a8"
             ],
             [
              0.3333333333333333,
              "#9c179e"
             ],
             [
              0.4444444444444444,
              "#bd3786"
             ],
             [
              0.5555555555555556,
              "#d8576b"
             ],
             [
              0.6666666666666666,
              "#ed7953"
             ],
             [
              0.7777777777777778,
              "#fb9f3a"
             ],
             [
              0.8888888888888888,
              "#fdca26"
             ],
             [
              1,
              "#f0f921"
             ]
            ],
            "type": "surface"
           }
          ],
          "table": [
           {
            "cells": {
             "fill": {
              "color": "#EBF0F8"
             },
             "line": {
              "color": "white"
             }
            },
            "header": {
             "fill": {
              "color": "#C8D4E3"
             },
             "line": {
              "color": "white"
             }
            },
            "type": "table"
           }
          ]
         },
         "layout": {
          "annotationdefaults": {
           "arrowcolor": "#2a3f5f",
           "arrowhead": 0,
           "arrowwidth": 1
          },
          "autotypenumbers": "strict",
          "coloraxis": {
           "colorbar": {
            "outlinewidth": 0,
            "ticks": ""
           }
          },
          "colorscale": {
           "diverging": [
            [
             0,
             "#8e0152"
            ],
            [
             0.1,
             "#c51b7d"
            ],
            [
             0.2,
             "#de77ae"
            ],
            [
             0.3,
             "#f1b6da"
            ],
            [
             0.4,
             "#fde0ef"
            ],
            [
             0.5,
             "#f7f7f7"
            ],
            [
             0.6,
             "#e6f5d0"
            ],
            [
             0.7,
             "#b8e186"
            ],
            [
             0.8,
             "#7fbc41"
            ],
            [
             0.9,
             "#4d9221"
            ],
            [
             1,
             "#276419"
            ]
           ],
           "sequential": [
            [
             0,
             "#0d0887"
            ],
            [
             0.1111111111111111,
             "#46039f"
            ],
            [
             0.2222222222222222,
             "#7201a8"
            ],
            [
             0.3333333333333333,
             "#9c179e"
            ],
            [
             0.4444444444444444,
             "#bd3786"
            ],
            [
             0.5555555555555556,
             "#d8576b"
            ],
            [
             0.6666666666666666,
             "#ed7953"
            ],
            [
             0.7777777777777778,
             "#fb9f3a"
            ],
            [
             0.8888888888888888,
             "#fdca26"
            ],
            [
             1,
             "#f0f921"
            ]
           ],
           "sequentialminus": [
            [
             0,
             "#0d0887"
            ],
            [
             0.1111111111111111,
             "#46039f"
            ],
            [
             0.2222222222222222,
             "#7201a8"
            ],
            [
             0.3333333333333333,
             "#9c179e"
            ],
            [
             0.4444444444444444,
             "#bd3786"
            ],
            [
             0.5555555555555556,
             "#d8576b"
            ],
            [
             0.6666666666666666,
             "#ed7953"
            ],
            [
             0.7777777777777778,
             "#fb9f3a"
            ],
            [
             0.8888888888888888,
             "#fdca26"
            ],
            [
             1,
             "#f0f921"
            ]
           ]
          },
          "colorway": [
           "#636efa",
           "#EF553B",
           "#00cc96",
           "#ab63fa",
           "#FFA15A",
           "#19d3f3",
           "#FF6692",
           "#B6E880",
           "#FF97FF",
           "#FECB52"
          ],
          "font": {
           "color": "#2a3f5f"
          },
          "geo": {
           "bgcolor": "white",
           "lakecolor": "white",
           "landcolor": "#E5ECF6",
           "showlakes": true,
           "showland": true,
           "subunitcolor": "white"
          },
          "hoverlabel": {
           "align": "left"
          },
          "hovermode": "closest",
          "mapbox": {
           "style": "light"
          },
          "paper_bgcolor": "white",
          "plot_bgcolor": "#E5ECF6",
          "polar": {
           "angularaxis": {
            "gridcolor": "white",
            "linecolor": "white",
            "ticks": ""
           },
           "bgcolor": "#E5ECF6",
           "radialaxis": {
            "gridcolor": "white",
            "linecolor": "white",
            "ticks": ""
           }
          },
          "scene": {
           "xaxis": {
            "backgroundcolor": "#E5ECF6",
            "gridcolor": "white",
            "gridwidth": 2,
            "linecolor": "white",
            "showbackground": true,
            "ticks": "",
            "zerolinecolor": "white"
           },
           "yaxis": {
            "backgroundcolor": "#E5ECF6",
            "gridcolor": "white",
            "gridwidth": 2,
            "linecolor": "white",
            "showbackground": true,
            "ticks": "",
            "zerolinecolor": "white"
           },
           "zaxis": {
            "backgroundcolor": "#E5ECF6",
            "gridcolor": "white",
            "gridwidth": 2,
            "linecolor": "white",
            "showbackground": true,
            "ticks": "",
            "zerolinecolor": "white"
           }
          },
          "shapedefaults": {
           "line": {
            "color": "#2a3f5f"
           }
          },
          "ternary": {
           "aaxis": {
            "gridcolor": "white",
            "linecolor": "white",
            "ticks": ""
           },
           "baxis": {
            "gridcolor": "white",
            "linecolor": "white",
            "ticks": ""
           },
           "bgcolor": "#E5ECF6",
           "caxis": {
            "gridcolor": "white",
            "linecolor": "white",
            "ticks": ""
           }
          },
          "title": {
           "x": 0.05
          },
          "xaxis": {
           "automargin": true,
           "gridcolor": "white",
           "linecolor": "white",
           "ticks": "",
           "title": {
            "standoff": 15
           },
           "zerolinecolor": "white",
           "zerolinewidth": 2
          },
          "yaxis": {
           "automargin": true,
           "gridcolor": "white",
           "linecolor": "white",
           "ticks": "",
           "title": {
            "standoff": 15
           },
           "zerolinecolor": "white",
           "zerolinewidth": 2
          }
         }
        },
        "title": {
         "text": "Geburtsgewicht vs. Körpergröße der Mutter mit Trendlinie"
        },
        "xaxis": {
         "anchor": "y",
         "domain": [
          0,
          1
         ],
         "title": {
          "text": "Körpergröße der Mutter (cm)"
         }
        },
        "yaxis": {
         "anchor": "x",
         "domain": [
          0,
          1
         ],
         "title": {
          "text": "Geburtsgewicht (g)"
         }
        }
       }
      }
     },
     "metadata": {},
     "output_type": "display_data"
    },
    {
     "data": {
      "application/vnd.plotly.v1+json": {
       "config": {
        "plotlyServerURL": "https://plot.ly"
       },
       "data": [
        {
         "hovertemplate": "Körpergröße der Mutter (cm)=%{x}<br>Geburtsgewicht (g)=%{y}<extra></extra>",
         "legendgroup": "",
         "marker": {
          "color": "darkgreen",
          "symbol": "circle"
         },
         "mode": "markers",
         "name": "",
         "showlegend": false,
         "type": "scattergl",
         "x": {
          "bdata": "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",
          "dtype": "i2"
         },
         "xaxis": "x",
         "y": {
          "bdata": "Sg2DDC0O9gsQD0gPng5KDdYPgQ/yD50PLgygDLwMMAq8DPIPLg2hC7wMLA+DDYIOaAsrEKAM2A2gDIMNTQplDi4NgwzXDtkL1w6DDUkOLgxLDKIJ1g8qES4Mgw0PELwM9gtMC9YPKxC7DbsNDxC9C04I2Qu7DYMNLwstDoQLvgosD2gLug9lDkcRug5KDRQKEA7xEGYNSg33CoAQSQ5lD6AMSA9ID4IO2A0tDtcOoAxqCfMOognYDaELSg0uDdkLLg26DioR9A1JDiwP2A0UCoUKEQ2dD4IOZg0TC4IOEQ3VEGYN9Qy8DGcMaQoSDJ4O9QwvC2cMLQ4tDvUM1w4QDk0Kgw0TC0cQSg3yD6ELEA9MC7gRgwz0DfQNvAwuDZ8NEQ26DtcO8g9LDNgN8w7XDtkMSQ6DDIIOZg1mDUgPEA9KDYMN1w4vC2cMng4QD4MMogq7DYMMLA+6DtkLogq6DxAPTgiEC2UO9wkRDZ8NLA8vC7oP2gq7DRIMnBAuDYIOLwuDDBAOvgr1DJwQagktDqELvAzZC2YNLg31DNcO9Qy8DC4MZQ6BD00KDhHYDU0Kgw1JDvQNagkoE/IPoAwOEZwQSwz0DYMNnQ+6D/cKgwyAEPUMLQ7YDaAMZQ7ZDPgIuw3YDS4M2A1ID7oPvAxMC4EPug4QDoQLLg3VEJ8N1g+CDp0PSQ6DDC4NEgyEC4IOLgxkECwP9Qy8DNoKEA9mDZ4OFAouDWoJvQueDtwIEgxLDNYPEA8uDNoK9gsvC90Huw29Cy8LEwuEC/UM9QyAEPMOLgxmDboPhAtID2cM9QwSDIIOSg3ZDIEPaAtKDWUPnw2EC0sMgw3ZDEkOug4uDKELTQqDDboOZQ6EC70LSg0RDYEPoAzZDEkOSg0QDt0HvwmDDb0L8w7ZC0kO9A3ZDLsNnw0PEEwLSQ7aCi4M8w4vC6IKhAsTCw4REA70DfQNEA7aChAOSQ6CDp4OEA73CrwMDxBMCxAPZg1KDRENEA6eDkwL1g8RDUwLDRKeDtkMSA9lD54OogmCDmUOnw28DNkMLg3YDfIPnw1KDYEPSg1KDSsQZwyeDisQgw0tDi4N8w5JDtkMEwtID58NgwxJDoMNng5KDaAMZQ71DLoP8g8QDrwMagn3Cp8NZwyIB0wLEgxMC/cKowgtDtkLEA8vCxMLEgz1DL8JhQoQDtkL9A3aCqIKhAu6Dk0KLwsRDWUO2A2BD7wMZQ6gDKELLwueDmcMpAegDJ8NSQ6gDLwM2gotDi4NDhEQDoIOSQ6gDC4MaAv1DEgP9A27DUsMng5oC38RLwueDqAM3QfZDPYLnw1JDtcOgwyfDUcQZg3YDbwMLwtNChIMvAxlDp8NSwy+CoMNuw1JDrsN2Qu6D0kORROhC2gLuw2hC7oO1BGhC/YL8RC6DrwMEA4tDvUMnw0uDZ0PFArZDNkMZg1LDEwLEQ30DdoKgg68DGgLRxCfDdgN9Qz3CrwM2QwRDdMShAv2C/IP9wq+CmoJZQ71DBIMRxChC/MOvAyfDaELDhEuDC4NaAv1DEoNDxCEC58Nuw1JDhQKEgz2C8AIug6gDC0OSQ6+CmgLfhPWDxAO2QuDDL0L1RCcEBAPuw2fDS4Ngw1nDE0KEA+cEGkKKxBJDtgNuw2dD6IKSA8QDqAMaAsQDoMM9wq+CtkM9A0uDZ8NSQ71DBMLgg4rEE0JvAy8DBENFApnDLwMLgz1DBIM9wqCDhAPZQ7XDi0OnBCGCbwMowgTC9kMLgwSDIMMEA9mDfUMYhKiCUoNhQqeDvcJgg5oC/IPLA+7DRAP9QxmDdkMZQ8uDIYJug74CLoOng6eDiwPTQkQDzAKoAxJDn4Suw2hCyoR2A3YDdgNvAxFExAOgwy8DGUPEA5nDNYP2QwqEWYNLgyiCZ4OSQ6fDRQKRxDyDy0OLA+EC0oNZwxID6IK1w70DWcMSA8uDDEJZwxkEC4NhgkuDPQN2A0QDxAOTQmCDp8NogouDJ8N1RAQDvUM2A1lD6AMogq7DdkLgwzaCi4N2Qv1DPUM8g8QD2YNRhJKDdgNLA8TC9cOvwn2C58NnQ9lDmUPZQ6DDIcI3gZNChIMDxAwCkoN8w6DDPQN1g8tDtoKLgzxEdkMLQ5LDCwPEwu4EWcM1w4PENkM9A1LDPQNEgwQDy4NaAu7DSoRgw2DDIMN9A3ZDEwLLgy6DtgNKRK6DrsNgw1mDRML9wktDoYJnw2iCS0OSg3YDREN2QyCDrkQvwksDxAOogpJDi0OaglLDLsNZwy8DPkHgw3ZDBAO9wn3CvIPSA9sBhIMLgxJDpwQLQ66D7wM9gtlD7wMEA8NEoIOhwi7DYQLTAtpCn8RZwwuDb4K9wq8DGUP8g/3CqEL2wlJDi4NoAy9C4MNEA9mDWcMZwyfDWUP2A2hC2UOKxC6DkcQEgyDDfMO9QxID0oNLg0RDaELgwxkEIEP1w5KDZ8NTAsXBmgLnw2hC0gPLQ5lD4QLnBERDfcK8g9mDfUMLg2hC9gNLg0vC6ELLgwTC9oKEA71DIMNgw0RDSwPSg3WD/YLgg4uDKEL2A2jCKAMSwxoC6AMTgi3EmkKnBDyD/IP1g8PEGYNoQvXDkkOoAy+CrgRMwcPEIUKZQ+fDRIMLgyDDbwM9gtKDYIOEA/YDaIKTAtMC2cM8w4UCkkOKhESDNwI2A1pCmQQFgifDTMHEQ1MC0oN9guDDWgLoQv0DQ8QZQ+7DWYN9A0uDaAMEQ0QDvUMLA+6DhML2Qu8DBQKZwzYDWMR9gtlDvMOnw0TC7sNRRNJDi4N9A0tDtkMEwuiCoIOLgz2C0kOnQ8uDBENSwy4EUoNZg2DDPUMfxEtDn8Rug4NEi0O9A0QDtcOgQ9MCxMLSg3aCmUOhAuDDSwPoAz6BtoK9wrbCfUM1g+9C/cKRxH5B04Ivgq9CxQK9Qz1DGcMZwydD4IOZQ6eDqAMuBG9C00JZwxlD4QLZQ7dBxUJLg2fDbwMuw1ID78JLQ4VCRMLoAy+CvQNgw3VENkMng5NCS4NvQtlD2gLZwyiCkwLSg1MC74KgwxlDr4K2QygDBAOogmdD/IP2QxOCEgP9woRDb4KKxD4CC4M8w6gDLsNvAzWD4MMEgxoCxENEA6eDoMMLQ5lDtgN9Qw=",
          "dtype": "i2"
         },
         "yaxis": "y"
        },
        {
         "hovertemplate": "<b>OLS trendline</b><br>Geburtsgewicht [g] = 13.226 * Schwangerschaftsdauer [d] + -304.688<br>R<sup>2</sup>=0.166082<br><br>Körpergröße der Mutter (cm)=%{x}<br>Geburtsgewicht (g)=%{y} <b>(trend)</b><extra></extra>",
         "legendgroup": "",
         "marker": {
          "color": "darkgreen",
          "symbol": "circle"
         },
         "mode": "lines",
         "name": "",
         "showlegend": false,
         "type": "scattergl",
         "x": {
          "bdata": "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",
          "dtype": "i2"
         },
         "xaxis": "x",
         "y": {
          "bdata": "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",
          "dtype": "f8"
         },
         "yaxis": "y"
        }
       ],
       "layout": {
        "legend": {
         "tracegroupgap": 0
        },
        "template": {
         "data": {
          "bar": [
           {
            "error_x": {
             "color": "#2a3f5f"
            },
            "error_y": {
             "color": "#2a3f5f"
            },
            "marker": {
             "line": {
              "color": "#E5ECF6",
              "width": 0.5
             },
             "pattern": {
              "fillmode": "overlay",
              "size": 10,
              "solidity": 0.2
             }
            },
            "type": "bar"
           }
          ],
          "barpolar": [
           {
            "marker": {
             "line": {
              "color": "#E5ECF6",
              "width": 0.5
             },
             "pattern": {
              "fillmode": "overlay",
              "size": 10,
              "solidity": 0.2
             }
            },
            "type": "barpolar"
           }
          ],
          "carpet": [
           {
            "aaxis": {
             "endlinecolor": "#2a3f5f",
             "gridcolor": "white",
             "linecolor": "white",
             "minorgridcolor": "white",
             "startlinecolor": "#2a3f5f"
            },
            "baxis": {
             "endlinecolor": "#2a3f5f",
             "gridcolor": "white",
             "linecolor": "white",
             "minorgridcolor": "white",
             "startlinecolor": "#2a3f5f"
            },
            "type": "carpet"
           }
          ],
          "choropleth": [
           {
            "colorbar": {
             "outlinewidth": 0,
             "ticks": ""
            },
            "type": "choropleth"
           }
          ],
          "contour": [
           {
            "colorbar": {
             "outlinewidth": 0,
             "ticks": ""
            },
            "colorscale": [
             [
              0,
              "#0d0887"
             ],
             [
              0.1111111111111111,
              "#46039f"
             ],
             [
              0.2222222222222222,
              "#7201a8"
             ],
             [
              0.3333333333333333,
              "#9c179e"
             ],
             [
              0.4444444444444444,
              "#bd3786"
             ],
             [
              0.5555555555555556,
              "#d8576b"
             ],
             [
              0.6666666666666666,
              "#ed7953"
             ],
             [
              0.7777777777777778,
              "#fb9f3a"
             ],
             [
              0.8888888888888888,
              "#fdca26"
             ],
             [
              1,
              "#f0f921"
             ]
            ],
            "type": "contour"
           }
          ],
          "contourcarpet": [
           {
            "colorbar": {
             "outlinewidth": 0,
             "ticks": ""
            },
            "type": "contourcarpet"
           }
          ],
          "heatmap": [
           {
            "colorbar": {
             "outlinewidth": 0,
             "ticks": ""
            },
            "colorscale": [
             [
              0,
              "#0d0887"
             ],
             [
              0.1111111111111111,
              "#46039f"
             ],
             [
              0.2222222222222222,
              "#7201a8"
             ],
             [
              0.3333333333333333,
              "#9c179e"
             ],
             [
              0.4444444444444444,
              "#bd3786"
             ],
             [
              0.5555555555555556,
              "#d8576b"
             ],
             [
              0.6666666666666666,
              "#ed7953"
             ],
             [
              0.7777777777777778,
              "#fb9f3a"
             ],
             [
              0.8888888888888888,
              "#fdca26"
             ],
             [
              1,
              "#f0f921"
             ]
            ],
            "type": "heatmap"
           }
          ],
          "histogram": [
           {
            "marker": {
             "pattern": {
              "fillmode": "overlay",
              "size": 10,
              "solidity": 0.2
             }
            },
            "type": "histogram"
           }
          ],
          "histogram2d": [
           {
            "colorbar": {
             "outlinewidth": 0,
             "ticks": ""
            },
            "colorscale": [
             [
              0,
              "#0d0887"
             ],
             [
              0.1111111111111111,
              "#46039f"
             ],
             [
              0.2222222222222222,
              "#7201a8"
             ],
             [
              0.3333333333333333,
              "#9c179e"
             ],
             [
              0.4444444444444444,
              "#bd3786"
             ],
             [
              0.5555555555555556,
              "#d8576b"
             ],
             [
              0.6666666666666666,
              "#ed7953"
             ],
             [
              0.7777777777777778,
              "#fb9f3a"
             ],
             [
              0.8888888888888888,
              "#fdca26"
             ],
             [
              1,
              "#f0f921"
             ]
            ],
            "type": "histogram2d"
           }
          ],
          "histogram2dcontour": [
           {
            "colorbar": {
             "outlinewidth": 0,
             "ticks": ""
            },
            "colorscale": [
             [
              0,
              "#0d0887"
             ],
             [
              0.1111111111111111,
              "#46039f"
             ],
             [
              0.2222222222222222,
              "#7201a8"
             ],
             [
              0.3333333333333333,
              "#9c179e"
             ],
             [
              0.4444444444444444,
              "#bd3786"
             ],
             [
              0.5555555555555556,
              "#d8576b"
             ],
             [
              0.6666666666666666,
              "#ed7953"
             ],
             [
              0.7777777777777778,
              "#fb9f3a"
             ],
             [
              0.8888888888888888,
              "#fdca26"
             ],
             [
              1,
              "#f0f921"
             ]
            ],
            "type": "histogram2dcontour"
           }
          ],
          "mesh3d": [
           {
            "colorbar": {
             "outlinewidth": 0,
             "ticks": ""
            },
            "type": "mesh3d"
           }
          ],
          "parcoords": [
           {
            "line": {
             "colorbar": {
              "outlinewidth": 0,
              "ticks": ""
             }
            },
            "type": "parcoords"
           }
          ],
          "pie": [
           {
            "automargin": true,
            "type": "pie"
           }
          ],
          "scatter": [
           {
            "fillpattern": {
             "fillmode": "overlay",
             "size": 10,
             "solidity": 0.2
            },
            "type": "scatter"
           }
          ],
          "scatter3d": [
           {
            "line": {
             "colorbar": {
              "outlinewidth": 0,
              "ticks": ""
             }
            },
            "marker": {
             "colorbar": {
              "outlinewidth": 0,
              "ticks": ""
             }
            },
            "type": "scatter3d"
           }
          ],
          "scattercarpet": [
           {
            "marker": {
             "colorbar": {
              "outlinewidth": 0,
              "ticks": ""
             }
            },
            "type": "scattercarpet"
           }
          ],
          "scattergeo": [
           {
            "marker": {
             "colorbar": {
              "outlinewidth": 0,
              "ticks": ""
             }
            },
            "type": "scattergeo"
           }
          ],
          "scattergl": [
           {
            "marker": {
             "colorbar": {
              "outlinewidth": 0,
              "ticks": ""
             }
            },
            "type": "scattergl"
           }
          ],
          "scattermap": [
           {
            "marker": {
             "colorbar": {
              "outlinewidth": 0,
              "ticks": ""
             }
            },
            "type": "scattermap"
           }
          ],
          "scattermapbox": [
           {
            "marker": {
             "colorbar": {
              "outlinewidth": 0,
              "ticks": ""
             }
            },
            "type": "scattermapbox"
           }
          ],
          "scatterpolar": [
           {
            "marker": {
             "colorbar": {
              "outlinewidth": 0,
              "ticks": ""
             }
            },
            "type": "scatterpolar"
           }
          ],
          "scatterpolargl": [
           {
            "marker": {
             "colorbar": {
              "outlinewidth": 0,
              "ticks": ""
             }
            },
            "type": "scatterpolargl"
           }
          ],
          "scatterternary": [
           {
            "marker": {
             "colorbar": {
              "outlinewidth": 0,
              "ticks": ""
             }
            },
            "type": "scatterternary"
           }
          ],
          "surface": [
           {
            "colorbar": {
             "outlinewidth": 0,
             "ticks": ""
            },
            "colorscale": [
             [
              0,
              "#0d0887"
             ],
             [
              0.1111111111111111,
              "#46039f"
             ],
             [
              0.2222222222222222,
              "#7201a8"
             ],
             [
              0.3333333333333333,
              "#9c179e"
             ],
             [
              0.4444444444444444,
              "#bd3786"
             ],
             [
              0.5555555555555556,
              "#d8576b"
             ],
             [
              0.6666666666666666,
              "#ed7953"
             ],
             [
              0.7777777777777778,
              "#fb9f3a"
             ],
             [
              0.8888888888888888,
              "#fdca26"
             ],
             [
              1,
              "#f0f921"
             ]
            ],
            "type": "surface"
           }
          ],
          "table": [
           {
            "cells": {
             "fill": {
              "color": "#EBF0F8"
             },
             "line": {
              "color": "white"
             }
            },
            "header": {
             "fill": {
              "color": "#C8D4E3"
             },
             "line": {
              "color": "white"
             }
            },
            "type": "table"
           }
          ]
         },
         "layout": {
          "annotationdefaults": {
           "arrowcolor": "#2a3f5f",
           "arrowhead": 0,
           "arrowwidth": 1
          },
          "autotypenumbers": "strict",
          "coloraxis": {
           "colorbar": {
            "outlinewidth": 0,
            "ticks": ""
           }
          },
          "colorscale": {
           "diverging": [
            [
             0,
             "#8e0152"
            ],
            [
             0.1,
             "#c51b7d"
            ],
            [
             0.2,
             "#de77ae"
            ],
            [
             0.3,
             "#f1b6da"
            ],
            [
             0.4,
             "#fde0ef"
            ],
            [
             0.5,
             "#f7f7f7"
            ],
            [
             0.6,
             "#e6f5d0"
            ],
            [
             0.7,
             "#b8e186"
            ],
            [
             0.8,
             "#7fbc41"
            ],
            [
             0.9,
             "#4d9221"
            ],
            [
             1,
             "#276419"
            ]
           ],
           "sequential": [
            [
             0,
             "#0d0887"
            ],
            [
             0.1111111111111111,
             "#46039f"
            ],
            [
             0.2222222222222222,
             "#7201a8"
            ],
            [
             0.3333333333333333,
             "#9c179e"
            ],
            [
             0.4444444444444444,
             "#bd3786"
            ],
            [
             0.5555555555555556,
             "#d8576b"
            ],
            [
             0.6666666666666666,
             "#ed7953"
            ],
            [
             0.7777777777777778,
             "#fb9f3a"
            ],
            [
             0.8888888888888888,
             "#fdca26"
            ],
            [
             1,
             "#f0f921"
            ]
           ],
           "sequentialminus": [
            [
             0,
             "#0d0887"
            ],
            [
             0.1111111111111111,
             "#46039f"
            ],
            [
             0.2222222222222222,
             "#7201a8"
            ],
            [
             0.3333333333333333,
             "#9c179e"
            ],
            [
             0.4444444444444444,
             "#bd3786"
            ],
            [
             0.5555555555555556,
             "#d8576b"
            ],
            [
             0.6666666666666666,
             "#ed7953"
            ],
            [
             0.7777777777777778,
             "#fb9f3a"
            ],
            [
             0.8888888888888888,
             "#fdca26"
            ],
            [
             1,
             "#f0f921"
            ]
           ]
          },
          "colorway": [
           "#636efa",
           "#EF553B",
           "#00cc96",
           "#ab63fa",
           "#FFA15A",
           "#19d3f3",
           "#FF6692",
           "#B6E880",
           "#FF97FF",
           "#FECB52"
          ],
          "font": {
           "color": "#2a3f5f"
          },
          "geo": {
           "bgcolor": "white",
           "lakecolor": "white",
           "landcolor": "#E5ECF6",
           "showlakes": true,
           "showland": true,
           "subunitcolor": "white"
          },
          "hoverlabel": {
           "align": "left"
          },
          "hovermode": "closest",
          "mapbox": {
           "style": "light"
          },
          "paper_bgcolor": "white",
          "plot_bgcolor": "#E5ECF6",
          "polar": {
           "angularaxis": {
            "gridcolor": "white",
            "linecolor": "white",
            "ticks": ""
           },
           "bgcolor": "#E5ECF6",
           "radialaxis": {
            "gridcolor": "white",
            "linecolor": "white",
            "ticks": ""
           }
          },
          "scene": {
           "xaxis": {
            "backgroundcolor": "#E5ECF6",
            "gridcolor": "white",
            "gridwidth": 2,
            "linecolor": "white",
            "showbackground": true,
            "ticks": "",
            "zerolinecolor": "white"
           },
           "yaxis": {
            "backgroundcolor": "#E5ECF6",
            "gridcolor": "white",
            "gridwidth": 2,
            "linecolor": "white",
            "showbackground": true,
            "ticks": "",
            "zerolinecolor": "white"
           },
           "zaxis": {
            "backgroundcolor": "#E5ECF6",
            "gridcolor": "white",
            "gridwidth": 2,
            "linecolor": "white",
            "showbackground": true,
            "ticks": "",
            "zerolinecolor": "white"
           }
          },
          "shapedefaults": {
           "line": {
            "color": "#2a3f5f"
           }
          },
          "ternary": {
           "aaxis": {
            "gridcolor": "white",
            "linecolor": "white",
            "ticks": ""
           },
           "baxis": {
            "gridcolor": "white",
            "linecolor": "white",
            "ticks": ""
           },
           "bgcolor": "#E5ECF6",
           "caxis": {
            "gridcolor": "white",
            "linecolor": "white",
            "ticks": ""
           }
          },
          "title": {
           "x": 0.05
          },
          "xaxis": {
           "automargin": true,
           "gridcolor": "white",
           "linecolor": "white",
           "ticks": "",
           "title": {
            "standoff": 15
           },
           "zerolinecolor": "white",
           "zerolinewidth": 2
          },
          "yaxis": {
           "automargin": true,
           "gridcolor": "white",
           "linecolor": "white",
           "ticks": "",
           "title": {
            "standoff": 15
           },
           "zerolinecolor": "white",
           "zerolinewidth": 2
          }
         }
        },
        "title": {
         "text": "Geburtsgewicht vs. Schwangerschaftsdauer [d] mit Trendlinie"
        },
        "xaxis": {
         "anchor": "y",
         "domain": [
          0,
          1
         ],
         "title": {
          "text": "Körpergröße der Mutter (cm)"
         }
        },
        "yaxis": {
         "anchor": "x",
         "domain": [
          0,
          1
         ],
         "title": {
          "text": "Geburtsgewicht (g)"
         }
        }
       }
      }
     },
     "metadata": {},
     "output_type": "display_data"
    }
   ],
   "source": [
    "fig = px.scatter(\n",
    "    df_clean,\n",
    "    x=\"Körpergröße [cm]\",\n",
    "    y=\"Geburtsgewicht [g]\",\n",
    "    trendline=\"ols\",  # ← Regressionslinie\n",
    "    title=\"Geburtsgewicht vs. Körpergröße der Mutter mit Trendlinie\",\n",
    "    labels={\n",
    "        \"Körpergröße [cm]\": \"Körpergröße der Mutter (cm)\",\n",
    "        \"Geburtsgewicht [g]\": \"Geburtsgewicht (g)\"\n",
    "    },\n",
    "    color_discrete_sequence=[\"darkgreen\"]\n",
    ")\n",
    "\n",
    "fig.show()\n",
    "\n",
    "fig = px.scatter(\n",
    "    df_clean,\n",
    "    x=\"Schwangerschaftsdauer [d]\",\n",
    "    y=\"Geburtsgewicht [g]\",\n",
    "    trendline=\"ols\",  # ← Regressionslinie\n",
    "    title=\"Geburtsgewicht vs. Schwangerschaftsdauer [d] mit Trendlinie\",\n",
    "    labels={\n",
    "        \"Schwangerschaftsdauer [d]\": \"Körpergröße der Mutter (cm)\",\n",
    "        \"Geburtsgewicht [g]\": \"Geburtsgewicht (g)\"\n",
    "    },\n",
    "    color_discrete_sequence=[\"darkgreen\"]\n",
    ")\n",
    "\n",
    "fig.show()"
   ]
  }
 ],
 "metadata": {
  "kernelspec": {
   "display_name": "Python 3",
   "language": "python",
   "name": "python3"
  },
  "language_info": {
   "codemirror_mode": {
    "name": "ipython",
    "version": 3
   },
   "file_extension": ".py",
   "mimetype": "text/x-python",
   "name": "python",
   "nbconvert_exporter": "python",
   "pygments_lexer": "ipython3",
   "version": "3.13.3"
  }
 },
 "nbformat": 4,
 "nbformat_minor": 5
}
