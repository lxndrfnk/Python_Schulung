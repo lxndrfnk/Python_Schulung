{
 "cells": [
  {
   "cell_type": "code",
   "execution_count": 2,
   "id": "fb4bed05",
   "metadata": {},
   "outputs": [
    {
     "name": "stderr",
     "output_type": "stream",
     "text": [
      "/var/folders/73/ybmxxnp53sv8y7c8r9bf8hfc0000gn/T/ipykernel_74212/638410812.py:48: FutureWarning: Downcasting behavior in `replace` is deprecated and will be removed in a future version. To retain the old behavior, explicitly call `result.infer_objects(copy=False)`. To opt-in to the future behavior, set `pd.set_option('future.no_silent_downcasting', True)`\n",
      "  df_clean[\"Risikoschwangerschaft\"] = df_clean[\"Risikoschwangerschaft\"].replace({\n",
      "/var/folders/73/ybmxxnp53sv8y7c8r9bf8hfc0000gn/T/ipykernel_74212/638410812.py:53: FutureWarning: Downcasting behavior in `replace` is deprecated and will be removed in a future version. To retain the old behavior, explicitly call `result.infer_objects(copy=False)`. To opt-in to the future behavior, set `pd.set_option('future.no_silent_downcasting', True)`\n",
      "  df_clean[\"Frühgeburt\"] = df_clean[\"Frühgeburt\"].replace({\n",
      "/var/folders/73/ybmxxnp53sv8y7c8r9bf8hfc0000gn/T/ipykernel_74212/638410812.py:58: FutureWarning: Downcasting behavior in `replace` is deprecated and will be removed in a future version. To retain the old behavior, explicitly call `result.infer_objects(copy=False)`. To opt-in to the future behavior, set `pd.set_option('future.no_silent_downcasting', True)`\n",
      "  df_clean[\"Untergewicht\"] = df_clean[\"Untergewicht\"].replace({\n",
      "/var/folders/73/ybmxxnp53sv8y7c8r9bf8hfc0000gn/T/ipykernel_74212/638410812.py:68: FutureWarning: Downcasting behavior in `replace` is deprecated and will be removed in a future version. To retain the old behavior, explicitly call `result.infer_objects(copy=False)`. To opt-in to the future behavior, set `pd.set_option('future.no_silent_downcasting', True)`\n",
      "  df_clean[\"Mutter raucht\"] = df_clean[\"Mutter raucht\"].replace({\n"
     ]
    },
    {
     "data": {
      "text/html": [
       "<div>\n",
       "<style scoped>\n",
       "    .dataframe tbody tr th:only-of-type {\n",
       "        vertical-align: middle;\n",
       "    }\n",
       "\n",
       "    .dataframe tbody tr th {\n",
       "        vertical-align: top;\n",
       "    }\n",
       "\n",
       "    .dataframe thead th {\n",
       "        text-align: right;\n",
       "    }\n",
       "</style>\n",
       "<table border=\"1\" class=\"dataframe\">\n",
       "  <thead>\n",
       "    <tr style=\"text-align: right;\">\n",
       "      <th></th>\n",
       "      <th>Alter des Vaters</th>\n",
       "      <th>Alter der Mutter</th>\n",
       "      <th>Risikoschwangerschaft</th>\n",
       "      <th>Schwangerschaftsdauer [Wochen]</th>\n",
       "      <th>Frühgeburt</th>\n",
       "      <th>Krankenhausbesuche</th>\n",
       "      <th>Gewichtszunahme Mutter</th>\n",
       "      <th>Geburtsgewicht Kind</th>\n",
       "      <th>Untergewicht</th>\n",
       "      <th>Geschlecht Kind</th>\n",
       "      <th>Mutter raucht</th>\n",
       "      <th>Beziehungsstatus</th>\n",
       "      <th>Hautfarbe</th>\n",
       "    </tr>\n",
       "  </thead>\n",
       "  <tbody>\n",
       "    <tr>\n",
       "      <th>0</th>\n",
       "      <td>34</td>\n",
       "      <td>34</td>\n",
       "      <td>0</td>\n",
       "      <td>37</td>\n",
       "      <td>0</td>\n",
       "      <td>14</td>\n",
       "      <td>13</td>\n",
       "      <td>3.157</td>\n",
       "      <td>0</td>\n",
       "      <td>männlich</td>\n",
       "      <td>0</td>\n",
       "      <td>verheiratet</td>\n",
       "      <td>weiß</td>\n",
       "    </tr>\n",
       "    <tr>\n",
       "      <th>1</th>\n",
       "      <td>36</td>\n",
       "      <td>31</td>\n",
       "      <td>0</td>\n",
       "      <td>41</td>\n",
       "      <td>0</td>\n",
       "      <td>12</td>\n",
       "      <td>19</td>\n",
       "      <td>4.019</td>\n",
       "      <td>0</td>\n",
       "      <td>weiblich</td>\n",
       "      <td>0</td>\n",
       "      <td>verheiratet</td>\n",
       "      <td>weiß</td>\n",
       "    </tr>\n",
       "    <tr>\n",
       "      <th>2</th>\n",
       "      <td>37</td>\n",
       "      <td>36</td>\n",
       "      <td>1</td>\n",
       "      <td>37</td>\n",
       "      <td>0</td>\n",
       "      <td>10</td>\n",
       "      <td>13</td>\n",
       "      <td>3.406</td>\n",
       "      <td>0</td>\n",
       "      <td>weiblich</td>\n",
       "      <td>0</td>\n",
       "      <td>verheiratet</td>\n",
       "      <td>nicht weiß</td>\n",
       "    </tr>\n",
       "    <tr>\n",
       "      <th>4</th>\n",
       "      <td>32</td>\n",
       "      <td>31</td>\n",
       "      <td>0</td>\n",
       "      <td>36</td>\n",
       "      <td>1</td>\n",
       "      <td>12</td>\n",
       "      <td>22</td>\n",
       "      <td>3.062</td>\n",
       "      <td>0</td>\n",
       "      <td>weiblich</td>\n",
       "      <td>0</td>\n",
       "      <td>verheiratet</td>\n",
       "      <td>weiß</td>\n",
       "    </tr>\n",
       "    <tr>\n",
       "      <th>5</th>\n",
       "      <td>32</td>\n",
       "      <td>26</td>\n",
       "      <td>0</td>\n",
       "      <td>39</td>\n",
       "      <td>0</td>\n",
       "      <td>14</td>\n",
       "      <td>20</td>\n",
       "      <td>3.035</td>\n",
       "      <td>0</td>\n",
       "      <td>weiblich</td>\n",
       "      <td>0</td>\n",
       "      <td>verheiratet</td>\n",
       "      <td>weiß</td>\n",
       "    </tr>\n",
       "    <tr>\n",
       "      <th>...</th>\n",
       "      <td>...</td>\n",
       "      <td>...</td>\n",
       "      <td>...</td>\n",
       "      <td>...</td>\n",
       "      <td>...</td>\n",
       "      <td>...</td>\n",
       "      <td>...</td>\n",
       "      <td>...</td>\n",
       "      <td>...</td>\n",
       "      <td>...</td>\n",
       "      <td>...</td>\n",
       "      <td>...</td>\n",
       "      <td>...</td>\n",
       "    </tr>\n",
       "    <tr>\n",
       "      <th>993</th>\n",
       "      <td>48</td>\n",
       "      <td>32</td>\n",
       "      <td>0</td>\n",
       "      <td>40</td>\n",
       "      <td>0</td>\n",
       "      <td>8</td>\n",
       "      <td>4</td>\n",
       "      <td>4.082</td>\n",
       "      <td>0</td>\n",
       "      <td>weiblich</td>\n",
       "      <td>0</td>\n",
       "      <td>verheiratet</td>\n",
       "      <td>nicht weiß</td>\n",
       "    </tr>\n",
       "    <tr>\n",
       "      <th>994</th>\n",
       "      <td>29</td>\n",
       "      <td>24</td>\n",
       "      <td>0</td>\n",
       "      <td>32</td>\n",
       "      <td>1</td>\n",
       "      <td>8</td>\n",
       "      <td>15</td>\n",
       "      <td>1.057</td>\n",
       "      <td>1</td>\n",
       "      <td>weiblich</td>\n",
       "      <td>0</td>\n",
       "      <td>verheiratet</td>\n",
       "      <td>weiß</td>\n",
       "    </tr>\n",
       "    <tr>\n",
       "      <th>996</th>\n",
       "      <td>37</td>\n",
       "      <td>31</td>\n",
       "      <td>0</td>\n",
       "      <td>38</td>\n",
       "      <td>0</td>\n",
       "      <td>8</td>\n",
       "      <td>15</td>\n",
       "      <td>2.631</td>\n",
       "      <td>0</td>\n",
       "      <td>weiblich</td>\n",
       "      <td>0</td>\n",
       "      <td>verheiratet</td>\n",
       "      <td>weiß</td>\n",
       "    </tr>\n",
       "    <tr>\n",
       "      <th>997</th>\n",
       "      <td>27</td>\n",
       "      <td>27</td>\n",
       "      <td>0</td>\n",
       "      <td>34</td>\n",
       "      <td>1</td>\n",
       "      <td>7</td>\n",
       "      <td>11</td>\n",
       "      <td>3.062</td>\n",
       "      <td>0</td>\n",
       "      <td>weiblich</td>\n",
       "      <td>0</td>\n",
       "      <td>verheiratet</td>\n",
       "      <td>weiß</td>\n",
       "    </tr>\n",
       "    <tr>\n",
       "      <th>999</th>\n",
       "      <td>21</td>\n",
       "      <td>17</td>\n",
       "      <td>0</td>\n",
       "      <td>41</td>\n",
       "      <td>0</td>\n",
       "      <td>12</td>\n",
       "      <td>19</td>\n",
       "      <td>3.234</td>\n",
       "      <td>0</td>\n",
       "      <td>weiblich</td>\n",
       "      <td>0</td>\n",
       "      <td>ledig</td>\n",
       "      <td>weiß</td>\n",
       "    </tr>\n",
       "  </tbody>\n",
       "</table>\n",
       "<p>794 rows × 13 columns</p>\n",
       "</div>"
      ],
      "text/plain": [
       "     Alter des Vaters  Alter der Mutter  Risikoschwangerschaft  \\\n",
       "0                  34                34                      0   \n",
       "1                  36                31                      0   \n",
       "2                  37                36                      1   \n",
       "4                  32                31                      0   \n",
       "5                  32                26                      0   \n",
       "..                ...               ...                    ...   \n",
       "993                48                32                      0   \n",
       "994                29                24                      0   \n",
       "996                37                31                      0   \n",
       "997                27                27                      0   \n",
       "999                21                17                      0   \n",
       "\n",
       "     Schwangerschaftsdauer [Wochen]  Frühgeburt  Krankenhausbesuche  \\\n",
       "0                                37           0                  14   \n",
       "1                                41           0                  12   \n",
       "2                                37           0                  10   \n",
       "4                                36           1                  12   \n",
       "5                                39           0                  14   \n",
       "..                              ...         ...                 ...   \n",
       "993                              40           0                   8   \n",
       "994                              32           1                   8   \n",
       "996                              38           0                   8   \n",
       "997                              34           1                   7   \n",
       "999                              41           0                  12   \n",
       "\n",
       "     Gewichtszunahme Mutter  Geburtsgewicht Kind  Untergewicht  \\\n",
       "0                        13                3.157             0   \n",
       "1                        19                4.019             0   \n",
       "2                        13                3.406             0   \n",
       "4                        22                3.062             0   \n",
       "5                        20                3.035             0   \n",
       "..                      ...                  ...           ...   \n",
       "993                       4                4.082             0   \n",
       "994                      15                1.057             1   \n",
       "996                      15                2.631             0   \n",
       "997                      11                3.062             0   \n",
       "999                      19                3.234             0   \n",
       "\n",
       "    Geschlecht Kind  Mutter raucht Beziehungsstatus   Hautfarbe  \n",
       "0          männlich              0      verheiratet        weiß  \n",
       "1          weiblich              0      verheiratet        weiß  \n",
       "2          weiblich              0      verheiratet  nicht weiß  \n",
       "4          weiblich              0      verheiratet        weiß  \n",
       "5          weiblich              0      verheiratet        weiß  \n",
       "..              ...            ...              ...         ...  \n",
       "993        weiblich              0      verheiratet  nicht weiß  \n",
       "994        weiblich              0      verheiratet        weiß  \n",
       "996        weiblich              0      verheiratet        weiß  \n",
       "997        weiblich              0      verheiratet        weiß  \n",
       "999        weiblich              0            ledig        weiß  \n",
       "\n",
       "[794 rows x 13 columns]"
      ]
     },
     "execution_count": 2,
     "metadata": {},
     "output_type": "execute_result"
    }
   ],
   "source": [
    "import pandas as pd\n",
    "import seaborn as sns\n",
    "import matplotlib.pyplot as plt\n",
    "import plotly.express as px\n",
    "\n",
    "# csv-Datei gelesen, Einträge mit \"NaN\" sollen als fehlend behandelt werden\n",
    "\n",
    "df = pd.read_csv(\"Geburtsgewicht_2014.csv\", na_values=[\"NaN\"]) \n",
    "\n",
    "# Spaltenüberschrift geändert\n",
    "\n",
    "df.columns = [\n",
    "                \"Alter des Vaters\", \n",
    "                \"Alter der Mutter\",\n",
    "                \"Risikoschwangerschaft\", \n",
    "                \"Schwangerschaftsdauer [Wochen]\",\n",
    "                \"Frühgeburt\",\n",
    "                \"Krankenhausbesuche\",\n",
    "                \"Gewichtszunahme Mutter\",\n",
    "                \"Geburtsgewicht Kind\",\n",
    "                \"Untergewicht\",\n",
    "                \"Geschlecht Kind\",\n",
    "                \"Mutter raucht\",\n",
    "                \"Beziehungsstatus\",\n",
    "                \"Hautfarbe\"]  \n",
    "\n",
    "# Löscht alle Zeilen, die einen fehlenden Eintrag (\"NaN\") enthalten\n",
    "\n",
    "df_clean = df.dropna().copy() \n",
    "\n",
    "# Pfund in Kilogramm\n",
    "\n",
    "df_clean[\"Gewichtszunahme Mutter\"] = df_clean[\"Gewichtszunahme Mutter\"] * 0.453592\n",
    "df_clean[\"Geburtsgewicht Kind\"] = df_clean[\"Geburtsgewicht Kind\"] * 0.453592\n",
    "\n",
    "# float zu int\n",
    "\n",
    "df_clean[\"Alter des Vaters\"] = df_clean[\"Alter des Vaters\"].round().astype(int) \n",
    "df_clean[\"Krankenhausbesuche\"] = df_clean[\"Krankenhausbesuche\"].round().astype(int)\n",
    "df_clean[\"Gewichtszunahme Mutter\"] = df_clean[\"Gewichtszunahme Mutter\"].round().astype(int)\n",
    "\n",
    "# Runden\n",
    "\n",
    "df_clean[\"Geburtsgewicht Kind\"] = df_clean[\"Geburtsgewicht Kind\"].round(3)\n",
    "\n",
    "# Begriffe ersetzen\n",
    "\n",
    "df_clean[\"Risikoschwangerschaft\"] = df_clean[\"Risikoschwangerschaft\"].replace({\n",
    "    \"younger mom\": 0,\n",
    "    \"mature mom\": 1\n",
    "})\n",
    "\n",
    "df_clean[\"Frühgeburt\"] = df_clean[\"Frühgeburt\"].replace({\n",
    "    \"full term\": 0,\n",
    "    \"premie\": 1\n",
    "})\n",
    "\n",
    "df_clean[\"Untergewicht\"] = df_clean[\"Untergewicht\"].replace({\n",
    "    \"not low\": 0,\n",
    "    \"low\": 1\n",
    "})\n",
    "\n",
    "df_clean[\"Geschlecht Kind\"] = df_clean[\"Geschlecht Kind\"].replace({\n",
    "    \"female\": \"weiblich\",\n",
    "    \"male\": \"männlich\"\n",
    "})\n",
    "\n",
    "df_clean[\"Mutter raucht\"] = df_clean[\"Mutter raucht\"].replace({\n",
    "    \"nonsmoker\": 0,\n",
    "    \"smoker\": 1\n",
    "})\n",
    "\n",
    "df_clean[\"Beziehungsstatus\"] = df_clean[\"Beziehungsstatus\"].replace({\n",
    "    \"married\": \"verheiratet\",\n",
    "    \"not married\": \"ledig\"\n",
    "})\n",
    "\n",
    "df_clean[\"Hautfarbe\"] = df_clean[\"Hautfarbe\"].replace({\n",
    "    \"white\": \"weiß\",\n",
    "    \"not white\": \"nicht weiß\"\n",
    "})\n",
    "\n",
    "df_clean"
   ]
  },
  {
   "cell_type": "code",
   "execution_count": 3,
   "id": "d1c5fdb1",
   "metadata": {},
   "outputs": [
    {
     "name": "stdout",
     "output_type": "stream",
     "text": [
      "Durchschnittliches Geburtsgewicht: 3.288 g\n",
      "Median: 3.327 g\n"
     ]
    }
   ],
   "source": [
    "# 1. Wie hoch ist das durchschnittliche Geburtsgewicht?\n",
    "\n",
    "durchschnitt = float(round(df_clean[\"Geburtsgewicht Kind\"].mean(), 3))\n",
    "print(f\"Durchschnittliches Geburtsgewicht: {durchschnitt} g\")\n",
    "\n",
    "median = float(round(df_clean[\"Geburtsgewicht Kind\"].median(), 3))\n",
    "print(f\"Median: {median} g\")"
   ]
  },
  {
   "cell_type": "code",
   "execution_count": 6,
   "id": "4c21499d",
   "metadata": {},
   "outputs": [
    {
     "name": "stdout",
     "output_type": "stream",
     "text": [
      "Maximales Geburtsgewicht: 4.726 g\n",
      "Minimales Geburtsgewicht: 0.508 g\n"
     ]
    }
   ],
   "source": [
    "# 2. Was ist das kleinste und was das größte Geburtsgewicht?\n",
    "\n",
    "maximum = float(round(df_clean[\"Geburtsgewicht Kind\"].max(), 3))\n",
    "print(f\"Maximales Geburtsgewicht: {maximum} g\")\n",
    "\n",
    "minimum = float(round(df_clean[\"Geburtsgewicht Kind\"].min(), 3))\n",
    "print(f\"Minimales Geburtsgewicht: {minimum} g\")"
   ]
  },
  {
   "cell_type": "code",
   "execution_count": 7,
   "id": "a2b3d890",
   "metadata": {},
   "outputs": [
    {
     "name": "stdout",
     "output_type": "stream",
     "text": [
      "Mutter raucht\n",
      "0    732\n",
      "1     62\n",
      "Name: count, dtype: int64\n"
     ]
    },
    {
     "data": {
      "image/png": "[encoded data removed]",
      "text/plain": [
       "<Figure size 640x480 with 1 Axes>"
      ]
     },
     "metadata": {},
     "output_type": "display_data"
    }
   ],
   "source": [
    "# 3. Wie viele Mütter rauchen? Stelle dies in einem Kreisdiagramm dar.\n",
    "\n",
    "df_clean[\"Mutter raucht\"].value_counts()\n",
    "\n",
    "import matplotlib.pyplot as plt\n",
    "\n",
    "# Zähle, wie viele Mütter rauchen oder nicht rauchen\n",
    "\n",
    "anzahl_1 = df_clean[\"Mutter raucht\"].value_counts()\n",
    "print(anzahl_1)\n",
    "\n",
    "# Beschriftung: Reihenfolge muss zur Zählung passen\n",
    "\n",
    "labels = [\"Nichtraucherin\", \"Raucherin\"]  \n",
    "\n",
    "# Farben\n",
    "\n",
    "farben = [\"lightgreen\", \"lightcoral\"]\n",
    "\n",
    "# Kreisdiagramm zeichnen\n",
    "\n",
    "plt.pie(anzahl_1, labels=labels, colors=farben, autopct=\"%1.1f%%\", startangle=90)\n",
    "plt.title(\"Anteil Raucherinnen/Nichtraucherinnen\")\n",
    "plt.axis(\"equal\")  # Macht den Kreis wirklich rund\n",
    "plt.show()"
   ]
  },
  {
   "cell_type": "code",
   "execution_count": 8,
   "id": "37aa1e31",
   "metadata": {},
   "outputs": [
    {
     "name": "stdout",
     "output_type": "stream",
     "text": [
      "Frühgeburt\n",
      "0    696\n",
      "1     98\n",
      "Name: count, dtype: int64\n"
     ]
    }
   ],
   "source": [
    "# 4. Wie viele Frühgeburten gab es?\n",
    "\n",
    "anzahl_2 = df_clean[\"Frühgeburt\"].value_counts()\n",
    "print(anzahl_2)"
   ]
  },
  {
   "cell_type": "code",
   "execution_count": 9,
   "id": "990c4682",
   "metadata": {},
   "outputs": [
    {
     "data": {
      "image/png": "[encoded data removed]",
      "text/plain": [
       "<Figure size 640x480 with 2 Axes>"
      ]
     },
     "metadata": {},
     "output_type": "display_data"
    }
   ],
   "source": [
    "# 5. Gibt es einen Zusammenhang zwischen den Frühgeburten und dem Rauchstatus?\n",
    "\n",
    "# Kreuztabelle mit Anteilen pro Zeile\n",
    "\n",
    "kreuz_rel = pd.crosstab(\n",
    "    df_clean[\"Mutter raucht\"],\n",
    "    df_clean[\"Frühgeburt\"],\n",
    "    normalize=\"index\"  # pro Zeile (jede 'Mutter raucht'-Gruppe)\n",
    ")\n",
    "\n",
    "# Dezimalzahlen (0.25) → Prozentwerte (25.0)\n",
    "\n",
    "kreuz_percent = kreuz_rel * 100\n",
    "\n",
    "# Heatmap zeichnen mit Prozentwerten\n",
    "\n",
    "sns.heatmap(kreuz_percent, annot=True, fmt=\".1f\", cmap=\"Blues\",\n",
    "            cbar_kws={'label': 'Prozent (%)'})\n",
    "\n",
    "plt.title(\"Anteil Frühgeburten (%) in Bezug zum Rauchstatus\")\n",
    "plt.xlabel(\"Frühgeburt\")\n",
    "plt.ylabel(\"Mutter raucht\")\n",
    "plt.show()"
   ]
  },
  {
   "cell_type": "code",
   "execution_count": 10,
   "id": "8ada200a",
   "metadata": {},
   "outputs": [
    {
     "data": {
      "application/vnd.plotly.v1+json": {
       "config": {
        "plotlyServerURL": "https://plot.ly"
       },
       "data": [
        {
         "alignmentgroup": "True",
         "boxpoints": "all",
         "hovertemplate": "Rauchstatus: %{x}<br>Gewicht: %{y} g",
         "legendgroup": "0",
         "marker": {
          "color": "#00cc96"
         },
         "name": "0",
         "notched": false,
         "offsetgroup": "0",
         "orientation": "v",
         "showlegend": true,
         "type": "box",
         "x": {
          "bdata": "AAAAAAAAAAAAAAAAAAAAAAAAAAAAAAAAAAAAAAAAAAAAAAAAAAAAAAAAAAAAAAAAAAAAAAAAAAAAAAAAAAAAAAAAAAAAAAAAAAAAAAAAAAAAAAAAAAAAAAAAAAAAAAAAAAAAAAAAAAAAAAAAAAAAAAAAAAAAAAAAAAAAAAAAAAAAAAAAAAAAAAAAAAAAAAAAAAAAAAAAAAAAAAAAAAAAAAAAAAAAAAAAAAAAAAAAAAAAAAAAAAAAAAAAAAAAAAAAAAAAAAAAAAAAAAAAAAAAAAAAAAAAAAAAAAAAAAAAAAAAAAAAAAAAAAAAAAAAAAAAAAAAAAAAAAAAAAAAAAAAAAAAAAAAAAAAAAAAAAAAAAAAAAAAAAAAAAAAAAAAAAAAAAAAAAAAAAAAAAAAAAAAAAAAAAAAAAAAAAAAAAAAAAAAAAAAAAAAAAAAAAAAAAAAAAAAAAAAAAAAAAAAAAAAAAAAAAAAAAAAAAAAAAAAAAAAAAAAAAAAAAAAAAAAAAAAAAAAAAAAAAAAAAAAAAAAAAAAAAAAAAAAAAAAAAAAAAAAAAAAAAAAAAAAAAAAAAAAAAAAAAAAAAAAAAAAAAAAAAAAAAAAAAAAAAAAAAAAAAAAAAAAAAAAAAAAAAAAAAAAAAAAAAAAAAAAAAAAAAAAAAAAAAAAAAAAAAAAAAAAAAAAAAAAAAAAAAAAAAAAAAAAAAAAAAAAAAAAAAAAAAAAAAAAAAAAAAAAAAAAAAAAAAAAAAAAAAAAAAAAAAAAAAAAAAAAAAAAAAAAAAAAAAAAAAAAAAAAAAAAAAAAAAAAAAAAAAAAAAAAAAAAAAAAAAAAAAAAAAAAAAAAAAAAAAAAAAAAAAAAAAAAAAAAAAAAAAAAAAAAAAAAAAAAAAAAAAAAAAAAAAAAAAAAAAAAAAAAAAAAAAAAAAAAAAAAAAAAAAAAAAAAAAAAAAAAAAAAAAAAAAAAAAAAAAAAAAAA",
          "dtype": "i1"
         },
         "x0": " ",
         "xaxis": "x",
         "y": {
          "bdata": "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",
          "dtype": "f8"
         },
         "y0": " ",
         "yaxis": "y"
        },
        {
         "alignmentgroup": "True",
         "boxpoints": "all",
         "hovertemplate": "Rauchstatus: %{x}<br>Gewicht: %{y} g",
         "legendgroup": "1",
         "marker": {
          "color": "#ab63fa"
         },
         "name": "1",
         "notched": false,
         "offsetgroup": "1",
         "orientation": "v",
         "showlegend": true,
         "type": "box",
         "x": {
          "bdata": "AQEBAQEBAQEBAQEBAQEBAQEBAQEBAQEBAQEBAQEBAQEBAQEBAQEBAQEBAQEBAQEBAQEBAQEBAQEBAQEBAQE=",
          "dtype": "i1"
         },
         "x0": " ",
         "xaxis": "x",
         "y": {
          "bdata": "I9v5fmq8BUAEVg4tsp0JQD0K16NwPQFAXI/C9Shc/z/VeOkmMQgLQMdLN4lBYAVAVOOlm8QgCED2KFyPwvUDQGIQWDm0yBBAhetRuB6FBUAv3SQGgZUHQEjhehSuRwhAGy/dJAaBC0CHFtnO91MQQNV46SYxCA1ArBxaZDvfCUA3iUFg5dAKQIcW2c73UwJAObTIdr6fDkAhsHJoke0BQKwcWmQ73wlAO99PjZduC0CsHFpkO98JQGQ730+NlwVARrbz/dR4C0D0/dR46SYOQD81XrpJjBBAvp8aL90k8j+oxks3iUHgP/LSTWIQWAxAEoPAyqFF6j+mm8QgsHIMQIGVQ4ts5wtAObTIdr6fBUBYObTIdr4KQKwcWmQ73wlADAIrhxbZA0AK16NwPQoJQL6fGi/dJAJAL90kBoGVB0ArhxbZzvcIQDMzMzMzMwhAi2zn+6nxAkAEVg4tsp0JQGQ730+NlwNAXI/C9Shc/z9WDi2yne8GQFg5tMh2vgpAEFg5tMh2BkC0yHa+nxoLQLByaJHtfAxArBxaZDvfCUBmZmZmZmYJQNnO91PjpQRAj8L1KFyPDEB1kxgEVg7/P8HKoUW28wdAEFg5tMh2DUBiEFg5tMgIQB1aZDvfTw9AwcqhRbbzBUBoke18PzUNQA==",
          "dtype": "f8"
         },
         "y0": " ",
         "yaxis": "y"
        }
       ],
       "layout": {
        "boxmode": "overlay",
        "legend": {
         "title": {
          "text": "Mutter raucht?"
         },
         "tracegroupgap": 0
        },
        "template": {
         "data": {
          "bar": [
           {
            "error_x": {
             "color": "#2a3f5f"
            },
            "error_y": {
             "color": "#2a3f5f"
            },
            "marker": {
             "line": {
              "color": "#E5ECF6",
              "width": 0.5
             },
             "pattern": {
              "fillmode": "overlay",
              "size": 10,
              "solidity": 0.2
             }
            },
            "type": "bar"
           }
          ],
          "barpolar": [
           {
            "marker": {
             "line": {
              "color": "#E5ECF6",
              "width": 0.5
             },
             "pattern": {
              "fillmode": "overlay",
              "size": 10,
              "solidity": 0.2
             }
            },
            "type": "barpolar"
           }
          ],
          "carpet": [
           {
            "aaxis": {
             "endlinecolor": "#2a3f5f",
             "gridcolor": "white",
             "linecolor": "white",
             "minorgridcolor": "white",
             "startlinecolor": "#2a3f5f"
            },
            "baxis": {
             "endlinecolor": "#2a3f5f",
             "gridcolor": "white",
             "linecolor": "white",
             "minorgridcolor": "white",
             "startlinecolor": "#2a3f5f"
            },
            "type": "carpet"
           }
          ],
          "choropleth": [
           {
            "colorbar": {
             "outlinewidth": 0,
             "ticks": ""
            },
            "type": "choropleth"
           }
          ],
          "contour": [
           {
            "colorbar": {
             "outlinewidth": 0,
             "ticks": ""
            },
            "colorscale": [
             [
              0,
              "#0d0887"
             ],
             [
              0.1111111111111111,
              "#46039f"
             ],
             [
              0.2222222222222222,
              "#7201a8"
             ],
             [
              0.3333333333333333,
              "#9c179e"
             ],
             [
              0.4444444444444444,
              "#bd3786"
             ],
             [
              0.5555555555555556,
              "#d8576b"
             ],
             [
              0.6666666666666666,
              "#ed7953"
             ],
             [
              0.7777777777777778,
              "#fb9f3a"
             ],
             [
              0.8888888888888888,
              "#fdca26"
             ],
             [
              1,
              "#f0f921"
             ]
            ],
            "type": "contour"
           }
          ],
          "contourcarpet": [
           {
            "colorbar": {
             "outlinewidth": 0,
             "ticks": ""
            },
            "type": "contourcarpet"
           }
          ],
          "heatmap": [
           {
            "colorbar": {
             "outlinewidth": 0,
             "ticks": ""
            },
            "colorscale": [
             [
              0,
              "#0d0887"
             ],
             [
              0.1111111111111111,
              "#46039f"
             ],
             [
              0.2222222222222222,
              "#7201a8"
             ],
             [
              0.3333333333333333,
              "#9c179e"
             ],
             [
              0.4444444444444444,
              "#bd3786"
             ],
             [
              0.5555555555555556,
              "#d8576b"
             ],
             [
              0.6666666666666666,
              "#ed7953"
             ],
             [
              0.7777777777777778,
              "#fb9f3a"
             ],
             [
              0.8888888888888888,
              "#fdca26"
             ],
             [
              1,
              "#f0f921"
             ]
            ],
            "type": "heatmap"
           }
          ],
          "histogram": [
           {
            "marker": {
             "pattern": {
              "fillmode": "overlay",
              "size": 10,
              "solidity": 0.2
             }
            },
            "type": "histogram"
           }
          ],
          "histogram2d": [
           {
            "colorbar": {
             "outlinewidth": 0,
             "ticks": ""
            },
            "colorscale": [
             [
              0,
              "#0d0887"
             ],
             [
              0.1111111111111111,
              "#46039f"
             ],
             [
              0.2222222222222222,
              "#7201a8"
             ],
             [
              0.3333333333333333,
              "#9c179e"
             ],
             [
              0.4444444444444444,
              "#bd3786"
             ],
             [
              0.5555555555555556,
              "#d8576b"
             ],
             [
              0.6666666666666666,
              "#ed7953"
             ],
             [
              0.7777777777777778,
              "#fb9f3a"
             ],
             [
              0.8888888888888888,
              "#fdca26"
             ],
             [
              1,
              "#f0f921"
             ]
            ],
            "type": "histogram2d"
           }
          ],
          "histogram2dcontour": [
           {
            "colorbar": {
             "outlinewidth": 0,
             "ticks": ""
            },
            "colorscale": [
             [
              0,
              "#0d0887"
             ],
             [
              0.1111111111111111,
              "#46039f"
             ],
             [
              0.2222222222222222,
              "#7201a8"
             ],
             [
              0.3333333333333333,
              "#9c179e"
             ],
             [
              0.4444444444444444,
              "#bd3786"
             ],
             [
              0.5555555555555556,
              "#d8576b"
             ],
             [
              0.6666666666666666,
              "#ed7953"
             ],
             [
              0.7777777777777778,
              "#fb9f3a"
             ],
             [
              0.8888888888888888,
              "#fdca26"
             ],
             [
              1,
              "#f0f921"
             ]
            ],
            "type": "histogram2dcontour"
           }
          ],
          "mesh3d": [
           {
            "colorbar": {
             "outlinewidth": 0,
             "ticks": ""
            },
            "type": "mesh3d"
           }
          ],
          "parcoords": [
           {
            "line": {
             "colorbar": {
              "outlinewidth": 0,
              "ticks": ""
             }
            },
            "type": "parcoords"
           }
          ],
          "pie": [
           {
            "automargin": true,
            "type": "pie"
           }
          ],
          "scatter": [
           {
            "fillpattern": {
             "fillmode": "overlay",
             "size": 10,
             "solidity": 0.2
            },
            "type": "scatter"
           }
          ],
          "scatter3d": [
           {
            "line": {
             "colorbar": {
              "outlinewidth": 0,
              "ticks": ""
             }
            },
            "marker": {
             "colorbar": {
              "outlinewidth": 0,
              "ticks": ""
             }
            },
            "type": "scatter3d"
           }
          ],
          "scattercarpet": [
           {
            "marker": {
             "colorbar": {
              "outlinewidth": 0,
              "ticks": ""
             }
            },
            "type": "scattercarpet"
           }
          ],
          "scattergeo": [
           {
            "marker": {
             "colorbar": {
              "outlinewidth": 0,
              "ticks": ""
             }
            },
            "type": "scattergeo"
           }
          ],
          "scattergl": [
           {
            "marker": {
             "colorbar": {
              "outlinewidth": 0,
              "ticks": ""
             }
            },
            "type": "scattergl"
           }
          ],
          "scattermap": [
           {
            "marker": {
             "colorbar": {
              "outlinewidth": 0,
              "ticks": ""
             }
            },
            "type": "scattermap"
           }
          ],
          "scattermapbox": [
           {
            "marker": {
             "colorbar": {
              "outlinewidth": 0,
              "ticks": ""
             }
            },
            "type": "scattermapbox"
           }
          ],
          "scatterpolar": [
           {
            "marker": {
             "colorbar": {
              "outlinewidth": 0,
              "ticks": ""
             }
            },
            "type": "scatterpolar"
           }
          ],
          "scatterpolargl": [
           {
            "marker": {
             "colorbar": {
              "outlinewidth": 0,
              "ticks": ""
             }
            },
            "type": "scatterpolargl"
           }
          ],
          "scatterternary": [
           {
            "marker": {
             "colorbar": {
              "outlinewidth": 0,
              "ticks": ""
             }
            },
            "type": "scatterternary"
           }
          ],
          "surface": [
           {
            "colorbar": {
             "outlinewidth": 0,
             "ticks": ""
            },
            "colorscale": [
             [
              0,
              "#0d0887"
             ],
             [
              0.1111111111111111,
              "#46039f"
             ],
             [
              0.2222222222222222,
              "#7201a8"
             ],
             [
              0.3333333333333333,
              "#9c179e"
             ],
             [
              0.4444444444444444,
              "#bd3786"
             ],
             [
              0.5555555555555556,
              "#d8576b"
             ],
             [
              0.6666666666666666,
              "#ed7953"
             ],
             [
              0.7777777777777778,
              "#fb9f3a"
             ],
             [
              0.8888888888888888,
              "#fdca26"
             ],
             [
              1,
              "#f0f921"
             ]
            ],
            "type": "surface"
           }
          ],
          "table": [
           {
            "cells": {
             "fill": {
              "color": "#EBF0F8"
             },
             "line": {
              "color": "white"
             }
            },
            "header": {
             "fill": {
              "color": "#C8D4E3"
             },
             "line": {
              "color": "white"
             }
            },
            "type": "table"
           }
          ]
         },
         "layout": {
          "annotationdefaults": {
           "arrowcolor": "#2a3f5f",
           "arrowhead": 0,
           "arrowwidth": 1
          },
          "autotypenumbers": "strict",
          "coloraxis": {
           "colorbar": {
            "outlinewidth": 0,
            "ticks": ""
           }
          },
          "colorscale": {
           "diverging": [
            [
             0,
             "#8e0152"
            ],
            [
             0.1,
             "#c51b7d"
            ],
            [
             0.2,
             "#de77ae"
            ],
            [
             0.3,
             "#f1b6da"
            ],
            [
             0.4,
             "#fde0ef"
            ],
            [
             0.5,
             "#f7f7f7"
            ],
            [
             0.6,
             "#e6f5d0"
            ],
            [
             0.7,
             "#b8e186"
            ],
            [
             0.8,
             "#7fbc41"
            ],
            [
             0.9,
             "#4d9221"
            ],
            [
             1,
             "#276419"
            ]
           ],
           "sequential": [
            [
             0,
             "#0d0887"
            ],
            [
             0.1111111111111111,
             "#46039f"
            ],
            [
             0.2222222222222222,
             "#7201a8"
            ],
            [
             0.3333333333333333,
             "#9c179e"
            ],
            [
             0.4444444444444444,
             "#bd3786"
            ],
            [
             0.5555555555555556,
             "#d8576b"
            ],
            [
             0.6666666666666666,
             "#ed7953"
            ],
            [
             0.7777777777777778,
             "#fb9f3a"
            ],
            [
             0.8888888888888888,
             "#fdca26"
            ],
            [
             1,
             "#f0f921"
            ]
           ],
           "sequentialminus": [
            [
             0,
             "#0d0887"
            ],
            [
             0.1111111111111111,
             "#46039f"
            ],
            [
             0.2222222222222222,
             "#7201a8"
            ],
            [
             0.3333333333333333,
             "#9c179e"
            ],
            [
             0.4444444444444444,
             "#bd3786"
            ],
            [
             0.5555555555555556,
             "#d8576b"
            ],
            [
             0.6666666666666666,
             "#ed7953"
            ],
            [
             0.7777777777777778,
             "#fb9f3a"
            ],
            [
             0.8888888888888888,
             "#fdca26"
            ],
            [
             1,
             "#f0f921"
            ]
           ]
          },
          "colorway": [
           "#636efa",
           "#EF553B",
           "#00cc96",
           "#ab63fa",
           "#FFA15A",
           "#19d3f3",
           "#FF6692",
           "#B6E880",
           "#FF97FF",
           "#FECB52"
          ],
          "font": {
           "color": "#2a3f5f"
          },
          "geo": {
           "bgcolor": "white",
           "lakecolor": "white",
           "landcolor": "#E5ECF6",
           "showlakes": true,
           "showland": true,
           "subunitcolor": "white"
          },
          "hoverlabel": {
           "align": "left"
          },
          "hovermode": "closest",
          "mapbox": {
           "style": "light"
          },
          "paper_bgcolor": "white",
          "plot_bgcolor": "#E5ECF6",
          "polar": {
           "angularaxis": {
            "gridcolor": "white",
            "linecolor": "white",
            "ticks": ""
           },
           "bgcolor": "#E5ECF6",
           "radialaxis": {
            "gridcolor": "white",
            "linecolor": "white",
            "ticks": ""
           }
          },
          "scene": {
           "xaxis": {
            "backgroundcolor": "#E5ECF6",
            "gridcolor": "white",
            "gridwidth": 2,
            "linecolor": "white",
            "showbackground": true,
            "ticks": "",
            "zerolinecolor": "white"
           },
           "yaxis": {
            "backgroundcolor": "#E5ECF6",
            "gridcolor": "white",
            "gridwidth": 2,
            "linecolor": "white",
            "showbackground": true,
            "ticks": "",
            "zerolinecolor": "white"
           },
           "zaxis": {
            "backgroundcolor": "#E5ECF6",
            "gridcolor": "white",
            "gridwidth": 2,
            "linecolor": "white",
            "showbackground": true,
            "ticks": "",
            "zerolinecolor": "white"
           }
          },
          "shapedefaults": {
           "line": {
            "color": "#2a3f5f"
           }
          },
          "ternary": {
           "aaxis": {
            "gridcolor": "white",
            "linecolor": "white",
            "ticks": ""
           },
           "baxis": {
            "gridcolor": "white",
            "linecolor": "white",
            "ticks": ""
           },
           "bgcolor": "#E5ECF6",
           "caxis": {
            "gridcolor": "white",
            "linecolor": "white",
            "ticks": ""
           }
          },
          "title": {
           "x": 0.05
          },
          "xaxis": {
           "automargin": true,
           "gridcolor": "white",
           "linecolor": "white",
           "ticks": "",
           "title": {
            "standoff": 15
           },
           "zerolinecolor": "white",
           "zerolinewidth": 2
          },
          "yaxis": {
           "automargin": true,
           "gridcolor": "white",
           "linecolor": "white",
           "ticks": "",
           "title": {
            "standoff": 15
           },
           "zerolinecolor": "white",
           "zerolinewidth": 2
          }
         }
        },
        "title": {
         "text": "Geburtsgewicht nach Rauchverhalten der Mutter"
        },
        "xaxis": {
         "anchor": "y",
         "categoryarray": [
          0,
          1
         ],
         "categoryorder": "array",
         "domain": [
          0,
          1
         ],
         "title": {
          "text": "Mutter raucht?"
         }
        },
        "yaxis": {
         "anchor": "x",
         "domain": [
          0,
          1
         ],
         "title": {
          "text": "Geburtsgewicht des Kindes in Gramm"
         }
        }
       }
      }
     },
     "metadata": {},
     "output_type": "display_data"
    }
   ],
   "source": [
    "# 6. Gibt es einen Zusammenhang zwischen dem Geburtsgewicht des Kindes und dem Rauchstatus?\n",
    "\n",
    "fig = px.box(\n",
    "    df_clean,\n",
    "    x=\"Mutter raucht\",\n",
    "    y=\"Geburtsgewicht Kind\",\n",
    "    color=\"Mutter raucht\",  # Farbe basiert auf dieser Spalte\n",
    "    color_discrete_map={\"Nein\": \"green\", \"Ja\": \"red\"},  # → individuelle Farben\n",
    "    points=\"all\",  # zeigt auch alle Einzelpunkte\n",
    "    title=\"Geburtsgewicht nach Rauchverhalten der Mutter\",\n",
    "    labels={\n",
    "        \"Mutter raucht\": \"Mutter raucht?\",\n",
    "        \"Geburtsgewicht Kind\": \"Geburtsgewicht des Kindes in Gramm\"\n",
    "    }\n",
    ")\n",
    "\n",
    "fig.update_traces(hovertemplate=\"Rauchstatus: %{x}<br>Gewicht: %{y} g\")\n",
    "fig.show()"
   ]
  },
  {
   "cell_type": "code",
   "execution_count": 11,
   "id": "5dcd55cc",
   "metadata": {},
   "outputs": [
    {
     "data": {
      "application/vnd.plotly.v1+json": {
       "config": {
        "plotlyServerURL": "https://plot.ly"
       },
       "data": [
        {
         "alignmentgroup": "True",
         "boxpoints": "all",
         "hovertemplate": "Frühgeburt: %{x}<br>Krankenhausbesuche: %{y} g",
         "legendgroup": "0",
         "marker": {
          "color": "#00cc96"
         },
         "name": "0",
         "notched": false,
         "offsetgroup": "0",
         "orientation": "v",
         "showlegend": true,
         "type": "box",
         "x": {
          "bdata": "AAAAAAAAAAAAAAAAAAAAAAAAAAAAAAAAAAAAAAAAAAAAAAAAAAAAAAAAAAAAAAAAAAAAAAAAAAAAAAAAAAAAAAAAAAAAAAAAAAAAAAAAAAAAAAAAAAAAAAAAAAAAAAAAAAAAAAAAAAAAAAAAAAAAAAAAAAAAAAAAAAAAAAAAAAAAAAAAAAAAAAAAAAAAAAAAAAAAAAAAAAAAAAAAAAAAAAAAAAAAAAAAAAAAAAAAAAAAAAAAAAAAAAAAAAAAAAAAAAAAAAAAAAAAAAAAAAAAAAAAAAAAAAAAAAAAAAAAAAAAAAAAAAAAAAAAAAAAAAAAAAAAAAAAAAAAAAAAAAAAAAAAAAAAAAAAAAAAAAAAAAAAAAAAAAAAAAAAAAAAAAAAAAAAAAAAAAAAAAAAAAAAAAAAAAAAAAAAAAAAAAAAAAAAAAAAAAAAAAAAAAAAAAAAAAAAAAAAAAAAAAAAAAAAAAAAAAAAAAAAAAAAAAAAAAAAAAAAAAAAAAAAAAAAAAAAAAAAAAAAAAAAAAAAAAAAAAAAAAAAAAAAAAAAAAAAAAAAAAAAAAAAAAAAAAAAAAAAAAAAAAAAAAAAAAAAAAAAAAAAAAAAAAAAAAAAAAAAAAAAAAAAAAAAAAAAAAAAAAAAAAAAAAAAAAAAAAAAAAAAAAAAAAAAAAAAAAAAAAAAAAAAAAAAAAAAAAAAAAAAAAAAAAAAAAAAAAAAAAAAAAAAAAAAAAAAAAAAAAAAAAAAAAAAAAAAAAAAAAAAAAAAAAAAAAAAAAAAAAAAAAAAAAAAAAAAAAAAAAAAAAAAAAAAAAAAAAAAAAAAAAAAAAAAAAAAAAAAAAAAAAAAAAAAAAAAAAAAAAAAAAAAAAAAAAAAAAAAAAAAAAAAAAAAAAAAAAAAAAAAAAAAAAAAAAAAAAAAAAAAAAAAAAAA",
          "dtype": "i1"
         },
         "x0": " ",
         "xaxis": "x",
         "y": {
          "bdata": "DgwKDg0PCw4QFAoMDxASCxAQDA0JDQ0IDQgJCwYLBw0MCg4NEwwPCwkPHQ0HCQsPCg4FBw0MDgIIBwUMChkKDQMHDAkLCw4LCQwNCxEKBwoNCw4LDwwQDA8OCwcSEAwLCQ4MCwwSCQoLEAsPDQ0LDAwPDgsLDQ0MCw0MDw8KAgwIDREMEg4MDA4MDAoMEwAJDA0ADg4JEAoKDA8LEQwUCAoKDw8IDAcLDQwMBwwIBg0LDA4ODQoRDQoQBAQJCgcKDQoNEAoJDg0KBQgODBANCA4MBAQJDA8IDAwMCAsIDAwPAwoNDAUJAAoODAoKEQwPEwcKDQwKDg0NCwkNEQgMDAAMChEMAQkKBw8ODwgMCg4PCgsKEBAKCggOCgoPCQcKDhAHCQwMCQcHCw8NDgwPDwwKDQ0KFAcJDh4KCwsPDwMVCg8HDgwODgsRCg0RAAoUCg4HDQoMDgwODgsNCg0LCwcMDwwMCgoPChEKDQwLCw0MBg4MCgoLCgoKBg0KCwQMDAsOEQ4QCAoPCw4OAw8QCw0bBgwODQ0LEhELDQsNDAcLCg4KCgoPEg0LCQ0PEw8HAQkNCQgNDAoUDAkLChIQDQsMCRQUEAoUFAsMEQgMDgoMDg8SBQkKDAgGBw0KCAQPDhQQCg8KEwoGCgoNDQ8MCAsKBw0ODQsKBAoKDgoJEgsMDQwODAwMCQwNFQoMDBIMBgYODAwNCREKCQsNDA0MDg0KDw8NEwgMDAoKDQsMDAwJCg0PDAkUCw8LDA0MDwELDwwLFAgUCwAKCgEGDAsMDA4HDAoKDAgKDAsNDAwLCw4UCgcLDwsNCgwHDA0UDg8ICgkODAwDCgwKDg8GCgwLCxELDgoHBAMPCg4KCA0PExAODAgMCg0ODA0OCAsPCgwODBILDAoNBgwHCwoGBwwMCAwOEA8NCAgM",
          "dtype": "i1"
         },
         "y0": " ",
         "yaxis": "y"
        },
        {
         "alignmentgroup": "True",
         "boxpoints": "all",
         "hovertemplate": "Frühgeburt: %{x}<br>Krankenhausbesuche: %{y} g",
         "legendgroup": "1",
         "marker": {
          "color": "#ab63fa"
         },
         "name": "1",
         "notched": false,
         "offsetgroup": "1",
         "orientation": "v",
         "showlegend": true,
         "type": "box",
         "x": {
          "bdata": "AQEBAQEBAQEBAQEBAQEBAQEBAQEBAQEBAQEBAQEBAQEBAQEBAQEBAQEBAQEBAQEBAQEBAQEBAQEBAQEBAQEBAQEBAQEBAQEBAQEBAQEBAQEBAQEBAQEBAQEBAQEBAQEBAQE=",
          "dtype": "i1"
         },
         "x0": " ",
         "xaxis": "x",
         "y": {
          "bdata": "DAoUBgoPDwwKBwAJBhIKEgoMCBwPCAkJCAUMDQULCwkQCAgNCQoECggJCw0NCAwIDwcNAgEUBgwNBg4FDAUUFAoKCAYKDwwGCxQKCQ4GEgkLEh4JCgkOBwgKBRkMEAoLCAc=",
          "dtype": "i1"
         },
         "y0": " ",
         "yaxis": "y"
        }
       ],
       "layout": {
        "boxmode": "overlay",
        "legend": {
         "title": {
          "text": "Frühgeburt?"
         },
         "tracegroupgap": 0
        },
        "template": {
         "data": {
          "bar": [
           {
            "error_x": {
             "color": "#2a3f5f"
            },
            "error_y": {
             "color": "#2a3f5f"
            },
            "marker": {
             "line": {
              "color": "#E5ECF6",
              "width": 0.5
             },
             "pattern": {
              "fillmode": "overlay",
              "size": 10,
              "solidity": 0.2
             }
            },
            "type": "bar"
           }
          ],
          "barpolar": [
           {
            "marker": {
             "line": {
              "color": "#E5ECF6",
              "width": 0.5
             },
             "pattern": {
              "fillmode": "overlay",
              "size": 10,
              "solidity": 0.2
             }
            },
            "type": "barpolar"
           }
          ],
          "carpet": [
           {
            "aaxis": {
             "endlinecolor": "#2a3f5f",
             "gridcolor": "white",
             "linecolor": "white",
             "minorgridcolor": "white",
             "startlinecolor": "#2a3f5f"
            },
            "baxis": {
             "endlinecolor": "#2a3f5f",
             "gridcolor": "white",
             "linecolor": "white",
             "minorgridcolor": "white",
             "startlinecolor": "#2a3f5f"
            },
            "type": "carpet"
           }
          ],
          "choropleth": [
           {
            "colorbar": {
             "outlinewidth": 0,
             "ticks": ""
            },
            "type": "choropleth"
           }
          ],
          "contour": [
           {
            "colorbar": {
             "outlinewidth": 0,
             "ticks": ""
            },
            "colorscale": [
             [
              0,
              "#0d0887"
             ],
             [
              0.1111111111111111,
              "#46039f"
             ],
             [
              0.2222222222222222,
              "#7201a8"
             ],
             [
              0.3333333333333333,
              "#9c179e"
             ],
             [
              0.4444444444444444,
              "#bd3786"
             ],
             [
              0.5555555555555556,
              "#d8576b"
             ],
             [
              0.6666666666666666,
              "#ed7953"
             ],
             [
              0.7777777777777778,
              "#fb9f3a"
             ],
             [
              0.8888888888888888,
              "#fdca26"
             ],
             [
              1,
              "#f0f921"
             ]
            ],
            "type": "contour"
           }
          ],
          "contourcarpet": [
           {
            "colorbar": {
             "outlinewidth": 0,
             "ticks": ""
            },
            "type": "contourcarpet"
           }
          ],
          "heatmap": [
           {
            "colorbar": {
             "outlinewidth": 0,
             "ticks": ""
            },
            "colorscale": [
             [
              0,
              "#0d0887"
             ],
             [
              0.1111111111111111,
              "#46039f"
             ],
             [
              0.2222222222222222,
              "#7201a8"
             ],
             [
              0.3333333333333333,
              "#9c179e"
             ],
             [
              0.4444444444444444,
              "#bd3786"
             ],
             [
              0.5555555555555556,
              "#d8576b"
             ],
             [
              0.6666666666666666,
              "#ed7953"
             ],
             [
              0.7777777777777778,
              "#fb9f3a"
             ],
             [
              0.8888888888888888,
              "#fdca26"
             ],
             [
              1,
              "#f0f921"
             ]
            ],
            "type": "heatmap"
           }
          ],
          "histogram": [
           {
            "marker": {
             "pattern": {
              "fillmode": "overlay",
              "size": 10,
              "solidity": 0.2
             }
            },
            "type": "histogram"
           }
          ],
          "histogram2d": [
           {
            "colorbar": {
             "outlinewidth": 0,
             "ticks": ""
            },
            "colorscale": [
             [
              0,
              "#0d0887"
             ],
             [
              0.1111111111111111,
              "#46039f"
             ],
             [
              0.2222222222222222,
              "#7201a8"
             ],
             [
              0.3333333333333333,
              "#9c179e"
             ],
             [
              0.4444444444444444,
              "#bd3786"
             ],
             [
              0.5555555555555556,
              "#d8576b"
             ],
             [
              0.6666666666666666,
              "#ed7953"
             ],
             [
              0.7777777777777778,
              "#fb9f3a"
             ],
             [
              0.8888888888888888,
              "#fdca26"
             ],
             [
              1,
              "#f0f921"
             ]
            ],
            "type": "histogram2d"
           }
          ],
          "histogram2dcontour": [
           {
            "colorbar": {
             "outlinewidth": 0,
             "ticks": ""
            },
            "colorscale": [
             [
              0,
              "#0d0887"
             ],
             [
              0.1111111111111111,
              "#46039f"
             ],
             [
              0.2222222222222222,
              "#7201a8"
             ],
             [
              0.3333333333333333,
              "#9c179e"
             ],
             [
              0.4444444444444444,
              "#bd3786"
             ],
             [
              0.5555555555555556,
              "#d8576b"
             ],
             [
              0.6666666666666666,
              "#ed7953"
             ],
             [
              0.7777777777777778,
              "#fb9f3a"
             ],
             [
              0.8888888888888888,
              "#fdca26"
             ],
             [
              1,
              "#f0f921"
             ]
            ],
            "type": "histogram2dcontour"
           }
          ],
          "mesh3d": [
           {
            "colorbar": {
             "outlinewidth": 0,
             "ticks": ""
            },
            "type": "mesh3d"
           }
          ],
          "parcoords": [
           {
            "line": {
             "colorbar": {
              "outlinewidth": 0,
              "ticks": ""
             }
            },
            "type": "parcoords"
           }
          ],
          "pie": [
           {
            "automargin": true,
            "type": "pie"
           }
          ],
          "scatter": [
           {
            "fillpattern": {
             "fillmode": "overlay",
             "size": 10,
             "solidity": 0.2
            },
            "type": "scatter"
           }
          ],
          "scatter3d": [
           {
            "line": {
             "colorbar": {
              "outlinewidth": 0,
              "ticks": ""
             }
            },
            "marker": {
             "colorbar": {
              "outlinewidth": 0,
              "ticks": ""
             }
            },
            "type": "scatter3d"
           }
          ],
          "scattercarpet": [
           {
            "marker": {
             "colorbar": {
              "outlinewidth": 0,
              "ticks": ""
             }
            },
            "type": "scattercarpet"
           }
          ],
          "scattergeo": [
           {
            "marker": {
             "colorbar": {
              "outlinewidth": 0,
              "ticks": ""
             }
            },
            "type": "scattergeo"
           }
          ],
          "scattergl": [
           {
            "marker": {
             "colorbar": {
              "outlinewidth": 0,
              "ticks": ""
             }
            },
            "type": "scattergl"
           }
          ],
          "scattermap": [
           {
            "marker": {
             "colorbar": {
              "outlinewidth": 0,
              "ticks": ""
             }
            },
            "type": "scattermap"
           }
          ],
          "scattermapbox": [
           {
            "marker": {
             "colorbar": {
              "outlinewidth": 0,
              "ticks": ""
             }
            },
            "type": "scattermapbox"
           }
          ],
          "scatterpolar": [
           {
            "marker": {
             "colorbar": {
              "outlinewidth": 0,
              "ticks": ""
             }
            },
            "type": "scatterpolar"
           }
          ],
          "scatterpolargl": [
           {
            "marker": {
             "colorbar": {
              "outlinewidth": 0,
              "ticks": ""
             }
            },
            "type": "scatterpolargl"
           }
          ],
          "scatterternary": [
           {
            "marker": {
             "colorbar": {
              "outlinewidth": 0,
              "ticks": ""
             }
            },
            "type": "scatterternary"
           }
          ],
          "surface": [
           {
            "colorbar": {
             "outlinewidth": 0,
             "ticks": ""
            },
            "colorscale": [
             [
              0,
              "#0d0887"
             ],
             [
              0.1111111111111111,
              "#46039f"
             ],
             [
              0.2222222222222222,
              "#7201a8"
             ],
             [
              0.3333333333333333,
              "#9c179e"
             ],
             [
              0.4444444444444444,
              "#bd3786"
             ],
             [
              0.5555555555555556,
              "#d8576b"
             ],
             [
              0.6666666666666666,
              "#ed7953"
             ],
             [
              0.7777777777777778,
              "#fb9f3a"
             ],
             [
              0.8888888888888888,
              "#fdca26"
             ],
             [
              1,
              "#f0f921"
             ]
            ],
            "type": "surface"
           }
          ],
          "table": [
           {
            "cells": {
             "fill": {
              "color": "#EBF0F8"
             },
             "line": {
              "color": "white"
             }
            },
            "header": {
             "fill": {
              "color": "#C8D4E3"
             },
             "line": {
              "color": "white"
             }
            },
            "type": "table"
           }
          ]
         },
         "layout": {
          "annotationdefaults": {
           "arrowcolor": "#2a3f5f",
           "arrowhead": 0,
           "arrowwidth": 1
          },
          "autotypenumbers": "strict",
          "coloraxis": {
           "colorbar": {
            "outlinewidth": 0,
            "ticks": ""
           }
          },
          "colorscale": {
           "diverging": [
            [
             0,
             "#8e0152"
            ],
            [
             0.1,
             "#c51b7d"
            ],
            [
             0.2,
             "#de77ae"
            ],
            [
             0.3,
             "#f1b6da"
            ],
            [
             0.4,
             "#fde0ef"
            ],
            [
             0.5,
             "#f7f7f7"
            ],
            [
             0.6,
             "#e6f5d0"
            ],
            [
             0.7,
             "#b8e186"
            ],
            [
             0.8,
             "#7fbc41"
            ],
            [
             0.9,
             "#4d9221"
            ],
            [
             1,
             "#276419"
            ]
           ],
           "sequential": [
            [
             0,
             "#0d0887"
            ],
            [
             0.1111111111111111,
             "#46039f"
            ],
            [
             0.2222222222222222,
             "#7201a8"
            ],
            [
             0.3333333333333333,
             "#9c179e"
            ],
            [
             0.4444444444444444,
             "#bd3786"
            ],
            [
             0.5555555555555556,
             "#d8576b"
            ],
            [
             0.6666666666666666,
             "#ed7953"
            ],
            [
             0.7777777777777778,
             "#fb9f3a"
            ],
            [
             0.8888888888888888,
             "#fdca26"
            ],
            [
             1,
             "#f0f921"
            ]
           ],
           "sequentialminus": [
            [
             0,
             "#0d0887"
            ],
            [
             0.1111111111111111,
             "#46039f"
            ],
            [
             0.2222222222222222,
             "#7201a8"
            ],
            [
             0.3333333333333333,
             "#9c179e"
            ],
            [
             0.4444444444444444,
             "#bd3786"
            ],
            [
             0.5555555555555556,
             "#d8576b"
            ],
            [
             0.6666666666666666,
             "#ed7953"
            ],
            [
             0.7777777777777778,
             "#fb9f3a"
            ],
            [
             0.8888888888888888,
             "#fdca26"
            ],
            [
             1,
             "#f0f921"
            ]
           ]
          },
          "colorway": [
           "#636efa",
           "#EF553B",
           "#00cc96",
           "#ab63fa",
           "#FFA15A",
           "#19d3f3",
           "#FF6692",
           "#B6E880",
           "#FF97FF",
           "#FECB52"
          ],
          "font": {
           "color": "#2a3f5f"
          },
          "geo": {
           "bgcolor": "white",
           "lakecolor": "white",
           "landcolor": "#E5ECF6",
           "showlakes": true,
           "showland": true,
           "subunitcolor": "white"
          },
          "hoverlabel": {
           "align": "left"
          },
          "hovermode": "closest",
          "mapbox": {
           "style": "light"
          },
          "paper_bgcolor": "white",
          "plot_bgcolor": "#E5ECF6",
          "polar": {
           "angularaxis": {
            "gridcolor": "white",
            "linecolor": "white",
            "ticks": ""
           },
           "bgcolor": "#E5ECF6",
           "radialaxis": {
            "gridcolor": "white",
            "linecolor": "white",
            "ticks": ""
           }
          },
          "scene": {
           "xaxis": {
            "backgroundcolor": "#E5ECF6",
            "gridcolor": "white",
            "gridwidth": 2,
            "linecolor": "white",
            "showbackground": true,
            "ticks": "",
            "zerolinecolor": "white"
           },
           "yaxis": {
            "backgroundcolor": "#E5ECF6",
            "gridcolor": "white",
            "gridwidth": 2,
            "linecolor": "white",
            "showbackground": true,
            "ticks": "",
            "zerolinecolor": "white"
           },
           "zaxis": {
            "backgroundcolor": "#E5ECF6",
            "gridcolor": "white",
            "gridwidth": 2,
            "linecolor": "white",
            "showbackground": true,
            "ticks": "",
            "zerolinecolor": "white"
           }
          },
          "shapedefaults": {
           "line": {
            "color": "#2a3f5f"
           }
          },
          "ternary": {
           "aaxis": {
            "gridcolor": "white",
            "linecolor": "white",
            "ticks": ""
           },
           "baxis": {
            "gridcolor": "white",
            "linecolor": "white",
            "ticks": ""
           },
           "bgcolor": "#E5ECF6",
           "caxis": {
            "gridcolor": "white",
            "linecolor": "white",
            "ticks": ""
           }
          },
          "title": {
           "x": 0.05
          },
          "xaxis": {
           "automargin": true,
           "gridcolor": "white",
           "linecolor": "white",
           "ticks": "",
           "title": {
            "standoff": 15
           },
           "zerolinecolor": "white",
           "zerolinewidth": 2
          },
          "yaxis": {
           "automargin": true,
           "gridcolor": "white",
           "linecolor": "white",
           "ticks": "",
           "title": {
            "standoff": 15
           },
           "zerolinecolor": "white",
           "zerolinewidth": 2
          }
         }
        },
        "title": {
         "text": "Zusammenhang zwischen der Anzahl der Krankenhausbesuche und der Frühgeburten"
        },
        "xaxis": {
         "anchor": "y",
         "categoryarray": [
          0,
          1
         ],
         "categoryorder": "array",
         "domain": [
          0,
          1
         ],
         "title": {
          "text": "Frühgeburt?"
         }
        },
        "yaxis": {
         "anchor": "x",
         "domain": [
          0,
          1
         ],
         "title": {
          "text": "Anzahl der Krankenhausbesuche"
         }
        }
       }
      }
     },
     "metadata": {},
     "output_type": "display_data"
    }
   ],
   "source": [
    "# 7. Gibt es einen Zusammenhang zwischen der Anzahl der Krankenhausbesuche und der Frühgeburten?\n",
    "\n",
    "fig = px.box(\n",
    "    df_clean,\n",
    "    x=\"Frühgeburt\",\n",
    "    y=\"Krankenhausbesuche\",\n",
    "    color=\"Frühgeburt\",  # Farbe basiert auf dieser Spalte\n",
    "    color_discrete_map={\"Nein\": \"green\", \"Ja\": \"red\"},  # → individuelle Farben\n",
    "    points=\"all\",  # zeigt auch alle Einzelpunkte\n",
    "    title=\"Zusammenhang zwischen der Anzahl der Krankenhausbesuche und der Frühgeburten\",\n",
    "    labels={\n",
    "        \"Frühgeburt\": \"Frühgeburt?\",\n",
    "        \"Krankenhausbesuche\": \"Anzahl der Krankenhausbesuche\"\n",
    "    }\n",
    ")\n",
    "\n",
    "fig.update_traces(hovertemplate=\"Frühgeburt: %{x}<br>Krankenhausbesuche: %{y} g\")\n",
    "fig.show()"
   ]
  },
  {
   "cell_type": "code",
   "execution_count": 18,
   "id": "ca96b229",
   "metadata": {},
   "outputs": [
    {
     "data": {
      "image/png": "[encoded data removed]",
      "text/plain": [
       "<Figure size 640x480 with 2 Axes>"
      ]
     },
     "metadata": {},
     "output_type": "display_data"
    },
    {
     "data": {
      "text/html": [
       "<div>\n",
       "<style scoped>\n",
       "    .dataframe tbody tr th:only-of-type {\n",
       "        vertical-align: middle;\n",
       "    }\n",
       "\n",
       "    .dataframe tbody tr th {\n",
       "        vertical-align: top;\n",
       "    }\n",
       "\n",
       "    .dataframe thead th {\n",
       "        text-align: right;\n",
       "    }\n",
       "</style>\n",
       "<table border=\"1\" class=\"dataframe\">\n",
       "  <thead>\n",
       "    <tr style=\"text-align: right;\">\n",
       "      <th></th>\n",
       "      <th>Mutter raucht</th>\n",
       "      <th>Untergewicht</th>\n",
       "    </tr>\n",
       "  </thead>\n",
       "  <tbody>\n",
       "    <tr>\n",
       "      <th>Mutter raucht</th>\n",
       "      <td>1.000000</td>\n",
       "      <td>0.170849</td>\n",
       "    </tr>\n",
       "    <tr>\n",
       "      <th>Untergewicht</th>\n",
       "      <td>0.170849</td>\n",
       "      <td>1.000000</td>\n",
       "    </tr>\n",
       "  </tbody>\n",
       "</table>\n",
       "</div>"
      ],
      "text/plain": [
       "               Mutter raucht  Untergewicht\n",
       "Mutter raucht       1.000000      0.170849\n",
       "Untergewicht        0.170849      1.000000"
      ]
     },
     "execution_count": 18,
     "metadata": {},
     "output_type": "execute_result"
    }
   ],
   "source": [
    "# 8. Gibt es einen Zusammenhang zwischen Untergewicht und dem Rauchstatus?\n",
    "\n",
    "# Kreuztabelle mit Anteilen pro Zeile\n",
    "\n",
    "kreuz_rel = pd.crosstab(\n",
    "    df_clean[\"Mutter raucht\"],\n",
    "    df_clean[\"Untergewicht\"],\n",
    "    normalize=\"index\"  # pro Zeile (jede 'Mutter raucht'-Gruppe)\n",
    ")\n",
    "\n",
    "# Dezimalzahlen (0.25) → Prozentwerte (25.0)\n",
    "\n",
    "kreuz_percent = kreuz_rel * 100\n",
    "\n",
    "# Heatmap zeichnen mit Prozentwerten\n",
    "\n",
    "sns.heatmap(kreuz_percent, annot=True, fmt=\".1f\", cmap=\"Blues\",\n",
    "            cbar_kws={'label': 'Prozent (%)'})\n",
    "\n",
    "plt.title(\"Anteil Untergewicht (%) in Bezug zum Rauchstatus\")\n",
    "plt.xlabel(\"Untergewicht\")\n",
    "plt.ylabel(\"Mutter raucht\")\n",
    "plt.show()\n",
    "\n",
    "# Korrelation\n",
    "\n",
    "df_clean[[\"Mutter raucht\", \"Untergewicht\"]].corr()"
   ]
  },
  {
   "cell_type": "code",
   "execution_count": 17,
   "id": "5646759d",
   "metadata": {},
   "outputs": [
    {
     "data": {
      "image/png": "[encoded data removed]",
      "text/plain": [
       "<Figure size 640x480 with 2 Axes>"
      ]
     },
     "metadata": {},
     "output_type": "display_data"
    },
    {
     "data": {
      "text/html": [
       "<div>\n",
       "<style scoped>\n",
       "    .dataframe tbody tr th:only-of-type {\n",
       "        vertical-align: middle;\n",
       "    }\n",
       "\n",
       "    .dataframe tbody tr th {\n",
       "        vertical-align: top;\n",
       "    }\n",
       "\n",
       "    .dataframe thead th {\n",
       "        text-align: right;\n",
       "    }\n",
       "</style>\n",
       "<table border=\"1\" class=\"dataframe\">\n",
       "  <thead>\n",
       "    <tr style=\"text-align: right;\">\n",
       "      <th></th>\n",
       "      <th>Frühgeburt</th>\n",
       "      <th>Risikoschwangerschaft</th>\n",
       "    </tr>\n",
       "  </thead>\n",
       "  <tbody>\n",
       "    <tr>\n",
       "      <th>Frühgeburt</th>\n",
       "      <td>1.000000</td>\n",
       "      <td>0.029207</td>\n",
       "    </tr>\n",
       "    <tr>\n",
       "      <th>Risikoschwangerschaft</th>\n",
       "      <td>0.029207</td>\n",
       "      <td>1.000000</td>\n",
       "    </tr>\n",
       "  </tbody>\n",
       "</table>\n",
       "</div>"
      ],
      "text/plain": [
       "                       Frühgeburt  Risikoschwangerschaft\n",
       "Frühgeburt               1.000000               0.029207\n",
       "Risikoschwangerschaft    0.029207               1.000000"
      ]
     },
     "execution_count": 17,
     "metadata": {},
     "output_type": "execute_result"
    }
   ],
   "source": [
    "# 9. Gibt es einen Zusammenhang zwischen Riskoschwangerschaften und einer Frühgeburt?\n",
    "\n",
    "import seaborn as sns\n",
    "\n",
    "# Kreuztabelle mit Anteilen pro Zeile\n",
    "\n",
    "kreuz_rel = pd.crosstab(\n",
    "    df_clean[\"Risikoschwangerschaft\"],\n",
    "    df_clean[\"Frühgeburt\"],\n",
    "    normalize=\"index\"  # pro Zeile (jede 'Mutter raucht'-Gruppe)\n",
    ")\n",
    "\n",
    "# Dezimalzahlen (0.25) → Prozentwerte (25.0)\n",
    "\n",
    "kreuz_percent = kreuz_rel * 100\n",
    "\n",
    "# Heatmap zeichnen mit Prozentwerten\n",
    "\n",
    "sns.heatmap(kreuz_percent, annot=True, fmt=\".1f\", cmap=\"Blues\",\n",
    "            cbar_kws={'label': 'Prozent (%)'})\n",
    "\n",
    "plt.title(\"Anteil Frühgeburten (%) in Bezug zu Risikoschwangerchaften\")\n",
    "plt.xlabel(\"Frühgeburt\")\n",
    "plt.ylabel(\"Riskoschwangerschaft\")\n",
    "plt.show()\n",
    "\n",
    "# Korrelation?\n",
    "\n",
    "df_clean[[\"Frühgeburt\", \"Risikoschwangerschaft\"]].corr()"
   ]
  },
  {
   "cell_type": "code",
   "execution_count": 14,
   "id": "d308c2c5",
   "metadata": {},
   "outputs": [
    {
     "data": {
      "text/plain": [
       "Alter des Vaters                        85\n",
       "Alter der Mutter                        29\n",
       "Risikoschwangerschaft                    0\n",
       "Schwangerschaftsdauer [Wochen]          35\n",
       "Frühgeburt                               1\n",
       "Krankenhausbesuche                       8\n",
       "Gewichtszunahme Mutter                  21\n",
       "Geburtsgewicht Kind                  2.699\n",
       "Untergewicht                             0\n",
       "Geschlecht Kind                   weiblich\n",
       "Mutter raucht                            1\n",
       "Beziehungsstatus                     ledig\n",
       "Hautfarbe                             weiß\n",
       "Altersunterschied                     56.0\n",
       "Name: 435, dtype: object"
      ]
     },
     "execution_count": 14,
     "metadata": {},
     "output_type": "execute_result"
    }
   ],
   "source": [
    "df_clean[\"Altersunterschied\"] = abs(df[\"Alter der Mutter\"] - df[\"Alter des Vaters\"])\n",
    "\n",
    "df_clean.loc[df_clean[\"Altersunterschied\"].idxmax()]"
   ]
  },
  {
   "cell_type": "code",
   "execution_count": 15,
   "id": "ea67f06b",
   "metadata": {},
   "outputs": [
    {
     "data": {
      "image/png": "[encoded data removed]",
      "text/plain": [
       "<Figure size 640x480 with 1 Axes>"
      ]
     },
     "metadata": {},
     "output_type": "display_data"
    },
    {
     "data": {
      "text/html": [
       "<div>\n",
       "<style scoped>\n",
       "    .dataframe tbody tr th:only-of-type {\n",
       "        vertical-align: middle;\n",
       "    }\n",
       "\n",
       "    .dataframe tbody tr th {\n",
       "        vertical-align: top;\n",
       "    }\n",
       "\n",
       "    .dataframe thead th {\n",
       "        text-align: right;\n",
       "    }\n",
       "</style>\n",
       "<table border=\"1\" class=\"dataframe\">\n",
       "  <thead>\n",
       "    <tr style=\"text-align: right;\">\n",
       "      <th></th>\n",
       "      <th>Gewichtszunahme Mutter</th>\n",
       "      <th>Geburtsgewicht Kind</th>\n",
       "    </tr>\n",
       "  </thead>\n",
       "  <tbody>\n",
       "    <tr>\n",
       "      <th>Gewichtszunahme Mutter</th>\n",
       "      <td>1.000000</td>\n",
       "      <td>0.120355</td>\n",
       "    </tr>\n",
       "    <tr>\n",
       "      <th>Geburtsgewicht Kind</th>\n",
       "      <td>0.120355</td>\n",
       "      <td>1.000000</td>\n",
       "    </tr>\n",
       "  </tbody>\n",
       "</table>\n",
       "</div>"
      ],
      "text/plain": [
       "                        Gewichtszunahme Mutter  Geburtsgewicht Kind\n",
       "Gewichtszunahme Mutter                1.000000             0.120355\n",
       "Geburtsgewicht Kind                   0.120355             1.000000"
      ]
     },
     "execution_count": 15,
     "metadata": {},
     "output_type": "execute_result"
    }
   ],
   "source": [
    "# Werden Babys schwerer, je mehr Gewicht die Mutter in der Schwangerschaft zunimmt?\n",
    "\n",
    "import matplotlib.pyplot as plt\n",
    "\n",
    "# Streudiagramm zeichnen\n",
    "sns.scatterplot(data=df_clean, x=\"Gewichtszunahme Mutter\", y=\"Geburtsgewicht Kind\")\n",
    "\n",
    "# Achsenbeschriftung und Titel\n",
    "plt.xlabel(\"Gewichtszunahme Mutter\")\n",
    "plt.ylabel(\"Geburtsgewicht Kind\")\n",
    "plt.title(\"Zusammenhang: Gewichtszunahme der Mutter vs. Geburtsgewicht\")\n",
    "plt.tight_layout()\n",
    "plt.show()\n",
    "\n",
    "df_clean[[\"Gewichtszunahme Mutter\", \"Geburtsgewicht Kind\"]].corr()"
   ]
  }
 ],
 "metadata": {
  "kernelspec": {
   "display_name": "Python 3",
   "language": "python",
   "name": "python3"
  },
  "language_info": {
   "codemirror_mode": {
    "name": "ipython",
    "version": 3
   },
   "file_extension": ".py",
   "mimetype": "text/x-python",
   "name": "python",
   "nbconvert_exporter": "python",
   "pygments_lexer": "ipython3",
   "version": "3.13.3"
  }
 },
 "nbformat": 4,
 "nbformat_minor": 5
}
