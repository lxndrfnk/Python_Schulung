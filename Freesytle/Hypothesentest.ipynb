{
 "cells": [
  {
   "cell_type": "code",
   "execution_count": null,
   "id": "3bf5246f",
   "metadata": {},
   "outputs": [],
   "source": [
    "import math\n",
    "import pandas as pd\n",
    "import statistics"
   ]
  },
  {
   "cell_type": "code",
   "execution_count": null,
   "id": "4008bb3d",
   "metadata": {},
   "outputs": [
    {
     "name": "stdout",
     "output_type": "stream",
     "text": [
      "Schlafstunden    5.6\n",
      "dtype: float64\n"
     ]
    },
    {
     "data": {
      "text/html": [
       "<div>\n",
       "<style scoped>\n",
       "    .dataframe tbody tr th:only-of-type {\n",
       "        vertical-align: middle;\n",
       "    }\n",
       "\n",
       "    .dataframe tbody tr th {\n",
       "        vertical-align: top;\n",
       "    }\n",
       "\n",
       "    .dataframe thead th {\n",
       "        text-align: right;\n",
       "    }\n",
       "</style>\n",
       "<table border=\"1\" class=\"dataframe\">\n",
       "  <thead>\n",
       "    <tr style=\"text-align: right;\">\n",
       "      <th></th>\n",
       "      <th>Schlafstunden</th>\n",
       "    </tr>\n",
       "  </thead>\n",
       "  <tbody>\n",
       "    <tr>\n",
       "      <th>0</th>\n",
       "      <td>6.0</td>\n",
       "    </tr>\n",
       "    <tr>\n",
       "      <th>1</th>\n",
       "      <td>5.5</td>\n",
       "    </tr>\n",
       "    <tr>\n",
       "      <th>2</th>\n",
       "      <td>5.0</td>\n",
       "    </tr>\n",
       "    <tr>\n",
       "      <th>3</th>\n",
       "      <td>6.0</td>\n",
       "    </tr>\n",
       "    <tr>\n",
       "      <th>4</th>\n",
       "      <td>5.5</td>\n",
       "    </tr>\n",
       "  </tbody>\n",
       "</table>\n",
       "</div>"
      ],
      "text/plain": [
       "   Schlafstunden\n",
       "0            6.0\n",
       "1            5.5\n",
       "2            5.0\n",
       "3            6.0\n",
       "4            5.5"
      ]
     },
     "execution_count": 29,
     "metadata": {},
     "output_type": "execute_result"
    }
   ],
   "source": [
    "stichprobe = [6, 5.5, 5, 6, 5.5]\n",
    "\n",
    "df = pd.DataFrame(stichprobe, columns=[\"Schlafstunden\"])\n",
    "\n",
    "mittelwert = df.mean()\n",
    "\n",
    "print(mittelwert)\n",
    "\n",
    "df"
   ]
  },
  {
   "cell_type": "code",
   "execution_count": null,
   "id": "ebe991d1",
   "metadata": {},
   "outputs": [
    {
     "data": {
      "text/html": [
       "<div>\n",
       "<style scoped>\n",
       "    .dataframe tbody tr th:only-of-type {\n",
       "        vertical-align: middle;\n",
       "    }\n",
       "\n",
       "    .dataframe tbody tr th {\n",
       "        vertical-align: top;\n",
       "    }\n",
       "\n",
       "    .dataframe thead th {\n",
       "        text-align: right;\n",
       "    }\n",
       "</style>\n",
       "<table border=\"1\" class=\"dataframe\">\n",
       "  <thead>\n",
       "    <tr style=\"text-align: right;\">\n",
       "      <th></th>\n",
       "      <th>h</th>\n",
       "      <th>x_quer</th>\n",
       "      <th>h - x_quer</th>\n",
       "      <th>(h - x_quer)_quadrat</th>\n",
       "    </tr>\n",
       "  </thead>\n",
       "  <tbody>\n",
       "    <tr>\n",
       "      <th>Schüler 1</th>\n",
       "      <td>6.0</td>\n",
       "      <td>5.6</td>\n",
       "      <td>0.4</td>\n",
       "      <td>0.16</td>\n",
       "    </tr>\n",
       "    <tr>\n",
       "      <th>Schüler 2</th>\n",
       "      <td>5.5</td>\n",
       "      <td>5.6</td>\n",
       "      <td>-0.1</td>\n",
       "      <td>0.01</td>\n",
       "    </tr>\n",
       "    <tr>\n",
       "      <th>Schüler 3</th>\n",
       "      <td>5.0</td>\n",
       "      <td>5.6</td>\n",
       "      <td>-0.6</td>\n",
       "      <td>0.36</td>\n",
       "    </tr>\n",
       "    <tr>\n",
       "      <th>Schüler 4</th>\n",
       "      <td>6.0</td>\n",
       "      <td>5.6</td>\n",
       "      <td>0.4</td>\n",
       "      <td>0.16</td>\n",
       "    </tr>\n",
       "    <tr>\n",
       "      <th>Schüler 5</th>\n",
       "      <td>5.5</td>\n",
       "      <td>5.6</td>\n",
       "      <td>-0.1</td>\n",
       "      <td>0.01</td>\n",
       "    </tr>\n",
       "  </tbody>\n",
       "</table>\n",
       "</div>"
      ],
      "text/plain": [
       "             h  x_quer  h - x_quer  (h - x_quer)_quadrat\n",
       "Schüler 1  6.0     5.6         0.4                  0.16\n",
       "Schüler 2  5.5     5.6        -0.1                  0.01\n",
       "Schüler 3  5.0     5.6        -0.6                  0.36\n",
       "Schüler 4  6.0     5.6         0.4                  0.16\n",
       "Schüler 5  5.5     5.6        -0.1                  0.01"
      ]
     },
     "execution_count": 30,
     "metadata": {},
     "output_type": "execute_result"
    }
   ],
   "source": [
    "df = pd.DataFrame({ \"h\":[6.0, 5.5, 5.0, 6.0, 5.5], # Spalte 1 \n",
    "                    \"x_quer\":[5.6, 5.6, 5.6, 5.6, 5.6], # Spalte 2\n",
    "                    \"h - x_quer\":[6.0 - 5.6, 5.5 - 5.6, 5.0 - 5.6, 6.0 - 5.6, 5.5 - 5.6], # Spalte 3\n",
    "                    \"(h - x_quer)_quadrat\":[(6.0 - 5.6) ** 2, (5.5 - 5.6) ** 2, (5.0 - 5.6) ** 2, (6.0 - 5.6) ** 2, (5.5 - 5.6) ** 2]}, # Spalte 4\n",
    "                    index=[\"Schüler 1\", \"Schüler 2\", \"Schüler 3\", \"Schüler 4\", \"Schüler 5\"])\n",
    "\n",
    "df"
   ]
  }
 ],
 "metadata": {
  "kernelspec": {
   "display_name": "Python 3",
   "language": "python",
   "name": "python3"
  },
  "language_info": {
   "codemirror_mode": {
    "name": "ipython",
    "version": 3
   },
   "file_extension": ".py",
   "mimetype": "text/x-python",
   "name": "python",
   "nbconvert_exporter": "python",
   "pygments_lexer": "ipython3",
   "version": "3.13.3"
  }
 },
 "nbformat": 4,
 "nbformat_minor": 5
}
