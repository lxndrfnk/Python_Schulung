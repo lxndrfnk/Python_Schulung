{
 "cells": [
  {
   "cell_type": "code",
   "execution_count": 7,
   "id": "a9d2c566",
   "metadata": {},
   "outputs": [
    {
     "data": {
      "text/plain": [
       "0    Mamor\n",
       "1    Stein\n",
       "2    Eisen\n",
       "dtype: object"
      ]
     },
     "metadata": {},
     "output_type": "display_data"
    }
   ],
   "source": [
    "import pandas as pd\n",
    "\n",
    "# df_1 = pd.DataFrame([\"Hund\", \"Katze\", \"Maus\"], [\"Löwe\", \"Giraffe\", \"Elefant\"])\n",
    "\n",
    "# df_2 = pd.DataFrame([[\"Ich\", \"bin\"], [\"ein\", \"DataFrame\"]])\n",
    "\n",
    "# df_3 = pd.DataFrame([[22,5], [7,65], [15,3]])\n",
    "\n",
    "# series_1 = pd.Series([1,2,3])\n",
    "\n",
    "series_2 = pd.Series([\"Mamor\", \"Stein\" , \"Eisen\"])\n",
    "\n",
    "# display(df_1)\n",
    "# display(df_2)\n",
    "# display(df_3)\n",
    "# display(series_1)\n",
    "display(series_2)"
   ]
  }
 ],
 "metadata": {
  "kernelspec": {
   "display_name": "Python 3",
   "language": "python",
   "name": "python3"
  },
  "language_info": {
   "codemirror_mode": {
    "name": "ipython",
    "version": 3
   },
   "file_extension": ".py",
   "mimetype": "text/x-python",
   "name": "python",
   "nbconvert_exporter": "python",
   "pygments_lexer": "ipython3",
   "version": "3.13.3"
  }
 },
 "nbformat": 4,
 "nbformat_minor": 5
}
