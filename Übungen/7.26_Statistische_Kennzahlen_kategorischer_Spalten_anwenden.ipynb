{
 "cells": [
  {
   "cell_type": "code",
   "execution_count": 7,
   "id": "3117817d",
   "metadata": {},
   "outputs": [
    {
     "data": {
      "text/plain": [
       "Author\n",
       "Mann, Thomas                   2\n",
       "Hesse, Hermann                 2\n",
       "Rowling, J.K.                  2\n",
       "Tolkien, J.R.R.                1\n",
       "Ruiz Zafón, Carlos             1\n",
       "McCourt, Frank                 1\n",
       "Hahn, Ulla                     1\n",
       "Ende, Michael                  1\n",
       "Mulisch, Harry                 1\n",
       "Mitchell, Margaret             1\n",
       "Fontane, Theodor               1\n",
       "Brown, Dan                     1\n",
       "Eco, Umberto                   1\n",
       "Austen, Jane                   1\n",
       "Schlink, Bernhard              1\n",
       "Goethe, Johann Wolfgang von    1\n",
       "International Bible Society    1\n",
       "Allende, Isabel                1\n",
       "Gabaldon, Diana                1\n",
       "Funke, Cornelia                1\n",
       "Cross, Donna W.                1\n",
       "Coelho, Paulo                  1\n",
       "Gordon, Noah                   1\n",
       "Saint-Exupéry, Antoine de      1\n",
       "Süskind, Patrick               1\n",
       "Follett, Ken                   1\n",
       "Zimmer Bradley, Marion         1\n",
       "Name: count, dtype: int64"
      ]
     },
     "execution_count": 7,
     "metadata": {},
     "output_type": "execute_result"
    }
   ],
   "source": [
    "import pandas as pd\n",
    "\n",
    "df = pd.read_csv(\"bookstore.csv\")\n",
    "\n",
    "df[\"Title\"].nunique() # 30\n",
    "\n",
    "df[\"Author\"].nunique() # 27\n",
    "\n",
    "# einzigartige Einträge\n",
    "\n",
    "# doppelte Einträge\n",
    "\n",
    "df[\"Author\"].value_counts()"
   ]
  }
 ],
 "metadata": {
  "kernelspec": {
   "display_name": "Python 3",
   "language": "python",
   "name": "python3"
  },
  "language_info": {
   "codemirror_mode": {
    "name": "ipython",
    "version": 3
   },
   "file_extension": ".py",
   "mimetype": "text/x-python",
   "name": "python",
   "nbconvert_exporter": "python",
   "pygments_lexer": "ipython3",
   "version": "3.13.3"
  }
 },
 "nbformat": 4,
 "nbformat_minor": 5
}
