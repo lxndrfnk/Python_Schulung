{
 "cells": [
  {
   "cell_type": "code",
   "execution_count": 16,
   "id": "a2963f0f",
   "metadata": {},
   "outputs": [
    {
     "data": {
      "text/html": [
       "<div>\n",
       "<style scoped>\n",
       "    .dataframe tbody tr th:only-of-type {\n",
       "        vertical-align: middle;\n",
       "    }\n",
       "\n",
       "    .dataframe tbody tr th {\n",
       "        vertical-align: top;\n",
       "    }\n",
       "\n",
       "    .dataframe thead th {\n",
       "        text-align: right;\n",
       "    }\n",
       "</style>\n",
       "<table border=\"1\" class=\"dataframe\">\n",
       "  <thead>\n",
       "    <tr style=\"text-align: right;\">\n",
       "      <th></th>\n",
       "      <th>Lebensmittel</th>\n",
       "      <th>kcal</th>\n",
       "      <th>Eiweiß</th>\n",
       "      <th>Fett</th>\n",
       "    </tr>\n",
       "  </thead>\n",
       "  <tbody>\n",
       "    <tr>\n",
       "      <th>65</th>\n",
       "      <td>Äpfel</td>\n",
       "      <td>52</td>\n",
       "      <td>0.3</td>\n",
       "      <td>0.2</td>\n",
       "    </tr>\n",
       "    <tr>\n",
       "      <th>66</th>\n",
       "      <td>Hähnchenbrust</td>\n",
       "      <td>165</td>\n",
       "      <td>31.0</td>\n",
       "      <td>3.6</td>\n",
       "    </tr>\n",
       "    <tr>\n",
       "      <th>67</th>\n",
       "      <td>Reis</td>\n",
       "      <td>130</td>\n",
       "      <td>2.7</td>\n",
       "      <td>0.3</td>\n",
       "    </tr>\n",
       "  </tbody>\n",
       "</table>\n",
       "</div>"
      ],
      "text/plain": [
       "     Lebensmittel  kcal  Eiweiß  Fett\n",
       "65          Äpfel    52     0.3   0.2\n",
       "66  Hähnchenbrust   165    31.0   3.6\n",
       "67           Reis   130     2.7   0.3"
      ]
     },
     "execution_count": 16,
     "metadata": {},
     "output_type": "execute_result"
    }
   ],
   "source": [
    "import pandas as pd\n",
    "\n",
    "# series\n",
    "\n",
    "# series_1 = pd.Series([20, 21, 22, 23, 24, 25, 26, 27, 28, 29, 30])\n",
    "\n",
    "# series_1\n",
    "\n",
    "# df_1 (Tik Tak Toe)\n",
    "\n",
    "# df_1 = pd.DataFrame([[\"X\",\"O\",\"O\"], [\"O\",\"X\",\"O\"], [\"O\",\"O\",\"X\"]])\n",
    "\n",
    "# df_1\n",
    "\n",
    "# df_2 (Lebensmittel)\n",
    "\n",
    "df_2 = pd.DataFrame([[\"Äpfel\",52,0.3,0.2], [\"Hähnchenbrust\",165,31,3.6], [\"Reis\",130,2.7,0.3]], columns=[\"Lebensmittel\", \"kcal\", \"Eiweiß\", \"Fett\"], index=[65, 66, 67])\n",
    "\n",
    "df_2\n",
    "\n",
    "# df_3 (Personen)\n",
    "\n",
    "# df_3 = pd.DataFrame([[\"Luke Skywalker\",\"19 Jahre\"], [\"Darth Vader\",\"45 Jahre\"], [\"Leia Organa\",\"19 Jahre\"], [\"Yoda\",\"900 Jahre\"]])\n",
    "\n",
    "# df_3"
   ]
  }
 ],
 "metadata": {
  "kernelspec": {
   "display_name": "Python 3",
   "language": "python",
   "name": "python3"
  },
  "language_info": {
   "codemirror_mode": {
    "name": "ipython",
    "version": 3
   },
   "file_extension": ".py",
   "mimetype": "text/x-python",
   "name": "python",
   "nbconvert_exporter": "python",
   "pygments_lexer": "ipython3",
   "version": "3.13.3"
  }
 },
 "nbformat": 4,
 "nbformat_minor": 5
}
