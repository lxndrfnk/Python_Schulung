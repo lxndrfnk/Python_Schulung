{
 "cells": [
  {
   "cell_type": "code",
   "execution_count": 7,
   "id": "060d33d8",
   "metadata": {},
   "outputs": [],
   "source": [
    "import pandas as pd\n",
    "\n",
    "import pandas as pd\n",
    "\n",
    "df_elektronik = pd.DataFrame({\"Produkt 1\": [\"Laptop\",1200.50,\"Media Markt\",\"25.03.25\"], \"Produkt 2\": [\"Maus\",25.99,\"Amazon\",\"24.03.25\"], \"Produkt 3\": [\"Headset\",60,\"Saturn\",\"28.03.25\"]}, \n",
    "index=[\"Was ?\", \"Preis in €\", \"Lieferant\", \"Lieferdatum\"])\n",
    "\n",
    "# Als csv-Datei speichern\n",
    "\n",
    "df_elektronik.to_csv(\"Elektronik_Produkte.csv\")\n",
    "\n",
    "# Als Excel-Datei speichern\n",
    "\n",
    "df_elektronik.to_excel(\"Lieferdatum_Elektronik.xlsx\")"
   ]
  }
 ],
 "metadata": {
  "kernelspec": {
   "display_name": "Python 3",
   "language": "python",
   "name": "python3"
  },
  "language_info": {
   "codemirror_mode": {
    "name": "ipython",
    "version": 3
   },
   "file_extension": ".py",
   "mimetype": "text/x-python",
   "name": "python",
   "nbconvert_exporter": "python",
   "pygments_lexer": "ipython3",
   "version": "3.13.3"
  }
 },
 "nbformat": 4,
 "nbformat_minor": 5
}
