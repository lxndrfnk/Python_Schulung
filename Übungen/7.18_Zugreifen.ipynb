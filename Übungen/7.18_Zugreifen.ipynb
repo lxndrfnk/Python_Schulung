{
 "cells": [
  {
   "cell_type": "code",
   "execution_count": 1,
   "id": "41585bfe",
   "metadata": {},
   "outputs": [],
   "source": [
    "import pandas as pd"
   ]
  },
  {
   "cell_type": "code",
   "execution_count": 10,
   "id": "f7fbdbc3",
   "metadata": {},
   "outputs": [
    {
     "data": {
      "text/html": [
       "<div>\n",
       "<style scoped>\n",
       "    .dataframe tbody tr th:only-of-type {\n",
       "        vertical-align: middle;\n",
       "    }\n",
       "\n",
       "    .dataframe tbody tr th {\n",
       "        vertical-align: top;\n",
       "    }\n",
       "\n",
       "    .dataframe thead th {\n",
       "        text-align: right;\n",
       "    }\n",
       "</style>\n",
       "<table border=\"1\" class=\"dataframe\">\n",
       "  <thead>\n",
       "    <tr style=\"text-align: right;\">\n",
       "      <th></th>\n",
       "      <th>Title</th>\n",
       "      <th>Author</th>\n",
       "      <th>Publication Year</th>\n",
       "      <th>List Price</th>\n",
       "      <th>Sale Price</th>\n",
       "    </tr>\n",
       "  </thead>\n",
       "  <tbody>\n",
       "    <tr>\n",
       "      <th>27</th>\n",
       "      <td>Angela’s Ashes</td>\n",
       "      <td>McCourt, Frank</td>\n",
       "      <td>2003</td>\n",
       "      <td>24.95</td>\n",
       "      <td>1.29</td>\n",
       "    </tr>\n",
       "    <tr>\n",
       "      <th>28</th>\n",
       "      <td>Narcissus and Goldmund</td>\n",
       "      <td>Hesse, Hermann</td>\n",
       "      <td>2004</td>\n",
       "      <td>6.99</td>\n",
       "      <td>1.29</td>\n",
       "    </tr>\n",
       "    <tr>\n",
       "      <th>29</th>\n",
       "      <td>The Mists of Avalon</td>\n",
       "      <td>Zimmer Bradley, Marion</td>\n",
       "      <td>2000</td>\n",
       "      <td>5.99</td>\n",
       "      <td>1.29</td>\n",
       "    </tr>\n",
       "  </tbody>\n",
       "</table>\n",
       "</div>"
      ],
      "text/plain": [
       "                     Title                  Author  Publication Year  \\\n",
       "27          Angela’s Ashes          McCourt, Frank              2003   \n",
       "28  Narcissus and Goldmund          Hesse, Hermann              2004   \n",
       "29     The Mists of Avalon  Zimmer Bradley, Marion              2000   \n",
       "\n",
       "    List Price  Sale Price  \n",
       "27       24.95        1.29  \n",
       "28        6.99        1.29  \n",
       "29        5.99        1.29  "
      ]
     },
     "execution_count": 10,
     "metadata": {},
     "output_type": "execute_result"
    }
   ],
   "source": [
    "df = pd.read_csv(\"bookstore.csv\")\n",
    "\n",
    "# Aufgabe 1 (Buchtitel und Erscheinungsjahr)\n",
    "\n",
    "# display(df.loc[:, [\"Title\", \"Publication Year\"]])\n",
    "\n",
    "# Aufgabe 2 (Die Zeilen mit den Indexnummern 5,6,10 und 21)\n",
    "\n",
    "# display(df.iloc[[5, 6, 10, 21]])\n",
    "\n",
    "# Aufgabe 3 (Der Buchtitel und der Verkaufspreis aus Zeile 19)\n",
    "\n",
    "# display(df.loc[19, [\"Title\", \"Sale Price\"]])\n",
    "\n",
    "# Aufgabe 4 (Die letzten 3 Zeilen ohne den Zustand)\n",
    "\n",
    "df.tail(3).drop(columns=\"Condition\")"
   ]
  }
 ],
 "metadata": {
  "kernelspec": {
   "display_name": "Python 3",
   "language": "python",
   "name": "python3"
  },
  "language_info": {
   "codemirror_mode": {
    "name": "ipython",
    "version": 3
   },
   "file_extension": ".py",
   "mimetype": "text/x-python",
   "name": "python",
   "nbconvert_exporter": "python",
   "pygments_lexer": "ipython3",
   "version": "3.13.3"
  }
 },
 "nbformat": 4,
 "nbformat_minor": 5
}
