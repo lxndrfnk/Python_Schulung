{
 "cells": [
  {
   "cell_type": "code",
   "execution_count": null,
   "id": "67133582",
   "metadata": {},
   "outputs": [
    {
     "data": {
      "text/plain": [
       "Publication Year\n",
       "2003    6\n",
       "2006    5\n",
       "2005    3\n",
       "Name: count, dtype: int64"
      ]
     },
     "metadata": {},
     "output_type": "display_data"
    },
    {
     "name": "stdout",
     "output_type": "stream",
     "text": [
      "Anzahl einzigartiger Listenpreise:    11\n",
      "Anzahl einzigartiger Verkaufspreise:  8\n"
     ]
    },
    {
     "data": {
      "text/plain": [
       "List Price\n",
       "7.99    8\n",
       "6.99    6\n",
       "7.50    3\n",
       "Name: count, dtype: int64"
      ]
     },
     "metadata": {},
     "output_type": "display_data"
    },
    {
     "data": {
      "text/plain": [
       "Sale Price\n",
       "1.29    15\n",
       "1.49     4\n",
       "2.49     3\n",
       "Name: count, dtype: int64"
      ]
     },
     "metadata": {},
     "output_type": "display_data"
    }
   ],
   "source": [
    "import pandas as pd\n",
    "\n",
    "df = pd.read_csv(\"bookstore.csv\")\n",
    "\n",
    "# häufigste Publikation\n",
    "display(df.loc[:, \"Publication Year\"].value_counts().iloc[:3])\n",
    "\n",
    "# Anzahl einzigartiger Listen- und Verkaufspreise\n",
    "print(\"Anzahl einzigartiger Listenpreise:   \", df.loc[:, \"List Price\"].nunique())\n",
    "print(\"Anzahl einzigartiger Verkaufspreise: \", df.loc[:, \"Sale Price\"].nunique())\n",
    "\n",
    "# Häufigster Listen- und Verkaufspreis \n",
    "display(df.loc[:, \"List Price\"].value_counts().iloc[:3])\n",
    "display(df.loc[:, \"Sale Price\"].value_counts().iloc[:3])"
   ]
  }
 ],
 "metadata": {
  "kernelspec": {
   "display_name": "Python 3",
   "language": "python",
   "name": "python3"
  },
  "language_info": {
   "codemirror_mode": {
    "name": "ipython",
    "version": 3
   },
   "file_extension": ".py",
   "mimetype": "text/x-python",
   "name": "python",
   "nbconvert_exporter": "python",
   "pygments_lexer": "ipython3",
   "version": "3.13.3"
  }
 },
 "nbformat": 4,
 "nbformat_minor": 5
}
