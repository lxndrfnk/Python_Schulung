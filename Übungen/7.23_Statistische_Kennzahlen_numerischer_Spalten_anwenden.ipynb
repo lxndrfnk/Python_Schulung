{
 "cells": [
  {
   "cell_type": "code",
   "execution_count": null,
   "id": "adf77e8d",
   "metadata": {},
   "outputs": [
    {
     "data": {
      "text/plain": [
       "np.float64(0.5006777016400272)"
      ]
     },
     "execution_count": 18,
     "metadata": {},
     "output_type": "execute_result"
    }
   ],
   "source": [
    "import pandas as pd\n",
    "\n",
    "df = pd.read_csv(\"bookstore.csv\")\n",
    "\n",
    "# Zeitraum der Publikation der Bücher\n",
    "\n",
    "# df[\"Publication Year\"].min()\n",
    "\n",
    "# df[\"Publication Year\"].max()\n",
    "\n",
    "# display(df[\"Publication Year\"].max() - df[\"Publication Year\"].min())\n",
    "\n",
    "# Unterschied Mittelwert und Median (\"List Price\")\n",
    "\n",
    "# df[\"List Price\"].mean() # 11.70\n",
    "\n",
    "# df[\"List Price\"].median() # 7.99\n",
    "\n",
    "# Fehlende Zahlen?\n",
    "\n",
    "# Größte Standardabweichung\n",
    "\n",
    "# df[\"Publication Year\"].std() # 6.28\n",
    "\n",
    "# df[\"List Price\"].std() # 7.41\n",
    "\n",
    "# df[\"Sale Price\"].std() # 0.50\n",
    "\n"
   ]
  }
 ],
 "metadata": {
  "kernelspec": {
   "display_name": "Python 3",
   "language": "python",
   "name": "python3"
  },
  "language_info": {
   "codemirror_mode": {
    "name": "ipython",
    "version": 3
   },
   "file_extension": ".py",
   "mimetype": "text/x-python",
   "name": "python",
   "nbconvert_exporter": "python",
   "pygments_lexer": "ipython3",
   "version": "3.13.3"
  }
 },
 "nbformat": 4,
 "nbformat_minor": 5
}
