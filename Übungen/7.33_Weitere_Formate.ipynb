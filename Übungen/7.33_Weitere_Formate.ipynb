{
 "cells": [
  {
   "cell_type": "code",
   "execution_count": 1,
   "id": "89e8e337",
   "metadata": {},
   "outputs": [
    {
     "data": {
      "text/html": [
       "<div>\n",
       "<style scoped>\n",
       "    .dataframe tbody tr th:only-of-type {\n",
       "        vertical-align: middle;\n",
       "    }\n",
       "\n",
       "    .dataframe tbody tr th {\n",
       "        vertical-align: top;\n",
       "    }\n",
       "\n",
       "    .dataframe thead th {\n",
       "        text-align: right;\n",
       "    }\n",
       "</style>\n",
       "<table border=\"1\" class=\"dataframe\">\n",
       "  <thead>\n",
       "    <tr style=\"text-align: right;\">\n",
       "      <th></th>\n",
       "      <th>Spalte 1</th>\n",
       "      <th>Spalte 2</th>\n",
       "    </tr>\n",
       "  </thead>\n",
       "  <tbody>\n",
       "    <tr>\n",
       "      <th>Zeile 1</th>\n",
       "      <td>1</td>\n",
       "      <td>4</td>\n",
       "    </tr>\n",
       "    <tr>\n",
       "      <th>Zeile 2</th>\n",
       "      <td>2</td>\n",
       "      <td>5</td>\n",
       "    </tr>\n",
       "    <tr>\n",
       "      <th>Zeile 3</th>\n",
       "      <td>3</td>\n",
       "      <td>6</td>\n",
       "    </tr>\n",
       "  </tbody>\n",
       "</table>\n",
       "</div>"
      ],
      "text/plain": [
       "         Spalte 1  Spalte 2\n",
       "Zeile 1         1         4\n",
       "Zeile 2         2         5\n",
       "Zeile 3         3         6"
      ]
     },
     "metadata": {},
     "output_type": "display_data"
    }
   ],
   "source": [
    "import pandas as pd\n",
    "\n",
    "df = pd.DataFrame({\"Spalte 1\": [1,2,3], \"Spalte 2\": [4,5,6]}, index=[\"Zeile 1\", \"Zeile 2\", \"Zeile 3\"])\n",
    "\n",
    "display(df)"
   ]
  },
  {
   "cell_type": "code",
   "execution_count": null,
   "id": "a315a39c",
   "metadata": {},
   "outputs": [
    {
     "data": {
      "text/html": [
       "<div>\n",
       "<style scoped>\n",
       "    .dataframe tbody tr th:only-of-type {\n",
       "        vertical-align: middle;\n",
       "    }\n",
       "\n",
       "    .dataframe tbody tr th {\n",
       "        vertical-align: top;\n",
       "    }\n",
       "\n",
       "    .dataframe thead th {\n",
       "        text-align: right;\n",
       "    }\n",
       "</style>\n",
       "<table border=\"1\" class=\"dataframe\">\n",
       "  <thead>\n",
       "    <tr style=\"text-align: right;\">\n",
       "      <th></th>\n",
       "      <th>Item 1</th>\n",
       "      <th>Item 2</th>\n",
       "      <th>Item 3</th>\n",
       "    </tr>\n",
       "  </thead>\n",
       "  <tbody>\n",
       "    <tr>\n",
       "      <th>Was ?</th>\n",
       "      <td>Diamant</td>\n",
       "      <td>Eisenspitzhacke</td>\n",
       "      <td>Goldapfel</td>\n",
       "    </tr>\n",
       "    <tr>\n",
       "      <th>Kategorie</th>\n",
       "      <td>Erz</td>\n",
       "      <td>Werkzeug</td>\n",
       "      <td>Nahrung</td>\n",
       "    </tr>\n",
       "    <tr>\n",
       "      <th>Zauber</th>\n",
       "      <td>nicht verzauberbar</td>\n",
       "      <td>verzauberbar</td>\n",
       "      <td>nicht verzauberbar</td>\n",
       "    </tr>\n",
       "  </tbody>\n",
       "</table>\n",
       "</div>"
      ],
      "text/plain": [
       "                       Item 1           Item 2              Item 3\n",
       "Was ?                 Diamant  Eisenspitzhacke           Goldapfel\n",
       "Kategorie                 Erz         Werkzeug             Nahrung\n",
       "Zauber     nicht verzauberbar     verzauberbar  nicht verzauberbar"
      ]
     },
     "metadata": {},
     "output_type": "display_data"
    }
   ],
   "source": [
    "import pandas as pd\n",
    "\n",
    "df = pd.DataFrame({\"Item 1\": [\"Diamant\",\"Erz\",\"nicht verzauberbar\"], \"Item 2\": [\"Eisenspitzhacke\",\"Werkzeug\",\"verzauberbar\"], \"Item 3\": [\"Goldapfel\",\"Nahrung\",\"nicht verzauberbar\"]}, \n",
    "index=[\"Was ?\", \"Kategorie\", \"Zauber\"])\n",
    "\n",
    "display(df)"
   ]
  },
  {
   "cell_type": "code",
   "execution_count": 4,
   "id": "551141de",
   "metadata": {},
   "outputs": [
    {
     "data": {
      "text/html": [
       "<div>\n",
       "<style scoped>\n",
       "    .dataframe tbody tr th:only-of-type {\n",
       "        vertical-align: middle;\n",
       "    }\n",
       "\n",
       "    .dataframe tbody tr th {\n",
       "        vertical-align: top;\n",
       "    }\n",
       "\n",
       "    .dataframe thead th {\n",
       "        text-align: right;\n",
       "    }\n",
       "</style>\n",
       "<table border=\"1\" class=\"dataframe\">\n",
       "  <thead>\n",
       "    <tr style=\"text-align: right;\">\n",
       "      <th></th>\n",
       "      <th>Produkt 1</th>\n",
       "      <th>Produkt 2</th>\n",
       "      <th>Produkt 3</th>\n",
       "    </tr>\n",
       "  </thead>\n",
       "  <tbody>\n",
       "    <tr>\n",
       "      <th>Was ?</th>\n",
       "      <td>Laptop</td>\n",
       "      <td>Maus</td>\n",
       "      <td>Headset</td>\n",
       "    </tr>\n",
       "    <tr>\n",
       "      <th>Preis in €</th>\n",
       "      <td>1200.5</td>\n",
       "      <td>25.99</td>\n",
       "      <td>60</td>\n",
       "    </tr>\n",
       "    <tr>\n",
       "      <th>Lieferant</th>\n",
       "      <td>Media Markt</td>\n",
       "      <td>Amazon</td>\n",
       "      <td>Saturn</td>\n",
       "    </tr>\n",
       "    <tr>\n",
       "      <th>Lieferdatum</th>\n",
       "      <td>25.03.25</td>\n",
       "      <td>24.03.25</td>\n",
       "      <td>28.03.25</td>\n",
       "    </tr>\n",
       "  </tbody>\n",
       "</table>\n",
       "</div>"
      ],
      "text/plain": [
       "               Produkt 1 Produkt 2 Produkt 3\n",
       "Was ?             Laptop      Maus   Headset\n",
       "Preis in €        1200.5     25.99        60\n",
       "Lieferant    Media Markt    Amazon    Saturn\n",
       "Lieferdatum     25.03.25  24.03.25  28.03.25"
      ]
     },
     "metadata": {},
     "output_type": "display_data"
    }
   ],
   "source": [
    "import pandas as pd\n",
    "\n",
    "df = pd.DataFrame({\"Produkt 1\": [\"Laptop\",1200.50,\"Media Markt\",\"25.03.25\"], \"Produkt 2\": [\"Maus\",25.99,\"Amazon\",\"24.03.25\"], \"Produkt 3\": [\"Headset\",60,\"Saturn\",\"28.03.25\"]}, \n",
    "index=[\"Was ?\", \"Preis in €\", \"Lieferant\", \"Lieferdatum\"])\n",
    "\n",
    "display(df)"
   ]
  }
 ],
 "metadata": {
  "kernelspec": {
   "display_name": "Python 3",
   "language": "python",
   "name": "python3"
  },
  "language_info": {
   "codemirror_mode": {
    "name": "ipython",
    "version": 3
   },
   "file_extension": ".py",
   "mimetype": "text/x-python",
   "name": "python",
   "nbconvert_exporter": "python",
   "pygments_lexer": "ipython3",
   "version": "3.13.3"
  }
 },
 "nbformat": 4,
 "nbformat_minor": 5
}
