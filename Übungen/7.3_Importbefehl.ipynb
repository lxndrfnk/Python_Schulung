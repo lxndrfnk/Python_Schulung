{
 "cells": [
  {
   "cell_type": "code",
   "execution_count": 1,
   "id": "a5132bd8",
   "metadata": {},
   "outputs": [
    {
     "name": "stdout",
     "output_type": "stream",
     "text": [
      "4\n",
      "3\n",
      "3.141592653589793\n"
     ]
    }
   ],
   "source": [
    "# Im folgenden sollen in zwei Beispielen einige Objekte aus dem Modul math benutzt werden, allerdings fehlt jeweils der import Befehl. \n",
    "# Ergänze jeweils den Code durch einen passenden importBefehl, sondass der darauf folgende Code ausgegeben wird und nicht zu einer Fehlermeldung führt.\n",
    "\n",
    "# Import\n",
    "\n",
    "\n",
    "# Aufrunden, Abrunden, pi\n",
    "\n",
    "import math\n",
    "\n",
    "print(math.ceil(3.1))\n",
    "print(math.floor(3.7))\n",
    "print(math.pi)"
   ]
  },
  {
   "cell_type": "code",
   "execution_count": null,
   "id": "7e11b356",
   "metadata": {},
   "outputs": [
    {
     "name": "stdout",
     "output_type": "stream",
     "text": [
      "4\n",
      "3\n",
      "3.141592653589793\n"
     ]
    }
   ],
   "source": [
    "# Aufrunden, Abrunden, pi\n",
    "\n",
    "print(math.ceil(3.1))\n",
    "print(math.floor(3.7))\n",
    "print(math.pi)"
   ]
  }
 ],
 "metadata": {
  "kernelspec": {
   "display_name": "Python 3",
   "language": "python",
   "name": "python3"
  },
  "language_info": {
   "codemirror_mode": {
    "name": "ipython",
    "version": 3
   },
   "file_extension": ".py",
   "mimetype": "text/x-python",
   "name": "python",
   "nbconvert_exporter": "python",
   "pygments_lexer": "ipython3",
   "version": "3.13.3"
  }
 },
 "nbformat": 4,
 "nbformat_minor": 5
}
