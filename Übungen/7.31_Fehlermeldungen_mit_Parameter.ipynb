{
 "cells": [
  {
   "cell_type": "code",
   "execution_count": 12,
   "id": "0fec4fb2",
   "metadata": {},
   "outputs": [
    {
     "data": {
      "text/plain": [
       "M    Mamor\n",
       "S    Stein\n",
       "E    Eisen\n",
       "dtype: object"
      ]
     },
     "metadata": {},
     "output_type": "display_data"
    }
   ],
   "source": [
    "import pandas as pd\n",
    "\n",
    "# df_1 = pd.DataFrame([[\"Löwe\", \"Luchs\", \"Leopard\"], [\"Elefant\", \"Elch\", \"Elefant\"]], columns=[\"Afrika\", \"Europa\", \"Asien\"], index=[\"L\", \"E\"])\n",
    "\n",
    "# df_2 = pd.DataFrame([[1,2], [3,4], [5,6], [7,8]], columns=[\"ungerade\", \"gerade\"])\n",
    "\n",
    "# df_3 = pd.DataFrame([[22,5], [7,65], [15,3]], index=[\"Eigenschaft 1\", \"Eigenschaft 2\", \"Eigenschaft 3\"], columns=[\"Zeitpunkt 1\", \"Zeitpunkt 2\"])\n",
    "\n",
    "# series_1 = pd.Series([\"Apfel\", \"Birne\" , \"Kirsche\"], index=[7,8,9])\n",
    "\n",
    "series_2 = pd.Series([\"Mamor\", \"Stein\", \"Eisen\"], index=[\"M\", \"S\", \"E\"])\n",
    "\n",
    "# display(df_1)\n",
    "# display(df_2)\n",
    "# display(df_3)\n",
    "# display(series_1)\n",
    "display(series_2)\n"
   ]
  }
 ],
 "metadata": {
  "kernelspec": {
   "display_name": "Python 3",
   "language": "python",
   "name": "python3"
  },
  "language_info": {
   "codemirror_mode": {
    "name": "ipython",
    "version": 3
   },
   "file_extension": ".py",
   "mimetype": "text/x-python",
   "name": "python",
   "nbconvert_exporter": "python",
   "pygments_lexer": "ipython3",
   "version": "3.13.3"
  }
 },
 "nbformat": 4,
 "nbformat_minor": 5
}
