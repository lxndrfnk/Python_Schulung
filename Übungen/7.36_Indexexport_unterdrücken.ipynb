{
 "cells": [
  {
   "cell_type": "code",
   "execution_count": null,
   "id": "4e44ac44",
   "metadata": {},
   "outputs": [],
   "source": [
    "import pandas as pd\n",
    "\n",
    "df = pd.DataFrame({'Tier': ['Hund', 'Adler', 'Hai', 'Elefant', 'Frosch'],\n",
    "                   'Lebensraum': ['Haushalt', 'Luft', 'Meer', 'Savanne', 'Süßwasser'],\n",
    "                   'Beine': [4, 2, 0, 4, 4],\n",
    "                   'Größe (cm)': [50, 85, 400, 300, 10]})\n",
    "\n",
    "df.to_csv(\"Tierarten.csv\", index=False)"
   ]
  }
 ],
 "metadata": {
  "kernelspec": {
   "display_name": "Python 3",
   "language": "python",
   "name": "python3"
  },
  "language_info": {
   "codemirror_mode": {
    "name": "ipython",
    "version": 3
   },
   "file_extension": ".py",
   "mimetype": "text/x-python",
   "name": "python",
   "nbconvert_exporter": "python",
   "pygments_lexer": "ipython3",
   "version": "3.13.3"
  }
 },
 "nbformat": 4,
 "nbformat_minor": 5
}
