{
 "cells": [
  {
   "cell_type": "code",
   "execution_count": 5,
   "id": "c2441d9f",
   "metadata": {},
   "outputs": [
    {
     "data": {
      "application/vnd.plotly.v1+json": {
       "config": {
        "plotlyServerURL": "https://plot.ly"
       },
       "data": [
        {
         "hovertemplate": "BIP pro Kopf=%{x}<br>Lebenserwartung=%{y}<extra></extra>",
         "legendgroup": "",
         "marker": {
          "color": "#636efa",
          "symbol": "circle"
         },
         "mode": "markers",
         "name": "",
         "orientation": "v",
         "showlegend": false,
         "type": "scatter",
         "x": {
          "bdata": "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",
          "dtype": "f8"
         },
         "xaxis": "x",
         "y": {
          "bdata": "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",
          "dtype": "f8"
         },
         "yaxis": "y"
        }
       ],
       "layout": {
        "legend": {
         "tracegroupgap": 0
        },
        "margin": {
         "t": 60
        },
        "template": {
         "data": {
          "bar": [
           {
            "error_x": {
             "color": "#2a3f5f"
            },
            "error_y": {
             "color": "#2a3f5f"
            },
            "marker": {
             "line": {
              "color": "#E5ECF6",
              "width": 0.5
             },
             "pattern": {
              "fillmode": "overlay",
              "size": 10,
              "solidity": 0.2
             }
            },
            "type": "bar"
           }
          ],
          "barpolar": [
           {
            "marker": {
             "line": {
              "color": "#E5ECF6",
              "width": 0.5
             },
             "pattern": {
              "fillmode": "overlay",
              "size": 10,
              "solidity": 0.2
             }
            },
            "type": "barpolar"
           }
          ],
          "carpet": [
           {
            "aaxis": {
             "endlinecolor": "#2a3f5f",
             "gridcolor": "white",
             "linecolor": "white",
             "minorgridcolor": "white",
             "startlinecolor": "#2a3f5f"
            },
            "baxis": {
             "endlinecolor": "#2a3f5f",
             "gridcolor": "white",
             "linecolor": "white",
             "minorgridcolor": "white",
             "startlinecolor": "#2a3f5f"
            },
            "type": "carpet"
           }
          ],
          "choropleth": [
           {
            "colorbar": {
             "outlinewidth": 0,
             "ticks": ""
            },
            "type": "choropleth"
           }
          ],
          "contour": [
           {
            "colorbar": {
             "outlinewidth": 0,
             "ticks": ""
            },
            "colorscale": [
             [
              0,
              "#0d0887"
             ],
             [
              0.1111111111111111,
              "#46039f"
             ],
             [
              0.2222222222222222,
              "#7201a8"
             ],
             [
              0.3333333333333333,
              "#9c179e"
             ],
             [
              0.4444444444444444,
              "#bd3786"
             ],
             [
              0.5555555555555556,
              "#d8576b"
             ],
             [
              0.6666666666666666,
              "#ed7953"
             ],
             [
              0.7777777777777778,
              "#fb9f3a"
             ],
             [
              0.8888888888888888,
              "#fdca26"
             ],
             [
              1,
              "#f0f921"
             ]
            ],
            "type": "contour"
           }
          ],
          "contourcarpet": [
           {
            "colorbar": {
             "outlinewidth": 0,
             "ticks": ""
            },
            "type": "contourcarpet"
           }
          ],
          "heatmap": [
           {
            "colorbar": {
             "outlinewidth": 0,
             "ticks": ""
            },
            "colorscale": [
             [
              0,
              "#0d0887"
             ],
             [
              0.1111111111111111,
              "#46039f"
             ],
             [
              0.2222222222222222,
              "#7201a8"
             ],
             [
              0.3333333333333333,
              "#9c179e"
             ],
             [
              0.4444444444444444,
              "#bd3786"
             ],
             [
              0.5555555555555556,
              "#d8576b"
             ],
             [
              0.6666666666666666,
              "#ed7953"
             ],
             [
              0.7777777777777778,
              "#fb9f3a"
             ],
             [
              0.8888888888888888,
              "#fdca26"
             ],
             [
              1,
              "#f0f921"
             ]
            ],
            "type": "heatmap"
           }
          ],
          "histogram": [
           {
            "marker": {
             "pattern": {
              "fillmode": "overlay",
              "size": 10,
              "solidity": 0.2
             }
            },
            "type": "histogram"
           }
          ],
          "histogram2d": [
           {
            "colorbar": {
             "outlinewidth": 0,
             "ticks": ""
            },
            "colorscale": [
             [
              0,
              "#0d0887"
             ],
             [
              0.1111111111111111,
              "#46039f"
             ],
             [
              0.2222222222222222,
              "#7201a8"
             ],
             [
              0.3333333333333333,
              "#9c179e"
             ],
             [
              0.4444444444444444,
              "#bd3786"
             ],
             [
              0.5555555555555556,
              "#d8576b"
             ],
             [
              0.6666666666666666,
              "#ed7953"
             ],
             [
              0.7777777777777778,
              "#fb9f3a"
             ],
             [
              0.8888888888888888,
              "#fdca26"
             ],
             [
              1,
              "#f0f921"
             ]
            ],
            "type": "histogram2d"
           }
          ],
          "histogram2dcontour": [
           {
            "colorbar": {
             "outlinewidth": 0,
             "ticks": ""
            },
            "colorscale": [
             [
              0,
              "#0d0887"
             ],
             [
              0.1111111111111111,
              "#46039f"
             ],
             [
              0.2222222222222222,
              "#7201a8"
             ],
             [
              0.3333333333333333,
              "#9c179e"
             ],
             [
              0.4444444444444444,
              "#bd3786"
             ],
             [
              0.5555555555555556,
              "#d8576b"
             ],
             [
              0.6666666666666666,
              "#ed7953"
             ],
             [
              0.7777777777777778,
              "#fb9f3a"
             ],
             [
              0.8888888888888888,
              "#fdca26"
             ],
             [
              1,
              "#f0f921"
             ]
            ],
            "type": "histogram2dcontour"
           }
          ],
          "mesh3d": [
           {
            "colorbar": {
             "outlinewidth": 0,
             "ticks": ""
            },
            "type": "mesh3d"
           }
          ],
          "parcoords": [
           {
            "line": {
             "colorbar": {
              "outlinewidth": 0,
              "ticks": ""
             }
            },
            "type": "parcoords"
           }
          ],
          "pie": [
           {
            "automargin": true,
            "type": "pie"
           }
          ],
          "scatter": [
           {
            "fillpattern": {
             "fillmode": "overlay",
             "size": 10,
             "solidity": 0.2
            },
            "type": "scatter"
           }
          ],
          "scatter3d": [
           {
            "line": {
             "colorbar": {
              "outlinewidth": 0,
              "ticks": ""
             }
            },
            "marker": {
             "colorbar": {
              "outlinewidth": 0,
              "ticks": ""
             }
            },
            "type": "scatter3d"
           }
          ],
          "scattercarpet": [
           {
            "marker": {
             "colorbar": {
              "outlinewidth": 0,
              "ticks": ""
             }
            },
            "type": "scattercarpet"
           }
          ],
          "scattergeo": [
           {
            "marker": {
             "colorbar": {
              "outlinewidth": 0,
              "ticks": ""
             }
            },
            "type": "scattergeo"
           }
          ],
          "scattergl": [
           {
            "marker": {
             "colorbar": {
              "outlinewidth": 0,
              "ticks": ""
             }
            },
            "type": "scattergl"
           }
          ],
          "scattermap": [
           {
            "marker": {
             "colorbar": {
              "outlinewidth": 0,
              "ticks": ""
             }
            },
            "type": "scattermap"
           }
          ],
          "scattermapbox": [
           {
            "marker": {
             "colorbar": {
              "outlinewidth": 0,
              "ticks": ""
             }
            },
            "type": "scattermapbox"
           }
          ],
          "scatterpolar": [
           {
            "marker": {
             "colorbar": {
              "outlinewidth": 0,
              "ticks": ""
             }
            },
            "type": "scatterpolar"
           }
          ],
          "scatterpolargl": [
           {
            "marker": {
             "colorbar": {
              "outlinewidth": 0,
              "ticks": ""
             }
            },
            "type": "scatterpolargl"
           }
          ],
          "scatterternary": [
           {
            "marker": {
             "colorbar": {
              "outlinewidth": 0,
              "ticks": ""
             }
            },
            "type": "scatterternary"
           }
          ],
          "surface": [
           {
            "colorbar": {
             "outlinewidth": 0,
             "ticks": ""
            },
            "colorscale": [
             [
              0,
              "#0d0887"
             ],
             [
              0.1111111111111111,
              "#46039f"
             ],
             [
              0.2222222222222222,
              "#7201a8"
             ],
             [
              0.3333333333333333,
              "#9c179e"
             ],
             [
              0.4444444444444444,
              "#bd3786"
             ],
             [
              0.5555555555555556,
              "#d8576b"
             ],
             [
              0.6666666666666666,
              "#ed7953"
             ],
             [
              0.7777777777777778,
              "#fb9f3a"
             ],
             [
              0.8888888888888888,
              "#fdca26"
             ],
             [
              1,
              "#f0f921"
             ]
            ],
            "type": "surface"
           }
          ],
          "table": [
           {
            "cells": {
             "fill": {
              "color": "#EBF0F8"
             },
             "line": {
              "color": "white"
             }
            },
            "header": {
             "fill": {
              "color": "#C8D4E3"
             },
             "line": {
              "color": "white"
             }
            },
            "type": "table"
           }
          ]
         },
         "layout": {
          "annotationdefaults": {
           "arrowcolor": "#2a3f5f",
           "arrowhead": 0,
           "arrowwidth": 1
          },
          "autotypenumbers": "strict",
          "coloraxis": {
           "colorbar": {
            "outlinewidth": 0,
            "ticks": ""
           }
          },
          "colorscale": {
           "diverging": [
            [
             0,
             "#8e0152"
            ],
            [
             0.1,
             "#c51b7d"
            ],
            [
             0.2,
             "#de77ae"
            ],
            [
             0.3,
             "#f1b6da"
            ],
            [
             0.4,
             "#fde0ef"
            ],
            [
             0.5,
             "#f7f7f7"
            ],
            [
             0.6,
             "#e6f5d0"
            ],
            [
             0.7,
             "#b8e186"
            ],
            [
             0.8,
             "#7fbc41"
            ],
            [
             0.9,
             "#4d9221"
            ],
            [
             1,
             "#276419"
            ]
           ],
           "sequential": [
            [
             0,
             "#0d0887"
            ],
            [
             0.1111111111111111,
             "#46039f"
            ],
            [
             0.2222222222222222,
             "#7201a8"
            ],
            [
             0.3333333333333333,
             "#9c179e"
            ],
            [
             0.4444444444444444,
             "#bd3786"
            ],
            [
             0.5555555555555556,
             "#d8576b"
            ],
            [
             0.6666666666666666,
             "#ed7953"
            ],
            [
             0.7777777777777778,
             "#fb9f3a"
            ],
            [
             0.8888888888888888,
             "#fdca26"
            ],
            [
             1,
             "#f0f921"
            ]
           ],
           "sequentialminus": [
            [
             0,
             "#0d0887"
            ],
            [
             0.1111111111111111,
             "#46039f"
            ],
            [
             0.2222222222222222,
             "#7201a8"
            ],
            [
             0.3333333333333333,
             "#9c179e"
            ],
            [
             0.4444444444444444,
             "#bd3786"
            ],
            [
             0.5555555555555556,
             "#d8576b"
            ],
            [
             0.6666666666666666,
             "#ed7953"
            ],
            [
             0.7777777777777778,
             "#fb9f3a"
            ],
            [
             0.8888888888888888,
             "#fdca26"
            ],
            [
             1,
             "#f0f921"
            ]
           ]
          },
          "colorway": [
           "#636efa",
           "#EF553B",
           "#00cc96",
           "#ab63fa",
           "#FFA15A",
           "#19d3f3",
           "#FF6692",
           "#B6E880",
           "#FF97FF",
           "#FECB52"
          ],
          "font": {
           "color": "#2a3f5f"
          },
          "geo": {
           "bgcolor": "white",
           "lakecolor": "white",
           "landcolor": "#E5ECF6",
           "showlakes": true,
           "showland": true,
           "subunitcolor": "white"
          },
          "hoverlabel": {
           "align": "left"
          },
          "hovermode": "closest",
          "mapbox": {
           "style": "light"
          },
          "paper_bgcolor": "white",
          "plot_bgcolor": "#E5ECF6",
          "polar": {
           "angularaxis": {
            "gridcolor": "white",
            "linecolor": "white",
            "ticks": ""
           },
           "bgcolor": "#E5ECF6",
           "radialaxis": {
            "gridcolor": "white",
            "linecolor": "white",
            "ticks": ""
           }
          },
          "scene": {
           "xaxis": {
            "backgroundcolor": "#E5ECF6",
            "gridcolor": "white",
            "gridwidth": 2,
            "linecolor": "white",
            "showbackground": true,
            "ticks": "",
            "zerolinecolor": "white"
           },
           "yaxis": {
            "backgroundcolor": "#E5ECF6",
            "gridcolor": "white",
            "gridwidth": 2,
            "linecolor": "white",
            "showbackground": true,
            "ticks": "",
            "zerolinecolor": "white"
           },
           "zaxis": {
            "backgroundcolor": "#E5ECF6",
            "gridcolor": "white",
            "gridwidth": 2,
            "linecolor": "white",
            "showbackground": true,
            "ticks": "",
            "zerolinecolor": "white"
           }
          },
          "shapedefaults": {
           "line": {
            "color": "#2a3f5f"
           }
          },
          "ternary": {
           "aaxis": {
            "gridcolor": "white",
            "linecolor": "white",
            "ticks": ""
           },
           "baxis": {
            "gridcolor": "white",
            "linecolor": "white",
            "ticks": ""
           },
           "bgcolor": "#E5ECF6",
           "caxis": {
            "gridcolor": "white",
            "linecolor": "white",
            "ticks": ""
           }
          },
          "title": {
           "x": 0.05
          },
          "xaxis": {
           "automargin": true,
           "gridcolor": "white",
           "linecolor": "white",
           "ticks": "",
           "title": {
            "standoff": 15
           },
           "zerolinecolor": "white",
           "zerolinewidth": 2
          },
          "yaxis": {
           "automargin": true,
           "gridcolor": "white",
           "linecolor": "white",
           "ticks": "",
           "title": {
            "standoff": 15
           },
           "zerolinecolor": "white",
           "zerolinewidth": 2
          }
         }
        },
        "xaxis": {
         "anchor": "y",
         "domain": [
          0,
          1
         ],
         "title": {
          "text": "BIP pro Kopf"
         }
        },
        "yaxis": {
         "anchor": "x",
         "domain": [
          0,
          1
         ],
         "title": {
          "text": "Lebenserwartung"
         }
        }
       }
      }
     },
     "metadata": {},
     "output_type": "display_data"
    }
   ],
   "source": [
    "import plotly.express as px\n",
    "\n",
    "df = px.data.gapminder()\n",
    "\n",
    "df.columns = [\"Land\",\"Kontinent\",\"Jahr\", \"Lebenserwartung\", \"Bevölkerung\",\"BIP pro Kopf\",\"ISO Alpha\", \"ISO Num\"]\n",
    "\n",
    "df_ab2000 = df[df[\"Jahr\"] > 2000]\n",
    "\n",
    "fig_ab2000 = px.scatter(df_ab2000, x=\"BIP pro Kopf\", y=\"Lebenserwartung\")\n",
    "                        \n",
    "fig_ab2000.show()"
   ]
  }
 ],
 "metadata": {
  "kernelspec": {
   "display_name": "Python 3",
   "language": "python",
   "name": "python3"
  },
  "language_info": {
   "codemirror_mode": {
    "name": "ipython",
    "version": 3
   },
   "file_extension": ".py",
   "mimetype": "text/x-python",
   "name": "python",
   "nbconvert_exporter": "python",
   "pygments_lexer": "ipython3",
   "version": "3.13.3"
  }
 },
 "nbformat": 4,
 "nbformat_minor": 5
}
